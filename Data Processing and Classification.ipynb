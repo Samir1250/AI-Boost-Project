{
 "cells": [
  {
   "cell_type": "code",
   "execution_count": 0,
   "metadata": {
    "application/vnd.databricks.v1+cell": {
     "cellMetadata": {
      "byteLimit": 2048000,
      "rowLimit": 10000
     },
     "inputWidgets": {},
     "nuid": "77b0e840-45e4-408e-bcfb-badc87971953",
     "showTitle": false,
     "tableResultSettingsMap": {},
     "title": ""
    }
   },
   "outputs": [],
   "source": [
    "# Define the file paths\n",
    "feedback_file_path = \"/mnt/AI-Boost-Project/feedback.csv\"\n",
    "product_usage_file_path = \"/mnt/AI-Boost-Project/product_usage.csv\""
   ]
  },
  {
   "cell_type": "code",
   "execution_count": 0,
   "metadata": {
    "application/vnd.databricks.v1+cell": {
     "cellMetadata": {
      "byteLimit": 2048000,
      "rowLimit": 10000
     },
     "inputWidgets": {},
     "nuid": "1d2307e1-6cc6-4fc1-a399-8f88cae11d19",
     "showTitle": false,
     "tableResultSettingsMap": {},
     "title": ""
    }
   },
   "outputs": [],
   "source": [
    "# Load the files as DataFrames\n",
    "feedback_df = spark.read.format(\"csv\").option(\"header\", \"true\").option(\"inferSchema\", \"true\").load(feedback_file_path)\n",
    "product_usage_df = spark.read.format(\"csv\").option(\"header\", \"true\").option(\"inferSchema\", \"true\").load(product_usage_file_path)"
   ]
  },
  {
   "cell_type": "code",
   "execution_count": 0,
   "metadata": {
    "application/vnd.databricks.v1+cell": {
     "cellMetadata": {
      "byteLimit": 2048000,
      "rowLimit": 10000
     },
     "inputWidgets": {},
     "nuid": "c069ebc4-be1d-4856-a2e2-646e73ddb291",
     "showTitle": false,
     "tableResultSettingsMap": {},
     "title": ""
    }
   },
   "outputs": [
    {
     "output_type": "display_data",
     "data": {
      "text/html": [
       "<style scoped>\n",
       "  .table-result-container {\n",
       "    max-height: 300px;\n",
       "    overflow: auto;\n",
       "  }\n",
       "  table, th, td {\n",
       "    border: 1px solid black;\n",
       "    border-collapse: collapse;\n",
       "  }\n",
       "  th, td {\n",
       "    padding: 5px;\n",
       "  }\n",
       "  th {\n",
       "    text-align: left;\n",
       "  }\n",
       "</style><div class='table-result-container'><table class='table-result'><thead style='background-color: white'><tr><th>customer_id</th><th>created_at</th><th>id</th><th>message</th><th>last_login</th><th>feature_usage_count</th><th>total_spend</th><th>subscription_tier</th><th>advance_attempts_30d</th><th>advance_approvals_30d</th></tr></thead><tbody><tr><td>cust_00162</td><td>2025-07-17T21:13:58.000Z</td><td>d47cb39f-0909-4618-9e96-13bd2c99d192</td><td>Great app, the budgeting tips helped me.</td><td>2025-08-17T06:25:35.000Z</td><td>3</td><td>37.83</td><td>plus</td><td>0</td><td>0</td></tr><tr><td>cust_00170</td><td>2025-06-26T05:01:35.000Z</td><td>3ee730bb-ff32-4789-97a1-272527aa4604</td><td>Chime won’t connect even after multiple tries.</td><td>2025-08-10T06:27:54.000Z</td><td>1</td><td>54.37</td><td>free</td><td>0</td><td>0</td></tr><tr><td>cust_00139</td><td>2025-07-31T19:52:54.000Z</td><td>487a615e-7312-4a00-9902-985d8f9d875f</td><td>Chime connection keeps timing out during link.</td><td>2025-06-20T10:51:54.000Z</td><td>2</td><td>20.73</td><td>free</td><td>0</td><td>0</td></tr><tr><td>cust_00731</td><td>2025-07-31T01:10:34.000Z</td><td>b00a4cb3-b713-4d5f-8c82-ad2336b70ba3</td><td>Verification failed 3 times—what should I do?</td><td>2025-07-17T23:10:53.000Z</td><td>6</td><td>8.87</td><td>plus</td><td>2</td><td>1</td></tr><tr><td>cust_00465</td><td>2025-08-15T05:31:57.000Z</td><td>92f68c16-452e-4ab4-a5c8-97f577778284</td><td>I keep getting denied without explanation.</td><td>2025-07-25T15:02:27.000Z</td><td>1</td><td>65.65</td><td>free</td><td>0</td><td>0</td></tr><tr><td>cust_00873</td><td>2025-07-26T06:56:43.000Z</td><td>118e3f62-dd8c-48c3-84e7-66d084d4ef07</td><td>Performance is worse after the last update.</td><td>2025-07-30T07:13:40.000Z</td><td>1</td><td>45.11</td><td>free</td><td>5</td><td>2</td></tr><tr><td>cust_00103</td><td>2025-06-26T06:09:30.000Z</td><td>cf888eb3-5740-4854-bbdd-d71d26b7d71f</td><td>Stop sending me repeated repayment notifications.</td><td>2025-07-10T05:40:27.000Z</td><td>4</td><td>12.55</td><td>plus</td><td>0</td><td>0</td></tr><tr><td>cust_00347</td><td>2025-07-30T18:46:12.000Z</td><td>c0309dba-ee84-4ff6-bcf4-cd07e44d7e17</td><td>Customer support was super helpful.</td><td>2025-08-22T17:42:11.000Z</td><td>4</td><td>28.46</td><td>free</td><td>0</td><td>0</td></tr><tr><td>cust_00676</td><td>2025-07-11T11:02:45.000Z</td><td>b6563ad9-d1e7-45fc-8678-308f14461612</td><td>Why does the selfie step repeat?</td><td>2025-07-27T09:57:04.000Z</td><td>1</td><td>26.75</td><td>pro</td><td>4</td><td>2</td></tr><tr><td>cust_00558</td><td>2025-08-13T16:28:26.000Z</td><td>c3a4c5a6-42dd-4ccc-ac55-6993008d3a56</td><td>My ID got rejected, but the image was clear.</td><td>2025-08-19T18:19:07.000Z</td><td>2</td><td>20.02</td><td>plus</td><td>5</td><td>3</td></tr><tr><td>cust_00001</td><td>2025-08-12T18:14:13.000Z</td><td>c0f2c169-705a-44cf-b8a1-5642eb958b4c</td><td>Can't pass identity check; it keeps resetting.</td><td>2025-07-09T11:32:48.000Z</td><td>4</td><td>56.64</td><td>free</td><td>0</td><td>0</td></tr><tr><td>cust_00027</td><td>2025-07-08T08:02:59.000Z</td><td>f65ef867-852f-4966-84dc-99307b75b933</td><td>App is slow on my Android phone.</td><td>2025-08-21T11:39:22.000Z</td><td>3</td><td>24.31</td><td>plus</td><td>4</td><td>2</td></tr><tr><td>cust_00612</td><td>2025-08-09T19:58:54.000Z</td><td>37426f83-ce1c-4c91-811e-f9eb33a35bd5</td><td>Please reduce the reminder frequency.</td><td>2025-08-19T02:31:29.000Z</td><td>4</td><td>20.48</td><td>free</td><td>0</td><td>0</td></tr><tr><td>cust_00179</td><td>2025-07-24T19:41:39.000Z</td><td>67e12156-faea-4b9c-9dfb-0f5e2a8e95cd</td><td>The reminders feel spammy.</td><td>2025-07-28T05:12:21.000Z</td><td>5</td><td>48.15</td><td>free</td><td>2</td><td>1</td></tr><tr><td>cust_00803</td><td>2025-07-20T19:03:16.000Z</td><td>13333018-45b7-43f4-8633-b5e794a64291</td><td>Chime won’t connect even after multiple tries.</td><td>2025-07-26T02:24:28.000Z</td><td>4</td><td>11.03</td><td>free</td><td>0</td><td>0</td></tr><tr><td>cust_00739</td><td>2025-07-28T01:17:11.000Z</td><td>b47be703-1501-4967-81fa-dffdd29866e7</td><td>I keep getting denied without explanation.</td><td>2025-08-02T20:22:42.000Z</td><td>3</td><td>23.8</td><td>free</td><td>0</td><td>0</td></tr><tr><td>cust_00094</td><td>2025-07-22T18:39:14.000Z</td><td>63e9de72-8c81-4cb8-8196-2d6f25b2ab2b</td><td>Chime connection keeps timing out during link.</td><td>2025-08-21T08:23:57.000Z</td><td>2</td><td>5.92</td><td>plus</td><td>0</td><td>0</td></tr><tr><td>cust_00611</td><td>2025-08-19T01:37:10.000Z</td><td>82f6737c-d766-4c56-b629-44945c43e48f</td><td>Way too many repayment reminders this week.</td><td>2025-07-26T23:01:12.000Z</td><td>1</td><td>156.78</td><td>free</td><td>0</td><td>0</td></tr><tr><td>cust_00147</td><td>2025-08-13T04:00:47.000Z</td><td>5245cf56-9a76-4e89-9ad3-9da8e96fb9c4</td><td>Can't pass identity check; it keeps resetting.</td><td>2025-08-21T10:32:44.000Z</td><td>2</td><td>7.16</td><td>free</td><td>3</td><td>2</td></tr><tr><td>cust_00782</td><td>2025-08-20T18:45:57.000Z</td><td>3e63073b-5671-4e27-bd19-3ae1a20f02d9</td><td>Please reduce the reminder frequency.</td><td>2025-08-16T05:16:13.000Z</td><td>4</td><td>23.73</td><td>plus</td><td>0</td><td>0</td></tr><tr><td>cust_00332</td><td>2025-08-06T09:48:04.000Z</td><td>fb423b07-34a3-4634-a5bb-0c99ef161782</td><td>I can't link my Chime account. It fails at verification.</td><td>2025-07-21T20:05:21.000Z</td><td>3</td><td>12.96</td><td>free</td><td>2</td><td>1</td></tr><tr><td>cust_00736</td><td>2025-07-19T19:34:17.000Z</td><td>0109fab3-48d1-4375-94af-3cad2f156489</td><td>Why is Chime link broken today?</td><td>2025-07-15T22:00:21.000Z</td><td>6</td><td>41.75</td><td>plus</td><td>0</td><td>0</td></tr><tr><td>cust_00774</td><td>2025-07-29T02:40:49.000Z</td><td>5e38663c-1f55-4a32-9c7b-8656092ce553</td><td>Why does the selfie step repeat?</td><td>2025-08-13T03:06:09.000Z</td><td>4</td><td>62.96</td><td>plus</td><td>0</td><td>0</td></tr><tr><td>cust_00422</td><td>2025-07-01T09:55:26.000Z</td><td>9abf657e-a377-498f-9a92-ca18a43f1693</td><td>Scrolling is laggy on Android 13.</td><td>2025-08-14T20:15:12.000Z</td><td>1</td><td>39.49</td><td>free</td><td>1</td><td>0</td></tr><tr><td>cust_00521</td><td>2025-08-01T19:42:34.000Z</td><td>16fd7a78-885e-4f13-8870-356ad3b135bc</td><td>Thanks for the quick approval yesterday.</td><td>2025-08-01T11:38:59.000Z</td><td>4</td><td>41.96</td><td>free</td><td>2</td><td>1</td></tr><tr><td>cust_00195</td><td>2025-08-19T13:44:02.000Z</td><td>dcd39373-8a18-449b-a92c-a64460943149</td><td>I keep getting deined without explanation.</td><td>2025-08-16T23:15:31.000Z</td><td>2</td><td>56.98</td><td>plus</td><td>4</td><td>2</td></tr><tr><td>cust_00707</td><td>2025-07-02T16:44:14.000Z</td><td>e3359f5f-0da2-4f75-a988-db7c370cd1f4</td><td>Please clarify the approval criteria.</td><td>2025-07-12T05:27:47.000Z</td><td>1</td><td>12.39</td><td>plus</td><td>7</td><td>3</td></tr><tr><td>cust_00625</td><td>2025-06-16T10:17:41.000Z</td><td>c22b094e-4396-4e3d-9be7-5de3a2192d72</td><td>Why does the selfie step repeat?</td><td>2025-08-07T07:12:51.000Z</td><td>3</td><td>6.61</td><td>plus</td><td>1</td><td>0</td></tr><tr><td>cust_00696</td><td>2025-07-26T07:33:17.000Z</td><td>2aad0931-407f-41df-9820-a9fc883a08f1</td><td>The reminders feel spammy.</td><td>2025-07-27T10:57:17.000Z</td><td>3</td><td>21.51</td><td>free</td><td>4</td><td>2</td></tr><tr><td>cust_00056</td><td>2025-06-14T02:39:55.000Z</td><td>87485d65-56d3-4cd5-9667-5421ef7607a0</td><td>Why does the selfie step repeat?</td><td>2025-07-20T05:37:48.000Z</td><td>4</td><td>21.69</td><td>free</td><td>0</td><td>0</td></tr><tr><td>cust_00217</td><td>2025-07-09T17:36:36.000Z</td><td>6e99dd55-eda8-4aeb-946d-ef3e858f17e7</td><td>Stop sending me repeated repayment notifications.</td><td>2025-08-07T19:39:02.000Z</td><td>2</td><td>56.68</td><td>free</td><td>1</td><td>0</td></tr><tr><td>cust_00816</td><td>2025-08-20T16:33:38.000Z</td><td>6f8fd5f0-a981-43f8-972e-c889ca7c5e53</td><td>Performance is worse after the last update.</td><td>2025-06-25T06:52:48.000Z</td><td>2</td><td>20.89</td><td>free</td><td>0</td><td>0</td></tr><tr><td>cust_00554</td><td>2025-08-10T20:43:16.000Z</td><td>98432b13-e2c7-449d-9019-12c793efa4c2</td><td>Chime connection keeps timing out during link.</td><td>2025-06-30T13:37:59.000Z</td><td>5</td><td>34.48</td><td>free</td><td>1</td><td>0</td></tr><tr><td>cust_00078</td><td>2025-07-01T19:32:29.000Z</td><td>b0a12122-3df6-4560-9536-b7adb79663c8</td><td>The approval rules are unclear—got rejected again.</td><td>2025-08-14T08:21:37.000Z</td><td>4</td><td>32.14</td><td>plus</td><td>5</td><td>2</td></tr><tr><td>cust_00074</td><td>2025-07-05T19:49:38.000Z</td><td>6b90cc40-e75a-4eba-99e7-5df1c802c8e9</td><td>Verification failed 3 times—what should I do?</td><td>2025-07-05T14:39:32.000Z</td><td>2</td><td>117.49</td><td>free</td><td>1</td><td>1</td></tr><tr><td>cust_00831</td><td>2025-07-23T21:09:31.000Z</td><td>e93b5baf-d8a7-4b1d-ba41-256611da571e</td><td>Chime won’t connect even after multiple tries.</td><td>2025-06-25T01:28:32.000Z</td><td>6</td><td>38.41</td><td>free</td><td>1</td><td>0</td></tr><tr><td>cust_00111</td><td>2025-06-25T02:51:51.000Z</td><td>232bd7e7-b3e1-49fe-83d7-d4a340a25187</td><td>Crashes when I open the Advance screen.</td><td>2025-07-14T06:23:50.000Z</td><td>3</td><td>20.16</td><td>pro</td><td>3</td><td>2</td></tr><tr><td>cust_00734</td><td>2025-08-03T18:09:19.000Z</td><td>d9209425-5621-4de0-9512-2ae0a1484227</td><td>I keep getting denied without explanation.</td><td>2025-08-14T20:54:08.000Z</td><td>4</td><td>49.32</td><td>free</td><td>3</td><td>1</td></tr><tr><td>cust_00843</td><td>2025-07-28T03:42:41.000Z</td><td>5d4d820c-974f-4cf7-9f9b-3dcbfa4f4a04</td><td>I keep getting denied without explanation.</td><td>2025-07-30T23:04:36.000Z</td><td>4</td><td>23.4</td><td>plus</td><td>0</td><td>0</td></tr><tr><td>cust_00873</td><td>2025-07-16T20:53:17.000Z</td><td>5c0b24ba-66f7-4cad-845f-92cac1ae5c04</td><td>Can't pass identity check; it keeps resetting.</td><td>2025-07-30T07:13:40.000Z</td><td>1</td><td>45.11</td><td>free</td><td>5</td><td>2</td></tr><tr><td>cust_00611</td><td>2025-07-18T10:47:07.000Z</td><td>fc8295d5-be73-4d21-86bb-7697046f7fe0</td><td>Scrolling is laggy on Android 13.</td><td>2025-07-26T23:01:12.000Z</td><td>1</td><td>156.78</td><td>free</td><td>0</td><td>0</td></tr><tr><td>cust_00554</td><td>2025-07-27T00:33:10.000Z</td><td>802d1904-ba5a-4de7-b238-0a04c0b2cb05</td><td>Performance is worse after the last updat.e</td><td>2025-06-30T13:37:59.000Z</td><td>5</td><td>34.48</td><td>free</td><td>1</td><td>0</td></tr><tr><td>cust_00734</td><td>2025-07-28T19:14:05.000Z</td><td>ec2bd933-4f44-4efb-9926-b2254ae253bc</td><td>Great app, the budgeting tips helped me.</td><td>2025-08-14T20:54:08.000Z</td><td>4</td><td>49.32</td><td>free</td><td>3</td><td>1</td></tr><tr><td>cust_00843</td><td>2025-07-19T23:28:33.000Z</td><td>ccc3e0f1-b47d-4737-bfee-753aa8ddf632</td><td>Linking to Chime returns a nerror code 102.</td><td>2025-07-30T23:04:36.000Z</td><td>4</td><td>23.4</td><td>plus</td><td>0</td><td>0</td></tr><tr><td>cust_00554</td><td>2025-07-11T17:46:41.000Z</td><td>86496640-530f-4293-8278-8ef339744497</td><td>I keep getting denied without explanation.</td><td>2025-06-30T13:37:59.000Z</td><td>5</td><td>34.48</td><td>free</td><td>1</td><td>0</td></tr><tr><td>cust_00164</td><td>2025-08-10T05:04:18.000Z</td><td>533de83d-900c-4606-b92b-122224ff9219</td><td>Why was my advance denied? I meet the criteria.</td><td>null</td><td>null</td><td>null</td><td>null</td><td>null</td><td>null</td></tr><tr><td>cust_00631</td><td>2025-06-29T00:02:52.000Z</td><td>6f052e7f-b4e5-424e-8d0d-4891d900fba5</td><td>Loving the instant access to cash—thanks!</td><td>null</td><td>null</td><td>null</td><td>null</td><td>null</td><td>null</td></tr><tr><td>cust_00462</td><td>2025-07-07T20:01:42.000Z</td><td>93934003-0282-4ee7-827f-eb7e074c3d96</td><td>App is slow on my Android phone.</td><td>null</td><td>null</td><td>null</td><td>null</td><td>null</td><td>null</td></tr><tr><td>cust_00483</td><td>2025-08-14T23:54:39.000Z</td><td>10d7aa57-b533-4b3a-92a9-ac4712b8d54e</td><td>Loving the instant access to cash—thanks!</td><td>null</td><td>null</td><td>null</td><td>null</td><td>null</td><td>null</td></tr><tr><td>cust_00081</td><td>2025-07-13T20:32:35.000Z</td><td>1b300ee6-e097-41d9-9361-2941671c8bb9</td><td>The approval rules are unclear—got rejected again.</td><td>null</td><td>null</td><td>null</td><td>null</td><td>null</td><td>null</td></tr><tr><td>cust_00812</td><td>2025-06-18T13:46:20.000Z</td><td>facfedea-ec00-404a-b882-b7ef3d9f3272</td><td>Crashes when I open the Advance screen.</td><td>null</td><td>null</td><td>null</td><td>null</td><td>null</td><td>null</td></tr><tr><td>cust_00812</td><td>2025-06-28T03:11:07.000Z</td><td>953dade6-d599-4fab-a67c-260b82ecfd15</td><td>Requirements seem too strict for small advances.</td><td>null</td><td>null</td><td>null</td><td>null</td><td>null</td><td>null</td></tr><tr><td>cust_00522</td><td>2025-06-20T17:44:43.000Z</td><td>6705b233-271a-48e7-b73a-952bda9e764b</td><td>Customer support was super helpful.</td><td>null</td><td>null</td><td>null</td><td>null</td><td>null</td><td>null</td></tr><tr><td>cust_00015</td><td>2025-08-12T02:45:25.000Z</td><td>4cab85ed-0301-4312-84cc-252255697d4b</td><td>Crashes when I open the Advance screen.</td><td>null</td><td>null</td><td>null</td><td>null</td><td>null</td><td>null</td></tr><tr><td>cust_00764</td><td>2025-08-19T14:00:43.000Z</td><td>0de98ca1-6b69-45c3-b94c-a756d242572c</td><td>App is slow on my Android phone.</td><td>null</td><td>null</td><td>null</td><td>null</td><td>null</td><td>null</td></tr><tr><td>cust_00306</td><td>2025-07-01T08:16:20.000Z</td><td>84b88b9b-b13f-422a-a0f0-e689bd32c232</td><td>Way too many repayment reminders this week.</td><td>null</td><td>null</td><td>null</td><td>null</td><td>null</td><td>null</td></tr><tr><td>cust_00306</td><td>2025-08-08T21:26:20.000Z</td><td>2dd1c3b3-2477-4b3f-9139-9dbd73ef9577</td><td>Why was my advance denied? I meet the criteria.</td><td>null</td><td>null</td><td>null</td><td>null</td><td>null</td><td>null</td></tr><tr><td>cust_00216</td><td>2025-07-13T22:16:38.000Z</td><td>3b51a716-b11a-42fa-87d9-8873650971b9</td><td>Why was my advance denied? I meet the criteria.</td><td>null</td><td>null</td><td>null</td><td>null</td><td>null</td><td>null</td></tr><tr><td>cust_00067</td><td>2025-06-18T23:41:59.000Z</td><td>da96a915-3cde-4802-837d-832790a34d67</td><td>Requirements seem too strict for small advances.</td><td>null</td><td>null</td><td>null</td><td>null</td><td>null</td><td>null</td></tr><tr><td>cust_00580</td><td>2025-07-12T15:55:15.000Z</td><td>0db887a0-2e59-4a5d-88dc-dc43d0229fa9</td><td>Chime won’t connect even after multiple tries.</td><td>null</td><td>null</td><td>null</td><td>null</td><td>null</td><td>null</td></tr><tr><td>cust_00088</td><td>2025-06-28T17:31:58.000Z</td><td>bb4f3463-3123-462b-9e38-36295933d2de</td><td>Why is Chime link broken today?</td><td>null</td><td>null</td><td>null</td><td>null</td><td>null</td><td>null</td></tr><tr><td>cust_00088</td><td>2025-08-21T01:51:35.000Z</td><td>602226dc-4a94-4eb5-9bd5-9bd3bba716a5</td><td>Thanks for teh quick approval yesterday.</td><td>null</td><td>null</td><td>null</td><td>null</td><td>null</td><td>null</td></tr><tr><td>cust_00102</td><td>2025-07-27T01:08:26.000Z</td><td>0c04369a-fb6d-4fd5-b7a3-b9a97122b27f</td><td>I’m getting multiple texts about the same payment.</td><td>null</td><td>null</td><td>null</td><td>null</td><td>null</td><td>null</td></tr><tr><td>cust_00102</td><td>2025-08-04T12:16:13.000Z</td><td>0d8eb877-1edb-4c07-9469-e4c317b1516f</td><td>Please clarify the approval criteria.</td><td>null</td><td>null</td><td>null</td><td>null</td><td>null</td><td>null</td></tr><tr><td>cust_00112</td><td>2025-06-23T13:18:48.000Z</td><td>1225f91e-8a13-4bdd-b34b-c4503aeb467d</td><td>Linking to Chime returns an error code 102.</td><td>null</td><td>null</td><td>null</td><td>null</td><td>null</td><td>null</td></tr><tr><td>cust_00291</td><td>2025-08-02T15:06:18.000Z</td><td>73be6215-8c36-42e8-a8e8-7eae3327a1fc</td><td>I’m getting multiple texts about the same payment.</td><td>null</td><td>null</td><td>null</td><td>null</td><td>null</td><td>null</td></tr><tr><td>cust_00176</td><td>2025-07-04T08:10:12.000Z</td><td>1c34dbdc-9e9b-4def-8f62-39342b85688a</td><td>Stuck in an ID verification loop—keeps asking again.</td><td>null</td><td>null</td><td>null</td><td>null</td><td>null</td><td>null</td></tr><tr><td>cust_00223</td><td>2025-07-23T14:57:44.000Z</td><td>b9ae5e1d-10be-4333-8f56-f1b4d2d5a530</td><td>Customer support was suepr helpful.</td><td>null</td><td>null</td><td>null</td><td>null</td><td>null</td><td>null</td></tr><tr><td>cust_00661</td><td>2025-07-14T12:05:05.000Z</td><td>88e624f8-5738-46ae-beb0-45b1f152dbfc</td><td>Requirements seem too strict for small advances.</td><td>null</td><td>null</td><td>null</td><td>null</td><td>null</td><td>null</td></tr><tr><td>cust_00135</td><td>2025-07-26T22:00:48.000Z</td><td>79cc1ad8-a9ed-4123-8bef-d4a87f3aec66</td><td>Crashes when I open the Advance screen.</td><td>null</td><td>null</td><td>null</td><td>null</td><td>null</td><td>null</td></tr><tr><td>cust_00659</td><td>2025-06-18T05:01:52.000Z</td><td>c4cbdf34-ed89-4c24-9967-09760d817cff</td><td>Why does the selfie step repeat?</td><td>null</td><td>null</td><td>null</td><td>null</td><td>null</td><td>null</td></tr><tr><td>cust_00659</td><td>2025-07-04T15:26:20.000Z</td><td>d3fe44e4-7abd-4bd1-96f7-f92468be7d0e</td><td>Can't pass identity check; it keeps resetting.</td><td>null</td><td>null</td><td>null</td><td>null</td><td>null</td><td>null</td></tr><tr><td>cust_00232</td><td>2025-06-25T04:20:53.000Z</td><td>cb9fdb45-0a42-4d5c-84e9-30a37da5224b</td><td>Way too many repayment reminders this week.</td><td>null</td><td>null</td><td>null</td><td>null</td><td>null</td><td>null</td></tr><tr><td>cust_00271</td><td>2025-07-11T10:45:53.000Z</td><td>95183176-cf83-4e2c-bed6-7f7d7d836385</td><td>Can't pass idetnity check; it keeps resetting.</td><td>null</td><td>null</td><td>null</td><td>null</td><td>null</td><td>null</td></tr><tr><td>cust_00466</td><td>2025-07-01T15:26:33.000Z</td><td>65b580c5-28dc-45fb-a1b9-e66812a40c02</td><td>Chime won’t connect even after multiple tries.</td><td>null</td><td>null</td><td>null</td><td>null</td><td>null</td><td>null</td></tr><tr><td>cust_00715</td><td>2025-07-10T15:10:30.000Z</td><td>3f48f498-674e-4e7b-b227-baf4cef24361</td><td>I can't link my Chime account. It fails at verification.</td><td>null</td><td>null</td><td>null</td><td>null</td><td>null</td><td>null</td></tr><tr><td>cust_00043</td><td>2025-07-19T20:19:08.000Z</td><td>e64cee44-2742-4c34-af8c-e3588897cdbd</td><td>I’m getting multiple texts about the same payment.</td><td>null</td><td>null</td><td>null</td><td>null</td><td>null</td><td>null</td></tr><tr><td>cust_00243</td><td>2025-07-23T10:54:40.000Z</td><td>9a530be1-8e26-4cc0-8fe9-434c2db01903</td><td>Great app, the budgeting tips helped me.</td><td>null</td><td>null</td><td>null</td><td>null</td><td>null</td><td>null</td></tr><tr><td>cust_00038</td><td>2025-07-21T00:18:58.000Z</td><td>f1ce26d1-4a0f-4ad9-ae8c-46d141e570c0</td><td>Chime connection keeps timing out during link.</td><td>null</td><td>null</td><td>null</td><td>null</td><td>null</td><td>null</td></tr><tr><td>cust_00250</td><td>2025-08-15T02:06:35.000Z</td><td>08fe0d27-2986-404d-afbc-91d54e284cc5</td><td>Stuck in an ID verifiaction loop—keeps asking again.</td><td>null</td><td>null</td><td>null</td><td>null</td><td>null</td><td>null</td></tr><tr><td>cust_00240</td><td>2025-07-02T07:34:30.000Z</td><td>13d38c44-8bb0-4237-b7f4-010a5d853d8e</td><td>Great app, the budgeting tips helped me.</td><td>null</td><td>null</td><td>null</td><td>null</td><td>null</td><td>null</td></tr><tr><td>cust_00864</td><td>2025-08-15T03:17:27.000Z</td><td>e444a275-8b5c-4858-9c8e-96f912c043de</td><td>My ID got rejected, but the image was clear.</td><td>null</td><td>null</td><td>null</td><td>null</td><td>null</td><td>null</td></tr><tr><td>cust_00169</td><td>2025-07-30T17:37:47.000Z</td><td>5afc4491-a37f-46f6-9c69-44d6fac1e6c7</td><td>Requirements seem too strict for small advances.</td><td>null</td><td>null</td><td>null</td><td>null</td><td>null</td><td>null</td></tr><tr><td>cust_00807</td><td>2025-08-18T00:58:48.000Z</td><td>031161ab-50ae-4b5e-958d-de4dad8559d2</td><td>Crashes when I open the Advance screen.</td><td>null</td><td>null</td><td>null</td><td>null</td><td>null</td><td>null</td></tr><tr><td>cust_00591</td><td>2025-07-14T10:54:16.000Z</td><td>0cb04698-896c-4dd6-bec8-69b5e8706e65</td><td>Stop sending me repeated repayment notifications.</td><td>null</td><td>null</td><td>null</td><td>null</td><td>null</td><td>null</td></tr><tr><td>cust_00810</td><td>2025-07-08T02:18:36.000Z</td><td>5c162e61-1229-44d9-989b-f1a9f6f46644</td><td>Chime won’t connect even after multiple tries.</td><td>null</td><td>null</td><td>null</td><td>null</td><td>null</td><td>null</td></tr><tr><td>cust_00151</td><td>2025-07-06T19:16:00.000Z</td><td>2fb31dfb-9f52-42cb-920e-d6d722f1d833</td><td>My ID got rejected, but the image was clear.</td><td>null</td><td>null</td><td>null</td><td>null</td><td>null</td><td>null</td></tr><tr><td>cust_00781</td><td>2025-06-14T07:32:43.000Z</td><td>d704af82-a1cf-4dce-9685-bb53a818cf8c</td><td>Customer support was super helpful.</td><td>null</td><td>null</td><td>null</td><td>null</td><td>null</td><td>null</td></tr><tr><td>cust_00781</td><td>2025-08-15T00:50:36.000Z</td><td>e1dc771a-dca0-4fb1-8a4c-7abef1e9490b</td><td>I’m getting multiple texts about the same payment.</td><td>null</td><td>null</td><td>null</td><td>null</td><td>null</td><td>null</td></tr><tr><td>cust_00869</td><td>2025-08-17T11:46:09.000Z</td><td>63d931c0-7ee9-4976-8c1c-329edd6bb960</td><td>Thanks for the quick approval yesterday.</td><td>null</td><td>null</td><td>null</td><td>null</td><td>null</td><td>null</td></tr><tr><td>cust_00641</td><td>2025-07-02T05:04:56.000Z</td><td>be803787-f6aa-4093-aa2b-064e50e2e62d</td><td>Stop sending me repeated repayment notifications.</td><td>null</td><td>null</td><td>null</td><td>null</td><td>null</td><td>null</td></tr><tr><td>cust_00463</td><td>2025-08-18T05:07:38.000Z</td><td>5a064d7a-1094-4758-b83d-99c34f831b00</td><td>Can't pass identity check; it keeps resetting.</td><td>null</td><td>null</td><td>null</td><td>null</td><td>null</td><td>null</td></tr><tr><td>cust_00647</td><td>2025-08-06T18:42:50.000Z</td><td>36c921f4-8dc0-46fb-aa27-9faf97c1a63f</td><td>The approval rules are unclear—got rejected aagin.</td><td>null</td><td>null</td><td>null</td><td>null</td><td>null</td><td>null</td></tr><tr><td>cust_00577</td><td>2025-07-13T03:01:37.000Z</td><td>4e580c45-3ae7-464d-808a-3db900e039db</td><td>Way too many repayment reminders this week.</td><td>null</td><td>null</td><td>null</td><td>null</td><td>null</td><td>null</td></tr><tr><td>cust_00562</td><td>2025-07-26T23:15:14.000Z</td><td>7c085fe7-cd80-4a32-8748-47ac2e62654b</td><td>Why does the selfie step repeat?</td><td>null</td><td>null</td><td>null</td><td>null</td><td>null</td><td>null</td></tr><tr><td>cust_00197</td><td>2025-07-23T15:36:28.000Z</td><td>c5af3aa3-074b-42d1-a069-d9f4d2f315bd</td><td>Linking to Chime returns an error code 102.</td><td>null</td><td>null</td><td>null</td><td>null</td><td>null</td><td>null</td></tr><tr><td>cust_00258</td><td>2025-07-17T06:57:08.000Z</td><td>610a967d-5595-465e-97ee-cdcacf489018</td><td>Linking to Chime returns an error code 102.</td><td>null</td><td>null</td><td>null</td><td>null</td><td>null</td><td>null</td></tr><tr><td>cust_00392</td><td>2025-07-01T11:32:46.000Z</td><td>b89f8868-fcbd-489f-b7df-da6e6ca238ab</td><td>I can't link my Chime account. It fails at verification.</td><td>null</td><td>null</td><td>null</td><td>null</td><td>null</td><td>null</td></tr><tr><td>cust_00419</td><td>2025-08-14T15:08:20.000Z</td><td>1dc63b62-6664-4e24-a5a8-d7a9ac0648f7</td><td>App is slow on my Android phone.</td><td>null</td><td>null</td><td>null</td><td>null</td><td>null</td><td>null</td></tr><tr><td>cust_00609</td><td>2025-07-06T20:02:53.000Z</td><td>c091972e-d0e5-4e62-86a3-5dbc6b61d7ae</td><td>Stop sending me repeated repayment notifications.</td><td>null</td><td>null</td><td>null</td><td>null</td><td>null</td><td>null</td></tr><tr><td>cust_00852</td><td>2025-07-15T17:35:21.000Z</td><td>ebf5c9c3-1ba2-47b3-b0b8-ea29e48013a5</td><td>Requirements seem too strict for small advances.</td><td>null</td><td>null</td><td>null</td><td>null</td><td>null</td><td>null</td></tr><tr><td>cust_00152</td><td>2025-08-09T22:21:17.000Z</td><td>12fa06be-fcc6-4a1a-aef9-2f19c8f65aa1</td><td>The approval rules are unclear—got rejected again.</td><td>null</td><td>null</td><td>null</td><td>null</td><td>null</td><td>null</td></tr><tr><td>cust_00806</td><td>2025-06-17T17:07:44.000Z</td><td>55e6b834-c6b9-41b3-9bd8-1e8a68bd5670</td><td>Chime won’t connect even after multiple tries.</td><td>null</td><td>null</td><td>null</td><td>null</td><td>null</td><td>null</td></tr><tr><td>cust_00784</td><td>2025-08-09T16:59:13.000Z</td><td>0808a256-897e-44bd-95a0-fe6948767897</td><td>Loving the instant access to cash—thanks!</td><td>null</td><td>null</td><td>null</td><td>null</td><td>null</td><td>null</td></tr><tr><td>cust_00735</td><td>2025-08-06T17:05:16.000Z</td><td>aa171e9c-f30b-44cb-acd8-2f1612ceed5a</td><td>Linking to Chime returns an error code 102.</td><td>null</td><td>null</td><td>null</td><td>null</td><td>null</td><td>null</td></tr><tr><td>cust_00643</td><td>2025-07-08T07:59:09.000Z</td><td>0b9e1b64-7d1c-46c3-a483-1c2302b7e921</td><td>My ID got rejected, but the image was clear.</td><td>null</td><td>null</td><td>null</td><td>null</td><td>null</td><td>null</td></tr><tr><td>cust_00619</td><td>2025-07-16T16:18:19.000Z</td><td>8422ed35-304a-410a-a57c-bc4712aa6bb1</td><td>Chime won’t connect evne after multiple tries.</td><td>null</td><td>null</td><td>null</td><td>null</td><td>null</td><td>null</td></tr><tr><td>cust_00841</td><td>2025-07-03T09:01:18.000Z</td><td>8a54f048-bb13-4999-90ec-8892738d21cb</td><td>The app freezes after login on Android.</td><td>null</td><td>null</td><td>null</td><td>null</td><td>null</td><td>null</td></tr><tr><td>cust_00495</td><td>2025-07-12T08:04:12.000Z</td><td>0189deab-18b2-4b68-b6bd-ee6b64623a08</td><td>Please reduce the reminder frequency.</td><td>null</td><td>null</td><td>null</td><td>null</td><td>null</td><td>null</td></tr><tr><td>cust_00683</td><td>2025-06-26T02:22:52.000Z</td><td>5a0a3a8d-507d-4b0b-a066-e6282e4cade0</td><td>Verification failed 3 times—what should I do?</td><td>null</td><td>null</td><td>null</td><td>null</td><td>null</td><td>null</td></tr><tr><td>cust_00683</td><td>2025-07-06T13:01:17.000Z</td><td>924542f6-c1ac-400e-8574-945195baad81</td><td>Please reduce the reminder frequency.</td><td>null</td><td>null</td><td>null</td><td>null</td><td>null</td><td>null</td></tr><tr><td>cust_00646</td><td>2025-07-11T23:08:23.000Z</td><td>2340621b-baa4-43ae-999c-a87cb7b2d337</td><td>The reminders feel spammy.</td><td>null</td><td>null</td><td>null</td><td>null</td><td>null</td><td>null</td></tr><tr><td>cust_00385</td><td>2025-08-09T04:24:59.000Z</td><td>ac2d78eb-975c-431c-8a6d-59de5e49fac2</td><td>Linking to Chime returns an error code 102.</td><td>null</td><td>null</td><td>null</td><td>null</td><td>null</td><td>null</td></tr><tr><td>cust_00636</td><td>2025-07-12T20:51:58.000Z</td><td>1437cfab-3214-4c8b-a79e-0b45341cb627</td><td>The app freezes after login on Android.</td><td>null</td><td>null</td><td>null</td><td>null</td><td>null</td><td>null</td></tr><tr><td>cust_00636</td><td>2025-08-11T22:32:50.000Z</td><td>5d7342cf-8366-4853-ab1e-8d7ba4cbf289</td><td>Crashes when I open the Advance screen.</td><td>null</td><td>null</td><td>null</td><td>null</td><td>null</td><td>null</td></tr><tr><td>cust_00325</td><td>2025-07-15T21:35:47.000Z</td><td>f2634a37-ccd4-4d88-9bd6-fc317c91a941</td><td>Performance is worse after the last update.</td><td>null</td><td>null</td><td>null</td><td>null</td><td>null</td><td>null</td></tr><tr><td>cust_00855</td><td>2025-06-14T22:30:55.000Z</td><td>14040265-b6de-42e0-bd78-02c017fa57cd</td><td>Chime connection keeps timing out during link.</td><td>null</td><td>null</td><td>null</td><td>null</td><td>null</td><td>null</td></tr><tr><td>cust_00280</td><td>2025-08-06T00:33:49.000Z</td><td>3dc15d8b-3f10-4970-af0a-b6bb47d115a0</td><td>Crashes when I open the Advance screen.</td><td>null</td><td>null</td><td>null</td><td>null</td><td>null</td><td>null</td></tr><tr><td>cust_00073</td><td>2025-06-19T17:10:08.000Z</td><td>111f3187-e3c7-4e20-9502-a8d3fa843cca</td><td>Why was my advance denied? I meet the criteria.</td><td>null</td><td>null</td><td>null</td><td>null</td><td>null</td><td>null</td></tr><tr><td>cust_00037</td><td>2025-08-13T20:31:52.000Z</td><td>55333ce6-4822-4305-8d46-62c1ea1d16ad</td><td>Can't pass identity check; it keeps resetting.</td><td>null</td><td>null</td><td>null</td><td>null</td><td>null</td><td>null</td></tr><tr><td>cust_00189</td><td>2025-08-08T17:38:59.000Z</td><td>2d74e018-e1e4-4e2e-b7ff-1cb2d03596d8</td><td>Requirements seem too strict for small advances.</td><td>null</td><td>null</td><td>null</td><td>null</td><td>null</td><td>null</td></tr><tr><td>cust_00136</td><td>2025-06-23T16:57:23.000Z</td><td>18a87ea7-1028-4c2b-b2e7-95e42772976e</td><td>Chime connection keeps timing out during link.</td><td>null</td><td>null</td><td>null</td><td>null</td><td>null</td><td>null</td></tr><tr><td>cust_00136</td><td>2025-08-02T22:03:14.000Z</td><td>7ae331c9-64f2-4773-a1b3-b10183722a63</td><td>Requirements seem too strict for small advances.</td><td>null</td><td>null</td><td>null</td><td>null</td><td>null</td><td>null</td></tr><tr><td>cust_00787</td><td>2025-06-16T08:53:55.000Z</td><td>314d119a-fe72-4435-93fb-57496ca262c5</td><td>Chime won’t connect even after multiple tries.</td><td>null</td><td>null</td><td>null</td><td>null</td><td>null</td><td>null</td></tr><tr><td>cust_00714</td><td>2025-06-21T01:41:07.000Z</td><td>82bdfb8f-098c-4a87-b689-7f520c14c4f9</td><td>Stop sending me repeated repayment notifications.</td><td>null</td><td>null</td><td>null</td><td>null</td><td>null</td><td>null</td></tr><tr><td>cust_00033</td><td>2025-06-23T22:48:51.000Z</td><td>88103244-c589-4e42-939d-ba3bf8ef2bac</td><td>Why does the eslfie step repeat?</td><td>null</td><td>null</td><td>null</td><td>null</td><td>null</td><td>null</td></tr><tr><td>cust_00013</td><td>2025-06-26T06:14:09.000Z</td><td>f13287ca-83f6-4c3b-b21a-bd0f5f7ec318</td><td>Can't pass identity check; it keeps resetting.</td><td>null</td><td>null</td><td>null</td><td>null</td><td>null</td><td>null</td></tr><tr><td>cust_00411</td><td>2025-06-19T10:19:41.000Z</td><td>ec70f407-c24f-4779-9940-21d6e3b8797f</td><td>Why was my advance denied? I meet the criteria.</td><td>null</td><td>null</td><td>null</td><td>null</td><td>null</td><td>null</td></tr><tr><td>cust_00411</td><td>2025-07-23T23:11:09.000Z</td><td>cc2699b3-5e6e-40d8-95dd-b55bc3aabadc</td><td>Verification failed 3 times—what should I do?</td><td>null</td><td>null</td><td>null</td><td>null</td><td>null</td><td>null</td></tr><tr><td>cust_00017</td><td>2025-06-26T19:06:25.000Z</td><td>1e6feb62-efa1-4fec-87bd-687db53e33bc</td><td>Chime connection keeps timing out during link.</td><td>null</td><td>null</td><td>null</td><td>null</td><td>null</td><td>null</td></tr><tr><td>cust_00506</td><td>2025-07-13T12:34:01.000Z</td><td>385cffca-7dd8-4fd5-a9b1-01fadf7aa0fb</td><td>Verification failed 3 times—what should I do?</td><td>null</td><td>null</td><td>null</td><td>null</td><td>null</td><td>null</td></tr><tr><td>cust_00704</td><td>2025-07-02T10:53:56.000Z</td><td>f7d30b97-423b-448f-9007-10cdaa56516c</td><td>Requirements seem too strict for samll advances.</td><td>null</td><td>null</td><td>null</td><td>null</td><td>null</td><td>null</td></tr><tr><td>cust_00330</td><td>2025-07-16T06:37:28.000Z</td><td>70e05c9f-ab63-4984-9fca-ed5cdce3b9d8</td><td>Stop sending me repeated repayment notifications.</td><td>null</td><td>null</td><td>null</td><td>null</td><td>null</td><td>null</td></tr><tr><td>cust_00330</td><td>2025-08-19T14:42:22.000Z</td><td>016b3073-1a71-4c78-b892-0bdf27afb124</td><td>Chimew on’t connect even after multiple tries.</td><td>null</td><td>null</td><td>null</td><td>null</td><td>null</td><td>null</td></tr><tr><td>cust_00604</td><td>2025-07-01T23:24:49.000Z</td><td>8d27938f-237b-4fa7-a81f-1d57a3a566d7</td><td>Chime won’t connect even after multiple tries.</td><td>null</td><td>null</td><td>null</td><td>null</td><td>null</td><td>null</td></tr><tr><td>cust_00071</td><td>2025-08-05T08:55:14.000Z</td><td>b68877ef-3b67-4d38-b38b-8d4a184c1387</td><td>Linking to Chime returns an error code 102.</td><td>null</td><td>null</td><td>null</td><td>null</td><td>null</td><td>null</td></tr><tr><td>cust_00269</td><td>2025-06-14T08:14:43.000Z</td><td>696393b6-b3db-4622-8841-67f49ca27a6a</td><td>The approval rules are unclear—got rejected again.</td><td>null</td><td>null</td><td>null</td><td>null</td><td>null</td><td>null</td></tr><tr><td>cust_00196</td><td>2025-07-29T20:20:06.000Z</td><td>e3730d85-2f16-4dd4-a1bf-26819a6b6fd9</td><td>Please clarify the approval criteria.</td><td>null</td><td>null</td><td>null</td><td>null</td><td>null</td><td>null</td></tr><tr><td>cust_00263</td><td>2025-06-25T02:31:48.000Z</td><td>2441296b-be06-42f1-98fa-42f07a53d8bf</td><td>My ID got rejected, but the image was clear.</td><td>null</td><td>null</td><td>null</td><td>null</td><td>null</td><td>null</td></tr><tr><td>cust_00602</td><td>2025-08-06T01:38:57.000Z</td><td>06a87994-9d14-4c3e-820a-67ee5ea16881</td><td>Chime won’t connect even after multiple tries.</td><td>null</td><td>null</td><td>null</td><td>null</td><td>null</td><td>null</td></tr><tr><td>cust_00314</td><td>2025-06-23T00:48:48.000Z</td><td>ac7192f8-e2c3-455f-b3d8-6b365b722575</td><td>Requirements seem too strict for small advances.</td><td>null</td><td>null</td><td>null</td><td>null</td><td>null</td><td>null</td></tr><tr><td>cust_00753</td><td>2025-07-21T20:43:05.000Z</td><td>6a6d3def-a332-43d6-9ab6-03c57e45c5e3</td><td>The app freezes after login on Android.</td><td>null</td><td>null</td><td>null</td><td>null</td><td>null</td><td>null</td></tr><tr><td>cust_00753</td><td>2025-07-26T12:02:07.000Z</td><td>65d6ccba-5b9f-48ff-863b-0eb8b63c7833</td><td>I can't link my Chime account. It fails at verification.</td><td>null</td><td>null</td><td>null</td><td>null</td><td>null</td><td>null</td></tr><tr><td>cust_00236</td><td>2025-08-01T05:26:30.000Z</td><td>50c565a0-28ac-4bd8-a3ef-32208c5d85aa</td><td>Scrolling is laggy on Android 13.</td><td>null</td><td>null</td><td>null</td><td>null</td><td>null</td><td>null</td></tr><tr><td>cust_00546</td><td>2025-06-22T07:34:13.000Z</td><td>ee478172-adc6-42d1-b639-fdeda74ee655</td><td>App is slow on my Android phone.</td><td>null</td><td>null</td><td>null</td><td>null</td><td>null</td><td>null</td></tr><tr><td>cust_00900</td><td>2025-07-15T11:19:18.000Z</td><td>b20f7392-0046-47f8-bba5-eee58fe632d5</td><td>Way too many repayment reminders this week.</td><td>null</td><td>null</td><td>null</td><td>null</td><td>null</td><td>null</td></tr><tr><td>cust_00575</td><td>2025-06-29T16:29:47.000Z</td><td>dd38ddc6-dee0-47d8-9551-f9055de9ed75</td><td>Performance is worse after the last update.</td><td>null</td><td>null</td><td>null</td><td>null</td><td>null</td><td>null</td></tr><tr><td>cust_00575</td><td>2025-07-28T13:11:08.000Z</td><td>2637ac57-1901-4017-b73f-a44a86ba8689</td><td>Chime connection keeps timing out during link.</td><td>null</td><td>null</td><td>null</td><td>null</td><td>null</td><td>null</td></tr><tr><td>cust_00614</td><td>2025-06-29T16:25:11.000Z</td><td>c4549767-f441-43d8-b342-26fa7e9c6f95</td><td>Stop sending me repeated repayment notifications.</td><td>null</td><td>null</td><td>null</td><td>null</td><td>null</td><td>null</td></tr><tr><td>cust_00205</td><td>2025-08-16T06:40:54.000Z</td><td>fcec19df-c5d3-466f-916e-cc9400b88e5f</td><td>I can't link my Chime account. It fails at verification.</td><td>null</td><td>null</td><td>null</td><td>null</td><td>null</td><td>null</td></tr><tr><td>cust_00473</td><td>2025-06-16T15:08:08.000Z</td><td>0fa25f1f-5de9-42f0-bd8d-4ad22d2edc24</td><td>Chime won’t connect even after multiple tries.</td><td>null</td><td>null</td><td>null</td><td>null</td><td>null</td><td>null</td></tr><tr><td>cust_00535</td><td>2025-07-28T15:15:13.000Z</td><td>d5907d71-b90a-4f6f-be02-231dde567d74</td><td>Can't pass identity check; it keeps resetting.</td><td>null</td><td>null</td><td>null</td><td>null</td><td>null</td><td>null</td></tr><tr><td>cust_00489</td><td>2025-08-05T15:23:23.000Z</td><td>05073ca8-84a3-4c68-ad44-2fad1572013d</td><td>Linking to Chime returns an error cod e102.</td><td>null</td><td>null</td><td>null</td><td>null</td><td>null</td><td>null</td></tr><tr><td>cust_00534</td><td>2025-07-08T00:05:37.000Z</td><td>1dc9c18d-6c35-49c1-ab96-1b77d62081e0</td><td>Scrolling is laggy on Android 13.</td><td>null</td><td>null</td><td>null</td><td>null</td><td>null</td><td>null</td></tr><tr><td>cust_00338</td><td>2025-07-16T08:38:53.000Z</td><td>726ff40e-21ec-4eeb-b0e0-3064214c42f0</td><td>Why was my advance denied? I meet the criteria.</td><td>null</td><td>null</td><td>null</td><td>null</td><td>null</td><td>null</td></tr><tr><td>cust_00055</td><td>2025-07-22T21:41:57.000Z</td><td>5dd77f9c-da9b-4c07-816f-86aebedf3a43</td><td>Please clarify the approval criteria.</td><td>null</td><td>null</td><td>null</td><td>null</td><td>null</td><td>null</td></tr><tr><td>cust_00072</td><td>2025-08-22T20:22:36.000Z</td><td>eb971c33-43ba-470d-8d21-4a1eac686b65</td><td>Great app, the budgeting tips helped me.</td><td>null</td><td>null</td><td>null</td><td>null</td><td>null</td><td>null</td></tr><tr><td>cust_00390</td><td>2025-07-12T02:18:22.000Z</td><td>6f861b6d-444b-4cc1-a73c-d82403e7a2ab</td><td>Great app, the budgeting tips helped me.</td><td>null</td><td>null</td><td>null</td><td>null</td><td>null</td><td>null</td></tr><tr><td>cust_00399</td><td>2025-07-29T05:39:56.000Z</td><td>6863d004-5559-4f1a-ba86-d64fdb052425</td><td>I’m getting multiple texts about the same payment.</td><td>null</td><td>null</td><td>null</td><td>null</td><td>null</td><td>null</td></tr><tr><td>cust_00029</td><td>2025-07-22T19:18:05.000Z</td><td>76058f33-15fb-45f9-9a4c-580c377f5b82</td><td>Stop sending me repeated repayment notifications.</td><td>null</td><td>null</td><td>null</td><td>null</td><td>null</td><td>null</td></tr><tr><td>cust_00028</td><td>2025-06-16T21:24:57.000Z</td><td>f477818c-fa7f-4d38-a05b-ac0633f7c198</td><td>Chime connection keeps timing out during link.</td><td>null</td><td>null</td><td>null</td><td>null</td><td>null</td><td>null</td></tr><tr><td>cust_00117</td><td>2025-08-06T14:49:20.000Z</td><td>61896f83-0372-45d6-9e3e-bdf8c9235f0e</td><td>I’m getting multiple texts about the same payment.</td><td>null</td><td>null</td><td>null</td><td>null</td><td>null</td><td>null</td></tr><tr><td>cust_00539</td><td>2025-06-30T22:00:23.000Z</td><td>ba2570d2-bbc7-4ac5-9d2a-a190b9fc0516</td><td>The approval rules are unclear—got rejected again.</td><td>null</td><td>null</td><td>null</td><td>null</td><td>null</td><td>null</td></tr><tr><td>cust_00477</td><td>2025-08-16T03:39:32.000Z</td><td>b14bbb79-8f69-4a85-998e-3a67878e2450</td><td>Please clarify the approval criteria.</td><td>null</td><td>null</td><td>null</td><td>null</td><td>null</td><td>null</td></tr><tr><td>cust_00750</td><td>2025-08-15T18:03:58.000Z</td><td>5ab95594-f5fc-4d54-8207-ee88b5cccc27</td><td>Chime won’t connect eve nafter multiple tries.</td><td>null</td><td>null</td><td>null</td><td>null</td><td>null</td><td>null</td></tr><tr><td>cust_00218</td><td>2025-07-16T15:50:39.000Z</td><td>fa5a61b0-e51e-48df-9211-95b56ef93832</td><td>Linking to Chime returns an error code 102.</td><td>null</td><td>null</td><td>null</td><td>null</td><td>null</td><td>null</td></tr><tr><td>cust_00668</td><td>2025-07-10T03:59:22.000Z</td><td>1970db68-c18a-4a8a-b021-bd5b9dbe5d41</td><td>My ID got rejected, but the image was clear.</td><td>null</td><td>null</td><td>null</td><td>null</td><td>null</td><td>null</td></tr><tr><td>cust_00442</td><td>2025-07-15T11:49:51.000Z</td><td>362ebb55-62c8-4db4-b785-1deb84762be4</td><td>Scrolling is laggy on Android 13.</td><td>null</td><td>null</td><td>null</td><td>null</td><td>null</td><td>null</td></tr><tr><td>cust_00658</td><td>2025-06-25T20:38:09.000Z</td><td>702441ec-d118-440a-a3a7-1ce5a346129b</td><td>The new UI lokos clean and easy to use.</td><td>null</td><td>null</td><td>null</td><td>null</td><td>null</td><td>null</td></tr><tr><td>cust_00130</td><td>2025-07-06T02:03:27.000Z</td><td>9b31283d-457c-41ae-a6f5-7685d392cff0</td><td>I keep getting denied without explnaation.</td><td>null</td><td>null</td><td>null</td><td>null</td><td>null</td><td>null</td></tr><tr><td>cust_00845</td><td>2025-06-19T18:57:00.000Z</td><td>4b30d93f-c2e3-495f-af69-79ce5dc99d92</td><td>Linking to Chime returns an error code 102.</td><td>null</td><td>null</td><td>null</td><td>null</td><td>null</td><td>null</td></tr><tr><td>cust_00845</td><td>2025-06-25T06:06:00.000Z</td><td>9784d108-b8b4-4766-9af5-01b58458feba</td><td>The new UI looks clean and easy to use.</td><td>null</td><td>null</td><td>null</td><td>null</td><td>null</td><td>null</td></tr><tr><td>cust_00375</td><td>2025-07-01T01:15:15.000Z</td><td>15fdebd6-d6df-4d1a-be33-275d27d70a08</td><td>Why is Chime link broken today?</td><td>null</td><td>null</td><td>null</td><td>null</td><td>null</td><td>null</td></tr><tr><td>cust_00157</td><td>2025-06-21T19:44:34.000Z</td><td>8288398a-1887-4581-b038-f8914dc2fbf0</td><td>Chime connection keeps timing out during link.</td><td>null</td><td>null</td><td>null</td><td>null</td><td>null</td><td>null</td></tr><tr><td>cust_00622</td><td>2025-07-13T12:03:47.000Z</td><td>237200d6-daab-4946-81ed-57120764509a</td><td>Requirements seem too strict for small advances.</td><td>null</td><td>null</td><td>null</td><td>null</td><td>null</td><td>null</td></tr><tr><td>cust_00363</td><td>2025-07-23T12:30:06.000Z</td><td>f03ca581-2ff4-4233-920d-350f9aafc081</td><td>I can't link my Chime account. It fails at verification.</td><td>null</td><td>null</td><td>null</td><td>null</td><td>null</td><td>null</td></tr><tr><td>cust_00765</td><td>2025-08-12T22:46:05.000Z</td><td>e5880a2f-7d2b-4db5-a2db-be6135bed87a</td><td>Linking to Chime returns an error code 102.</td><td>null</td><td>null</td><td>null</td><td>null</td><td>null</td><td>null</td></tr><tr><td>cust_00354</td><td>2025-07-31T12:55:40.000Z</td><td>a22502ec-3290-484b-99d6-ccce7d88aba7</td><td>The app freezes after login on Android.</td><td>null</td><td>null</td><td>null</td><td>null</td><td>null</td><td>null</td></tr><tr><td>cust_00323</td><td>2025-07-09T23:51:53.000Z</td><td>3fd44d46-59fc-483a-89db-3cbfd1953896</td><td>Why is Chime link broken today?</td><td>null</td><td>null</td><td>null</td><td>null</td><td>null</td><td>null</td></tr><tr><td>cust_00272</td><td>2025-06-25T04:44:56.000Z</td><td>b333fb33-e939-4189-9595-6641bb708216</td><td>Customer support was super helpful.</td><td>null</td><td>null</td><td>null</td><td>null</td><td>null</td><td>null</td></tr><tr><td>cust_00272</td><td>2025-08-16T13:44:03.000Z</td><td>b81b3ecb-bfac-420a-84ee-8b5cbc222a8c</td><td>Loving the instant access to cash—thanks!</td><td>null</td><td>null</td><td>null</td><td>null</td><td>null</td><td>null</td></tr><tr><td>cust_00277</td><td>2025-08-04T20:37:10.000Z</td><td>3901cf13-7b44-421d-9479-f70ab920033e</td><td>My ID got rejected, but the image was clear.</td><td>null</td><td>null</td><td>null</td><td>null</td><td>null</td><td>null</td></tr><tr><td>cust_00594</td><td>2025-06-29T00:41:09.000Z</td><td>59f35fe8-edd5-4109-81be-0665fd75f520</td><td>Chime connection keeps timing out during link.</td><td>null</td><td>null</td><td>null</td><td>null</td><td>null</td><td>null</td></tr><tr><td>cust_00686</td><td>2025-06-15T23:28:19.000Z</td><td>4a094a5f-5497-40fc-8114-c1069df29959</td><td>My ID got rejected, but the image was clear.</td><td>null</td><td>null</td><td>null</td><td>null</td><td>null</td><td>null</td></tr><tr><td>cust_00571</td><td>2025-07-01T01:49:44.000Z</td><td>45879268-0efe-4f31-a86a-6f2d9bcac22b</td><td>Performance is worse after the last update.</td><td>null</td><td>null</td><td>null</td><td>null</td><td>null</td><td>null</td></tr><tr><td>cust_00213</td><td>2025-06-19T20:19:48.000Z</td><td>4e9a82df-d350-43be-9968-0c9dfe149a50</td><td>Stuck in an ID verification loop—keeps asking again.</td><td>null</td><td>null</td><td>null</td><td>null</td><td>null</td><td>null</td></tr><tr><td>cust_00213</td><td>2025-06-26T05:24:26.000Z</td><td>fe39315b-6efe-4852-a3d6-fd1a13c23a25</td><td>Crashes when I open the Advance screen.</td><td>null</td><td>null</td><td>null</td><td>null</td><td>null</td><td>null</td></tr><tr><td>cust_00498</td><td>2025-06-15T10:22:17.000Z</td><td>f5081c3c-6a2a-4343-b6f1-a474182cfeaf</td><td>Great app, the budgeting tips helped me.</td><td>null</td><td>null</td><td>null</td><td>null</td><td>null</td><td>null</td></tr><tr><td>cust_00426</td><td>2025-06-26T18:11:42.000Z</td><td>9bb9c30e-f9a4-4358-bf62-84473a172d83</td><td>Linking to Chime returns an error code 102.</td><td>null</td><td>null</td><td>null</td><td>null</td><td>null</td><td>null</td></tr><tr><td>cust_00692</td><td>2025-06-21T18:39:23.000Z</td><td>6c5153ce-052e-440c-a124-feb35c849607</td><td>App is slow on my Android phone.</td><td>null</td><td>null</td><td>null</td><td>null</td><td>null</td><td>null</td></tr><tr><td>cust_00630</td><td>2025-08-02T19:54:52.000Z</td><td>232182e9-8ad2-4bcc-9f9a-3baa7680c71a</td><td>Can't pass identity check; it keeps resetting.</td><td>null</td><td>null</td><td>null</td><td>null</td><td>null</td><td>null</td></tr><tr><td>cust_00724</td><td>2025-08-10T15:39:49.000Z</td><td>79b40bc2-bd27-47cc-8f76-e0fee3ba5da7</td><td>Way too many repayment reminders this week.</td><td>null</td><td>null</td><td>null</td><td>null</td><td>null</td><td>null</td></tr><tr><td>cust_00717</td><td>2025-07-07T00:42:45.000Z</td><td>eeae6e89-5b2f-4998-8d55-cb45b3933922</td><td>I keep getting denied without explanation.</td><td>null</td><td>null</td><td>null</td><td>null</td><td>null</td><td>null</td></tr><tr><td>cust_00721</td><td>2025-06-22T18:34:56.000Z</td><td>0856d6d6-8952-47e7-9420-803de6738a13</td><td>Way too many repayment reminders this week.</td><td>null</td><td>null</td><td>null</td><td>null</td><td>null</td><td>null</td></tr><tr><td>cust_00420</td><td>2025-07-26T17:58:16.000Z</td><td>81b12dc0-cca8-41a8-9ca3-7b9a66655303</td><td>Chime wont’ connect even after multiple tries.</td><td>null</td><td>null</td><td>null</td><td>null</td><td>null</td><td>null</td></tr><tr><td>cust_00649</td><td>2025-08-12T01:25:08.000Z</td><td>cfd966a5-997f-4e85-80f2-0937a3886a41</td><td>Chime connection keeps timing out during link.</td><td>null</td><td>null</td><td>null</td><td>null</td><td>null</td><td>null</td></tr><tr><td>cust_00857</td><td>2025-07-15T07:02:49.000Z</td><td>8f5be738-f0e8-42e0-8435-ab2d0f84efc8</td><td>Stuck in an ID verification loop—keeps askign again.</td><td>null</td><td>null</td><td>null</td><td>null</td><td>null</td><td>null</td></tr><tr><td>cust_00105</td><td>2025-07-22T12:15:18.000Z</td><td>2a1ca286-6eca-4ec2-87e4-53e61ac3f0c1</td><td>Great app, the ubdgeting tips helped me.</td><td>null</td><td>null</td><td>null</td><td>null</td><td>null</td><td>null</td></tr><tr><td>cust_00839</td><td>2025-08-03T01:04:24.000Z</td><td>722306d5-15c3-43ea-8a66-1f068f058e23</td><td>Why does the selfie step repeat?</td><td>null</td><td>null</td><td>null</td><td>null</td><td>null</td><td>null</td></tr><tr><td>cust_00556</td><td>2025-08-21T14:03:33.000Z</td><td>9ddbaeec-4a95-49db-bb0c-2f2b42a43167</td><td>Requirements seem too strict for small advances.</td><td>null</td><td>null</td><td>null</td><td>null</td><td>null</td><td>null</td></tr><tr><td>cust_00598</td><td>2025-08-05T07:53:29.000Z</td><td>8d3ec3e8-8d70-4038-9ab2-eb27ee1e52b5</td><td>Please clarify the approval criteria.</td><td>null</td><td>null</td><td>null</td><td>null</td><td>null</td><td>null</td></tr><tr><td>cust_00694</td><td>2025-06-14T21:52:51.000Z</td><td>39984937-8702-41c4-8dcb-a619e8474d34</td><td>The new UI looks clean and easy to use.</td><td>null</td><td>null</td><td>null</td><td>null</td><td>null</td><td>null</td></tr><tr><td>cust_00286</td><td>2025-07-06T02:19:09.000Z</td><td>f5b9a116-7015-4293-a8af-fd828af3b552</td><td>The approval rules are unclear—got rejected again.</td><td>null</td><td>null</td><td>null</td><td>null</td><td>null</td><td>null</td></tr><tr><td>cust_00110</td><td>2025-06-24T01:21:26.000Z</td><td>434e0219-033b-4e15-bdf2-ee8c13689d0f</td><td>Great app, the budgeting tips helped me.</td><td>null</td><td>null</td><td>null</td><td>null</td><td>null</td><td>null</td></tr><tr><td>cust_00110</td><td>2025-07-13T07:58:40.000Z</td><td>fb72d0ba-89ae-46bf-b20d-f7be1273f442</td><td>Chime won’t connect even after multiple tries.</td><td>null</td><td>null</td><td>null</td><td>null</td><td>null</td><td>null</td></tr><tr><td>cust_00454</td><td>2025-08-13T01:00:09.000Z</td><td>02c046f0-d89c-4860-8963-d911e2f8b33b</td><td>Please clarify the approval criteria.</td><td>null</td><td>null</td><td>null</td><td>null</td><td>null</td><td>null</td></tr><tr><td>cust_00353</td><td>2025-08-17T11:07:20.000Z</td><td>cc2ffaea-9af5-4330-a12d-404662493475</td><td>Can't pass identity check; it keeps resetting.</td><td>null</td><td>null</td><td>null</td><td>null</td><td>null</td><td>null</td></tr><tr><td>cust_00046</td><td>2025-06-18T22:21:12.000Z</td><td>2c3174fd-2661-44fc-9941-f8f36fcbeb55</td><td>Chime won’t connect even after multiple tries.</td><td>null</td><td>null</td><td>null</td><td>null</td><td>null</td><td>null</td></tr><tr><td>cust_00689</td><td>2025-08-08T20:17:39.000Z</td><td>1aa9e002-c380-46d4-9947-69985cd4d690</td><td>Stuck in an ID verification loop—keeps asking again.</td><td>null</td><td>null</td><td>null</td><td>null</td><td>null</td><td>null</td></tr><tr><td>cust_00304</td><td>2025-08-03T22:28:33.000Z</td><td>d1f5cd64-07e9-4e4d-8909-35fdc9128d29</td><td>Stuck in an ID verification loop—keeps asking again.</td><td>null</td><td>null</td><td>null</td><td>null</td><td>null</td><td>null</td></tr><tr><td>cust_00283</td><td>2025-08-11T04:38:03.000Z</td><td>51e9b974-cdb0-496d-965c-1dfbfda6428b</td><td>I’m getting multiple texts about the same payment.</td><td>null</td><td>null</td><td>null</td><td>null</td><td>null</td><td>null</td></tr><tr><td>cust_00706</td><td>2025-08-06T14:13:06.000Z</td><td>74301a04-85cd-4bdd-8a8f-4f6458994f6c</td><td>I can't link my Chime account. It fails at verification.</td><td>null</td><td>null</td><td>null</td><td>null</td><td>null</td><td>null</td></tr><tr><td>cust_00706</td><td>2025-08-08T06:19:54.000Z</td><td>6e14a8a5-af0f-4696-800f-4f51a8815ca7</td><td>The new UI looks clean and easy to use.</td><td>null</td><td>null</td><td>null</td><td>null</td><td>null</td><td>null</td></tr><tr><td>cust_00768</td><td>2025-07-24T22:18:02.000Z</td><td>7acf22d4-ab12-473d-9108-462511aae6d1</td><td>I can't link my Chime account. It fails at verification.</td><td>null</td><td>null</td><td>null</td><td>null</td><td>null</td><td>null</td></tr><tr><td>cust_00018</td><td>2025-08-20T01:13:11.000Z</td><td>e07caf50-b148-492c-a74d-3bfc5a230d02</td><td>The reminders feel spammy.</td><td>null</td><td>null</td><td>null</td><td>null</td><td>null</td><td>null</td></tr><tr><td>cust_00827</td><td>2025-07-26T13:01:38.000Z</td><td>100ee89f-e4a4-4989-b40e-177bccb32716</td><td>Scrolling is laggy on Android 13.</td><td>null</td><td>null</td><td>null</td><td>null</td><td>null</td><td>null</td></tr><tr><td>cust_00827</td><td>2025-08-08T10:36:36.000Z</td><td>86b66e72-b462-44f9-8354-0a62f760e23b</td><td>My ID got rejected, but the image was clear.</td><td>null</td><td>null</td><td>null</td><td>null</td><td>null</td><td>null</td></tr><tr><td>cust_00012</td><td>2025-07-29T10:37:07.000Z</td><td>97600630-cbb7-41cb-a066-424c97eeaf8f</td><td>Stop sending me repeated repayment notifications.</td><td>null</td><td>null</td><td>null</td><td>null</td><td>null</td><td>null</td></tr><tr><td>cust_00447</td><td>2025-07-26T22:27:09.000Z</td><td>090fa688-6237-459b-b6b7-cc90418c1857</td><td>Great app, the budgeting tips helped me.</td><td>null</td><td>null</td><td>null</td><td>null</td><td>null</td><td>null</td></tr><tr><td>cust_00048</td><td>2025-06-23T18:10:55.000Z</td><td>a55ea2b3-0951-4faf-b5bd-ba2dde14d7f2</td><td>Please reduce the reminder frequency.</td><td>null</td><td>null</td><td>null</td><td>null</td><td>null</td><td>null</td></tr><tr><td>cust_00468</td><td>2025-07-13T01:03:47.000Z</td><td>979ec9b2-5240-4f4b-a840-9e7adcbc992b</td><td>Can't pass identity check; it keeps resetting.</td><td>null</td><td>null</td><td>null</td><td>null</td><td>null</td><td>null</td></tr><tr><td>cust_00662</td><td>2025-07-25T02:59:35.000Z</td><td>ab48af59-00bf-4f32-ae76-2c89eece997b</td><td>I can't link my Chime account. It fails at verification.</td><td>null</td><td>null</td><td>null</td><td>null</td><td>null</td><td>null</td></tr><tr><td>cust_00389</td><td>2025-07-07T16:13:34.000Z</td><td>594b0c17-344d-4b1f-a8a5-598bbd19a7a7</td><td>Performance is worse after the last update.</td><td>null</td><td>null</td><td>null</td><td>null</td><td>null</td><td>null</td></tr><tr><td>cust_00679</td><td>2025-08-04T20:34:53.000Z</td><td>e55d22e9-e947-44f1-a303-066a824b3a0f</td><td>Chime won’t connect even after multiple tries.</td><td>null</td><td>null</td><td>null</td><td>null</td><td>null</td><td>null</td></tr><tr><td>cust_00603</td><td>2025-06-25T17:56:36.000Z</td><td>70054b2f-eda4-474b-a00a-ab29d07bea3f</td><td>Why was my advance denied? I meet the criteria.</td><td>null</td><td>null</td><td>null</td><td>null</td><td>null</td><td>null</td></tr><tr><td>cust_00433</td><td>2025-07-08T03:23:40.000Z</td><td>4b88648c-acd3-4628-8993-07a1d46e63e0</td><td>Why is Chime link broken today?</td><td>null</td><td>null</td><td>null</td><td>null</td><td>null</td><td>null</td></tr><tr><td>cust_00364</td><td>2025-07-10T23:42:31.000Z</td><td>06fefd87-dcd3-4ba8-b961-f5d2b25542cc</td><td>Please reduce the reminder frequency.</td><td>null</td><td>null</td><td>null</td><td>null</td><td>null</td><td>null</td></tr><tr><td>cust_00460</td><td>2025-08-07T11:46:44.000Z</td><td>7defa347-17e5-4fab-9be7-138b143c2489</td><td>Why is Chime link broken today?</td><td>null</td><td>null</td><td>null</td><td>null</td><td>null</td><td>null</td></tr><tr><td>cust_00579</td><td>2025-06-17T20:35:17.000Z</td><td>5cd5e5c0-b6ff-4c30-8917-2078eeae28e4</td><td>Can't pass identity check; it keeps resetting.</td><td>null</td><td>null</td><td>null</td><td>null</td><td>null</td><td>null</td></tr><tr><td>cust_00499</td><td>2025-07-28T04:13:46.000Z</td><td>7bf4b279-b724-4139-82bc-a6051d8eee1b</td><td>Please clarify the approval criteria.</td><td>null</td><td>null</td><td>null</td><td>null</td><td>null</td><td>null</td></tr><tr><td>cust_00437</td><td>2025-06-17T00:34:10.000Z</td><td>f4c5de33-aac3-49f7-8336-8c5ca3ec8d36</td><td>Chime won’t connect even after multiple tries.</td><td>null</td><td>null</td><td>null</td><td>null</td><td>null</td><td>null</td></tr><tr><td>cust_00574</td><td>2025-08-19T05:18:50.000Z</td><td>c233f3c7-0872-44ef-9cb0-0b365431598d</td><td>Why was my advance denied? I meet the criteria.</td><td>null</td><td>null</td><td>null</td><td>null</td><td>null</td><td>null</td></tr><tr><td>cust_00705</td><td>2025-07-21T06:43:04.000Z</td><td>8c6759f9-85d9-4728-8d8c-8f80ec50090c</td><td>The approval rules are unclear—got rejected again.</td><td>null</td><td>null</td><td>null</td><td>null</td><td>null</td><td>null</td></tr><tr><td>cust_00312</td><td>2025-08-16T00:49:15.000Z</td><td>401217f7-29a2-4a50-ac9b-6138c6804a23</td><td>I’ mgetting multiple texts about the same payment.</td><td>null</td><td>null</td><td>null</td><td>null</td><td>null</td><td>null</td></tr><tr><td>cust_00678</td><td>2025-08-07T22:42:06.000Z</td><td>d099fbec-56ba-4463-9e60-e9bacbda885b</td><td>Scrolling is laggy on Android 13.</td><td>null</td><td>null</td><td>null</td><td>null</td><td>null</td><td>null</td></tr><tr><td>cust_00003</td><td>2025-07-24T06:52:09.000Z</td><td>27fc905c-6701-4e9c-a5d3-d75718523270</td><td>Why is Chime link broken today?</td><td>null</td><td>null</td><td>null</td><td>null</td><td>null</td><td>null</td></tr><tr><td>cust_00792</td><td>2025-08-09T01:18:40.000Z</td><td>76af653d-42aa-4e51-a400-4c32af8ea4bd</td><td>I can't link m yChime account. It fails at verification.</td><td>null</td><td>null</td><td>null</td><td>null</td><td>null</td><td>null</td></tr><tr><td>cust_00228</td><td>2025-08-21T02:04:47.000Z</td><td>059bd08b-b530-4f55-8871-d4e6ff8a2bf8</td><td>I can't link my Chime account. It fails at verification.</td><td>null</td><td>null</td><td>null</td><td>null</td><td>null</td><td>null</td></tr><tr><td>cust_00264</td><td>2025-08-04T12:57:32.000Z</td><td>0d4e69a6-d06e-49c5-a44d-0332c431fec4</td><td>Please reduce the reminder frequency.</td><td>null</td><td>null</td><td>null</td><td>null</td><td>null</td><td>null</td></tr><tr><td>cust_00761</td><td>2025-07-21T17:35:37.000Z</td><td>505a9976-605a-4efa-aca0-22784f27d804</td><td>Please clarify the approval criteria.</td><td>null</td><td>null</td><td>null</td><td>null</td><td>null</td><td>null</td></tr><tr><td>cust_00770</td><td>2025-07-27T07:02:14.000Z</td><td>22d632c3-de51-41fd-9e25-a9e00b76b683</td><td>The new UI looks clean and easy to use.</td><td>null</td><td>null</td><td>null</td><td>null</td><td>null</td><td>null</td></tr><tr><td>cust_00225</td><td>2025-06-14T12:54:13.000Z</td><td>a4f49e7a-88ce-45aa-ae45-af6a2773967a</td><td>Loving the instant access to cash—thanks!</td><td>null</td><td>null</td><td>null</td><td>null</td><td>null</td><td>null</td></tr><tr><td>cust_00409</td><td>2025-08-05T08:38:03.000Z</td><td>7768fdfe-48ad-49e1-a333-8ad143ac2f68</td><td>Crashes when I open the Advance screen.</td><td>null</td><td>null</td><td>null</td><td>null</td><td>null</td><td>null</td></tr><tr><td>cust_00127</td><td>2025-08-07T02:36:57.000Z</td><td>a877044d-4198-4ed1-97e2-787e47c96edd</td><td>Requirements seem too strict for samll advances.</td><td>null</td><td>null</td><td>null</td><td>null</td><td>null</td><td>null</td></tr><tr><td>cust_00143</td><td>2025-08-15T01:57:20.000Z</td><td>2ad47d6f-f57b-45a0-98e7-df0871e309e1</td><td>Linking to Chime returns an error code 102.</td><td>null</td><td>null</td><td>null</td><td>null</td><td>null</td><td>null</td></tr><tr><td>cust_00788</td><td>2025-08-19T01:09:30.000Z</td><td>0d361ddf-f1ea-4911-b999-20a415cf78ec</td><td>Why does the selfie step repeat?</td><td>null</td><td>null</td><td>null</td><td>null</td><td>null</td><td>null</td></tr><tr><td>cust_00371</td><td>2025-06-21T15:36:03.000Z</td><td>00f16c2f-4688-4c85-b237-ffb8102f346e</td><td>Stop sending me repeated repayment notifications.</td><td>null</td><td>null</td><td>null</td><td>null</td><td>null</td><td>null</td></tr><tr><td>cust_00371</td><td>2025-06-25T00:48:19.000Z</td><td>d99c5c4a-015a-4624-bd11-4ed01b817d7e</td><td>The app freezes after login on Android.</td><td>null</td><td>null</td><td>null</td><td>null</td><td>null</td><td>null</td></tr><tr><td>cust_00026</td><td>2025-06-29T18:38:23.000Z</td><td>27a69d9a-7a39-4ca7-81e7-d3c98afe63ff</td><td>Great app, the budgeting tips helped me.</td><td>null</td><td>null</td><td>null</td><td>null</td><td>null</td><td>null</td></tr><tr><td>cust_00720</td><td>2025-07-25T07:28:44.000Z</td><td>4edc2bb8-7a9d-4a98-ab25-f052f007f550</td><td>Thanks for the quick approval yesterday.</td><td>null</td><td>null</td><td>null</td><td>null</td><td>null</td><td>null</td></tr><tr><td>cust_00247</td><td>2025-07-07T10:23:01.000Z</td><td>7efecd47-c742-4d3c-a1e0-8dd55579b200</td><td>Can't pass identity check; it keeps resetting.</td><td>null</td><td>null</td><td>null</td><td>null</td><td>null</td><td>null</td></tr><tr><td>cust_00219</td><td>2025-08-16T13:33:28.000Z</td><td>9ef5ab27-b21e-4947-8b43-c64f5cef4874</td><td>Requirements seem too strict for small advances.</td><td>null</td><td>null</td><td>null</td><td>null</td><td>null</td><td>null</td></tr><tr><td>cust_00638</td><td>2025-07-23T06:06:34.000Z</td><td>03ba4457-296c-4805-97a4-0bca2b8e5350</td><td>Can't pass identity check; it keeps resetting.</td><td>null</td><td>null</td><td>null</td><td>null</td><td>null</td><td>null</td></tr><tr><td>cust_00849</td><td>2025-07-31T14:14:09.000Z</td><td>f5017bf2-2879-4c6b-a363-538c4bbaf77e</td><td>Linking to Chime returns an error code 102.</td><td>null</td><td>null</td><td>null</td><td>null</td><td>null</td><td>null</td></tr><tr><td>cust_00178</td><td>2025-08-13T17:32:20.000Z</td><td>4e630a0c-2197-444f-b54f-1551a8797925</td><td>Why was my advance denied? I meet the criteria.</td><td>null</td><td>null</td><td>null</td><td>null</td><td>null</td><td>null</td></tr><tr><td>cust_00824</td><td>2025-08-18T15:55:54.000Z</td><td>a976802d-8e6c-4927-80af-832b2841e439</td><td>Can't pass identity check; it keeps resetting.</td><td>null</td><td>null</td><td>null</td><td>null</td><td>null</td><td>null</td></tr><tr><td>cust_00821</td><td>2025-07-08T04:39:26.000Z</td><td>85d7e5e4-5d3a-4011-99c1-597d0f2b774c</td><td>Loving the instant access to cash—thanks!</td><td>null</td><td>null</td><td>null</td><td>null</td><td>null</td><td>null</td></tr><tr><td>cust_00388</td><td>2025-07-09T16:21:41.000Z</td><td>d6cea13e-81d3-49fa-b2b6-edd49bf33c0b</td><td>The app freezes after login on Android.</td><td>null</td><td>null</td><td>null</td><td>null</td><td>null</td><td>null</td></tr><tr><td>cust_00310</td><td>2025-07-05T11:48:22.000Z</td><td>aedaefa1-71c7-403e-b414-845cb8ae9161</td><td>Can't pass identity check; it keeps resetting.</td><td>null</td><td>null</td><td>null</td><td>null</td><td>null</td><td>null</td></tr><tr><td>cust_00680</td><td>2025-08-16T11:51:30.000Z</td><td>1c97aabf-ce52-40e7-8378-332402f2920e</td><td>Stop sending me repeated repayment notifications.</td><td>null</td><td>null</td><td>null</td><td>null</td><td>null</td><td>null</td></tr></tbody></table></div>"
      ]
     },
     "metadata": {
      "application/vnd.databricks.v1+output": {
       "addedWidgets": {},
       "aggData": [],
       "aggError": "",
       "aggOverflow": false,
       "aggSchema": [],
       "aggSeriesLimitReached": false,
       "aggType": "",
       "arguments": {},
       "columnCustomDisplayInfos": {},
       "data": [
        [
         "cust_00162",
         "2025-07-17T21:13:58.000Z",
         "d47cb39f-0909-4618-9e96-13bd2c99d192",
         "Great app, the budgeting tips helped me.",
         "2025-08-17T06:25:35.000Z",
         3,
         37.83,
         "plus",
         0,
         0
        ],
        [
         "cust_00170",
         "2025-06-26T05:01:35.000Z",
         "3ee730bb-ff32-4789-97a1-272527aa4604",
         "Chime won’t connect even after multiple tries.",
         "2025-08-10T06:27:54.000Z",
         1,
         54.37,
         "free",
         0,
         0
        ],
        [
         "cust_00139",
         "2025-07-31T19:52:54.000Z",
         "487a615e-7312-4a00-9902-985d8f9d875f",
         "Chime connection keeps timing out during link.",
         "2025-06-20T10:51:54.000Z",
         2,
         20.73,
         "free",
         0,
         0
        ],
        [
         "cust_00731",
         "2025-07-31T01:10:34.000Z",
         "b00a4cb3-b713-4d5f-8c82-ad2336b70ba3",
         "Verification failed 3 times—what should I do?",
         "2025-07-17T23:10:53.000Z",
         6,
         8.87,
         "plus",
         2,
         1
        ],
        [
         "cust_00465",
         "2025-08-15T05:31:57.000Z",
         "92f68c16-452e-4ab4-a5c8-97f577778284",
         "I keep getting denied without explanation.",
         "2025-07-25T15:02:27.000Z",
         1,
         65.65,
         "free",
         0,
         0
        ],
        [
         "cust_00873",
         "2025-07-26T06:56:43.000Z",
         "118e3f62-dd8c-48c3-84e7-66d084d4ef07",
         "Performance is worse after the last update.",
         "2025-07-30T07:13:40.000Z",
         1,
         45.11,
         "free",
         5,
         2
        ],
        [
         "cust_00103",
         "2025-06-26T06:09:30.000Z",
         "cf888eb3-5740-4854-bbdd-d71d26b7d71f",
         "Stop sending me repeated repayment notifications.",
         "2025-07-10T05:40:27.000Z",
         4,
         12.55,
         "plus",
         0,
         0
        ],
        [
         "cust_00347",
         "2025-07-30T18:46:12.000Z",
         "c0309dba-ee84-4ff6-bcf4-cd07e44d7e17",
         "Customer support was super helpful.",
         "2025-08-22T17:42:11.000Z",
         4,
         28.46,
         "free",
         0,
         0
        ],
        [
         "cust_00676",
         "2025-07-11T11:02:45.000Z",
         "b6563ad9-d1e7-45fc-8678-308f14461612",
         "Why does the selfie step repeat?",
         "2025-07-27T09:57:04.000Z",
         1,
         26.75,
         "pro",
         4,
         2
        ],
        [
         "cust_00558",
         "2025-08-13T16:28:26.000Z",
         "c3a4c5a6-42dd-4ccc-ac55-6993008d3a56",
         "My ID got rejected, but the image was clear.",
         "2025-08-19T18:19:07.000Z",
         2,
         20.02,
         "plus",
         5,
         3
        ],
        [
         "cust_00001",
         "2025-08-12T18:14:13.000Z",
         "c0f2c169-705a-44cf-b8a1-5642eb958b4c",
         "Can't pass identity check; it keeps resetting.",
         "2025-07-09T11:32:48.000Z",
         4,
         56.64,
         "free",
         0,
         0
        ],
        [
         "cust_00027",
         "2025-07-08T08:02:59.000Z",
         "f65ef867-852f-4966-84dc-99307b75b933",
         "App is slow on my Android phone.",
         "2025-08-21T11:39:22.000Z",
         3,
         24.31,
         "plus",
         4,
         2
        ],
        [
         "cust_00612",
         "2025-08-09T19:58:54.000Z",
         "37426f83-ce1c-4c91-811e-f9eb33a35bd5",
         "Please reduce the reminder frequency.",
         "2025-08-19T02:31:29.000Z",
         4,
         20.48,
         "free",
         0,
         0
        ],
        [
         "cust_00179",
         "2025-07-24T19:41:39.000Z",
         "67e12156-faea-4b9c-9dfb-0f5e2a8e95cd",
         "The reminders feel spammy.",
         "2025-07-28T05:12:21.000Z",
         5,
         48.15,
         "free",
         2,
         1
        ],
        [
         "cust_00803",
         "2025-07-20T19:03:16.000Z",
         "13333018-45b7-43f4-8633-b5e794a64291",
         "Chime won’t connect even after multiple tries.",
         "2025-07-26T02:24:28.000Z",
         4,
         11.03,
         "free",
         0,
         0
        ],
        [
         "cust_00739",
         "2025-07-28T01:17:11.000Z",
         "b47be703-1501-4967-81fa-dffdd29866e7",
         "I keep getting denied without explanation.",
         "2025-08-02T20:22:42.000Z",
         3,
         23.8,
         "free",
         0,
         0
        ],
        [
         "cust_00094",
         "2025-07-22T18:39:14.000Z",
         "63e9de72-8c81-4cb8-8196-2d6f25b2ab2b",
         "Chime connection keeps timing out during link.",
         "2025-08-21T08:23:57.000Z",
         2,
         5.92,
         "plus",
         0,
         0
        ],
        [
         "cust_00611",
         "2025-08-19T01:37:10.000Z",
         "82f6737c-d766-4c56-b629-44945c43e48f",
         "Way too many repayment reminders this week.",
         "2025-07-26T23:01:12.000Z",
         1,
         156.78,
         "free",
         0,
         0
        ],
        [
         "cust_00147",
         "2025-08-13T04:00:47.000Z",
         "5245cf56-9a76-4e89-9ad3-9da8e96fb9c4",
         "Can't pass identity check; it keeps resetting.",
         "2025-08-21T10:32:44.000Z",
         2,
         7.16,
         "free",
         3,
         2
        ],
        [
         "cust_00782",
         "2025-08-20T18:45:57.000Z",
         "3e63073b-5671-4e27-bd19-3ae1a20f02d9",
         "Please reduce the reminder frequency.",
         "2025-08-16T05:16:13.000Z",
         4,
         23.73,
         "plus",
         0,
         0
        ],
        [
         "cust_00332",
         "2025-08-06T09:48:04.000Z",
         "fb423b07-34a3-4634-a5bb-0c99ef161782",
         "I can't link my Chime account. It fails at verification.",
         "2025-07-21T20:05:21.000Z",
         3,
         12.96,
         "free",
         2,
         1
        ],
        [
         "cust_00736",
         "2025-07-19T19:34:17.000Z",
         "0109fab3-48d1-4375-94af-3cad2f156489",
         "Why is Chime link broken today?",
         "2025-07-15T22:00:21.000Z",
         6,
         41.75,
         "plus",
         0,
         0
        ],
        [
         "cust_00774",
         "2025-07-29T02:40:49.000Z",
         "5e38663c-1f55-4a32-9c7b-8656092ce553",
         "Why does the selfie step repeat?",
         "2025-08-13T03:06:09.000Z",
         4,
         62.96,
         "plus",
         0,
         0
        ],
        [
         "cust_00422",
         "2025-07-01T09:55:26.000Z",
         "9abf657e-a377-498f-9a92-ca18a43f1693",
         "Scrolling is laggy on Android 13.",
         "2025-08-14T20:15:12.000Z",
         1,
         39.49,
         "free",
         1,
         0
        ],
        [
         "cust_00521",
         "2025-08-01T19:42:34.000Z",
         "16fd7a78-885e-4f13-8870-356ad3b135bc",
         "Thanks for the quick approval yesterday.",
         "2025-08-01T11:38:59.000Z",
         4,
         41.96,
         "free",
         2,
         1
        ],
        [
         "cust_00195",
         "2025-08-19T13:44:02.000Z",
         "dcd39373-8a18-449b-a92c-a64460943149",
         "I keep getting deined without explanation.",
         "2025-08-16T23:15:31.000Z",
         2,
         56.98,
         "plus",
         4,
         2
        ],
        [
         "cust_00707",
         "2025-07-02T16:44:14.000Z",
         "e3359f5f-0da2-4f75-a988-db7c370cd1f4",
         "Please clarify the approval criteria.",
         "2025-07-12T05:27:47.000Z",
         1,
         12.39,
         "plus",
         7,
         3
        ],
        [
         "cust_00625",
         "2025-06-16T10:17:41.000Z",
         "c22b094e-4396-4e3d-9be7-5de3a2192d72",
         "Why does the selfie step repeat?",
         "2025-08-07T07:12:51.000Z",
         3,
         6.61,
         "plus",
         1,
         0
        ],
        [
         "cust_00696",
         "2025-07-26T07:33:17.000Z",
         "2aad0931-407f-41df-9820-a9fc883a08f1",
         "The reminders feel spammy.",
         "2025-07-27T10:57:17.000Z",
         3,
         21.51,
         "free",
         4,
         2
        ],
        [
         "cust_00056",
         "2025-06-14T02:39:55.000Z",
         "87485d65-56d3-4cd5-9667-5421ef7607a0",
         "Why does the selfie step repeat?",
         "2025-07-20T05:37:48.000Z",
         4,
         21.69,
         "free",
         0,
         0
        ],
        [
         "cust_00217",
         "2025-07-09T17:36:36.000Z",
         "6e99dd55-eda8-4aeb-946d-ef3e858f17e7",
         "Stop sending me repeated repayment notifications.",
         "2025-08-07T19:39:02.000Z",
         2,
         56.68,
         "free",
         1,
         0
        ],
        [
         "cust_00816",
         "2025-08-20T16:33:38.000Z",
         "6f8fd5f0-a981-43f8-972e-c889ca7c5e53",
         "Performance is worse after the last update.",
         "2025-06-25T06:52:48.000Z",
         2,
         20.89,
         "free",
         0,
         0
        ],
        [
         "cust_00554",
         "2025-08-10T20:43:16.000Z",
         "98432b13-e2c7-449d-9019-12c793efa4c2",
         "Chime connection keeps timing out during link.",
         "2025-06-30T13:37:59.000Z",
         5,
         34.48,
         "free",
         1,
         0
        ],
        [
         "cust_00078",
         "2025-07-01T19:32:29.000Z",
         "b0a12122-3df6-4560-9536-b7adb79663c8",
         "The approval rules are unclear—got rejected again.",
         "2025-08-14T08:21:37.000Z",
         4,
         32.14,
         "plus",
         5,
         2
        ],
        [
         "cust_00074",
         "2025-07-05T19:49:38.000Z",
         "6b90cc40-e75a-4eba-99e7-5df1c802c8e9",
         "Verification failed 3 times—what should I do?",
         "2025-07-05T14:39:32.000Z",
         2,
         117.49,
         "free",
         1,
         1
        ],
        [
         "cust_00831",
         "2025-07-23T21:09:31.000Z",
         "e93b5baf-d8a7-4b1d-ba41-256611da571e",
         "Chime won’t connect even after multiple tries.",
         "2025-06-25T01:28:32.000Z",
         6,
         38.41,
         "free",
         1,
         0
        ],
        [
         "cust_00111",
         "2025-06-25T02:51:51.000Z",
         "232bd7e7-b3e1-49fe-83d7-d4a340a25187",
         "Crashes when I open the Advance screen.",
         "2025-07-14T06:23:50.000Z",
         3,
         20.16,
         "pro",
         3,
         2
        ],
        [
         "cust_00734",
         "2025-08-03T18:09:19.000Z",
         "d9209425-5621-4de0-9512-2ae0a1484227",
         "I keep getting denied without explanation.",
         "2025-08-14T20:54:08.000Z",
         4,
         49.32,
         "free",
         3,
         1
        ],
        [
         "cust_00843",
         "2025-07-28T03:42:41.000Z",
         "5d4d820c-974f-4cf7-9f9b-3dcbfa4f4a04",
         "I keep getting denied without explanation.",
         "2025-07-30T23:04:36.000Z",
         4,
         23.4,
         "plus",
         0,
         0
        ],
        [
         "cust_00873",
         "2025-07-16T20:53:17.000Z",
         "5c0b24ba-66f7-4cad-845f-92cac1ae5c04",
         "Can't pass identity check; it keeps resetting.",
         "2025-07-30T07:13:40.000Z",
         1,
         45.11,
         "free",
         5,
         2
        ],
        [
         "cust_00611",
         "2025-07-18T10:47:07.000Z",
         "fc8295d5-be73-4d21-86bb-7697046f7fe0",
         "Scrolling is laggy on Android 13.",
         "2025-07-26T23:01:12.000Z",
         1,
         156.78,
         "free",
         0,
         0
        ],
        [
         "cust_00554",
         "2025-07-27T00:33:10.000Z",
         "802d1904-ba5a-4de7-b238-0a04c0b2cb05",
         "Performance is worse after the last updat.e",
         "2025-06-30T13:37:59.000Z",
         5,
         34.48,
         "free",
         1,
         0
        ],
        [
         "cust_00734",
         "2025-07-28T19:14:05.000Z",
         "ec2bd933-4f44-4efb-9926-b2254ae253bc",
         "Great app, the budgeting tips helped me.",
         "2025-08-14T20:54:08.000Z",
         4,
         49.32,
         "free",
         3,
         1
        ],
        [
         "cust_00843",
         "2025-07-19T23:28:33.000Z",
         "ccc3e0f1-b47d-4737-bfee-753aa8ddf632",
         "Linking to Chime returns a nerror code 102.",
         "2025-07-30T23:04:36.000Z",
         4,
         23.4,
         "plus",
         0,
         0
        ],
        [
         "cust_00554",
         "2025-07-11T17:46:41.000Z",
         "86496640-530f-4293-8278-8ef339744497",
         "I keep getting denied without explanation.",
         "2025-06-30T13:37:59.000Z",
         5,
         34.48,
         "free",
         1,
         0
        ],
        [
         "cust_00164",
         "2025-08-10T05:04:18.000Z",
         "533de83d-900c-4606-b92b-122224ff9219",
         "Why was my advance denied? I meet the criteria.",
         null,
         null,
         null,
         null,
         null,
         null
        ],
        [
         "cust_00631",
         "2025-06-29T00:02:52.000Z",
         "6f052e7f-b4e5-424e-8d0d-4891d900fba5",
         "Loving the instant access to cash—thanks!",
         null,
         null,
         null,
         null,
         null,
         null
        ],
        [
         "cust_00462",
         "2025-07-07T20:01:42.000Z",
         "93934003-0282-4ee7-827f-eb7e074c3d96",
         "App is slow on my Android phone.",
         null,
         null,
         null,
         null,
         null,
         null
        ],
        [
         "cust_00483",
         "2025-08-14T23:54:39.000Z",
         "10d7aa57-b533-4b3a-92a9-ac4712b8d54e",
         "Loving the instant access to cash—thanks!",
         null,
         null,
         null,
         null,
         null,
         null
        ],
        [
         "cust_00081",
         "2025-07-13T20:32:35.000Z",
         "1b300ee6-e097-41d9-9361-2941671c8bb9",
         "The approval rules are unclear—got rejected again.",
         null,
         null,
         null,
         null,
         null,
         null
        ],
        [
         "cust_00812",
         "2025-06-18T13:46:20.000Z",
         "facfedea-ec00-404a-b882-b7ef3d9f3272",
         "Crashes when I open the Advance screen.",
         null,
         null,
         null,
         null,
         null,
         null
        ],
        [
         "cust_00812",
         "2025-06-28T03:11:07.000Z",
         "953dade6-d599-4fab-a67c-260b82ecfd15",
         "Requirements seem too strict for small advances.",
         null,
         null,
         null,
         null,
         null,
         null
        ],
        [
         "cust_00522",
         "2025-06-20T17:44:43.000Z",
         "6705b233-271a-48e7-b73a-952bda9e764b",
         "Customer support was super helpful.",
         null,
         null,
         null,
         null,
         null,
         null
        ],
        [
         "cust_00015",
         "2025-08-12T02:45:25.000Z",
         "4cab85ed-0301-4312-84cc-252255697d4b",
         "Crashes when I open the Advance screen.",
         null,
         null,
         null,
         null,
         null,
         null
        ],
        [
         "cust_00764",
         "2025-08-19T14:00:43.000Z",
         "0de98ca1-6b69-45c3-b94c-a756d242572c",
         "App is slow on my Android phone.",
         null,
         null,
         null,
         null,
         null,
         null
        ],
        [
         "cust_00306",
         "2025-07-01T08:16:20.000Z",
         "84b88b9b-b13f-422a-a0f0-e689bd32c232",
         "Way too many repayment reminders this week.",
         null,
         null,
         null,
         null,
         null,
         null
        ],
        [
         "cust_00306",
         "2025-08-08T21:26:20.000Z",
         "2dd1c3b3-2477-4b3f-9139-9dbd73ef9577",
         "Why was my advance denied? I meet the criteria.",
         null,
         null,
         null,
         null,
         null,
         null
        ],
        [
         "cust_00216",
         "2025-07-13T22:16:38.000Z",
         "3b51a716-b11a-42fa-87d9-8873650971b9",
         "Why was my advance denied? I meet the criteria.",
         null,
         null,
         null,
         null,
         null,
         null
        ],
        [
         "cust_00067",
         "2025-06-18T23:41:59.000Z",
         "da96a915-3cde-4802-837d-832790a34d67",
         "Requirements seem too strict for small advances.",
         null,
         null,
         null,
         null,
         null,
         null
        ],
        [
         "cust_00580",
         "2025-07-12T15:55:15.000Z",
         "0db887a0-2e59-4a5d-88dc-dc43d0229fa9",
         "Chime won’t connect even after multiple tries.",
         null,
         null,
         null,
         null,
         null,
         null
        ],
        [
         "cust_00088",
         "2025-06-28T17:31:58.000Z",
         "bb4f3463-3123-462b-9e38-36295933d2de",
         "Why is Chime link broken today?",
         null,
         null,
         null,
         null,
         null,
         null
        ],
        [
         "cust_00088",
         "2025-08-21T01:51:35.000Z",
         "602226dc-4a94-4eb5-9bd5-9bd3bba716a5",
         "Thanks for teh quick approval yesterday.",
         null,
         null,
         null,
         null,
         null,
         null
        ],
        [
         "cust_00102",
         "2025-07-27T01:08:26.000Z",
         "0c04369a-fb6d-4fd5-b7a3-b9a97122b27f",
         "I’m getting multiple texts about the same payment.",
         null,
         null,
         null,
         null,
         null,
         null
        ],
        [
         "cust_00102",
         "2025-08-04T12:16:13.000Z",
         "0d8eb877-1edb-4c07-9469-e4c317b1516f",
         "Please clarify the approval criteria.",
         null,
         null,
         null,
         null,
         null,
         null
        ],
        [
         "cust_00112",
         "2025-06-23T13:18:48.000Z",
         "1225f91e-8a13-4bdd-b34b-c4503aeb467d",
         "Linking to Chime returns an error code 102.",
         null,
         null,
         null,
         null,
         null,
         null
        ],
        [
         "cust_00291",
         "2025-08-02T15:06:18.000Z",
         "73be6215-8c36-42e8-a8e8-7eae3327a1fc",
         "I’m getting multiple texts about the same payment.",
         null,
         null,
         null,
         null,
         null,
         null
        ],
        [
         "cust_00176",
         "2025-07-04T08:10:12.000Z",
         "1c34dbdc-9e9b-4def-8f62-39342b85688a",
         "Stuck in an ID verification loop—keeps asking again.",
         null,
         null,
         null,
         null,
         null,
         null
        ],
        [
         "cust_00223",
         "2025-07-23T14:57:44.000Z",
         "b9ae5e1d-10be-4333-8f56-f1b4d2d5a530",
         "Customer support was suepr helpful.",
         null,
         null,
         null,
         null,
         null,
         null
        ],
        [
         "cust_00661",
         "2025-07-14T12:05:05.000Z",
         "88e624f8-5738-46ae-beb0-45b1f152dbfc",
         "Requirements seem too strict for small advances.",
         null,
         null,
         null,
         null,
         null,
         null
        ],
        [
         "cust_00135",
         "2025-07-26T22:00:48.000Z",
         "79cc1ad8-a9ed-4123-8bef-d4a87f3aec66",
         "Crashes when I open the Advance screen.",
         null,
         null,
         null,
         null,
         null,
         null
        ],
        [
         "cust_00659",
         "2025-06-18T05:01:52.000Z",
         "c4cbdf34-ed89-4c24-9967-09760d817cff",
         "Why does the selfie step repeat?",
         null,
         null,
         null,
         null,
         null,
         null
        ],
        [
         "cust_00659",
         "2025-07-04T15:26:20.000Z",
         "d3fe44e4-7abd-4bd1-96f7-f92468be7d0e",
         "Can't pass identity check; it keeps resetting.",
         null,
         null,
         null,
         null,
         null,
         null
        ],
        [
         "cust_00232",
         "2025-06-25T04:20:53.000Z",
         "cb9fdb45-0a42-4d5c-84e9-30a37da5224b",
         "Way too many repayment reminders this week.",
         null,
         null,
         null,
         null,
         null,
         null
        ],
        [
         "cust_00271",
         "2025-07-11T10:45:53.000Z",
         "95183176-cf83-4e2c-bed6-7f7d7d836385",
         "Can't pass idetnity check; it keeps resetting.",
         null,
         null,
         null,
         null,
         null,
         null
        ],
        [
         "cust_00466",
         "2025-07-01T15:26:33.000Z",
         "65b580c5-28dc-45fb-a1b9-e66812a40c02",
         "Chime won’t connect even after multiple tries.",
         null,
         null,
         null,
         null,
         null,
         null
        ],
        [
         "cust_00715",
         "2025-07-10T15:10:30.000Z",
         "3f48f498-674e-4e7b-b227-baf4cef24361",
         "I can't link my Chime account. It fails at verification.",
         null,
         null,
         null,
         null,
         null,
         null
        ],
        [
         "cust_00043",
         "2025-07-19T20:19:08.000Z",
         "e64cee44-2742-4c34-af8c-e3588897cdbd",
         "I’m getting multiple texts about the same payment.",
         null,
         null,
         null,
         null,
         null,
         null
        ],
        [
         "cust_00243",
         "2025-07-23T10:54:40.000Z",
         "9a530be1-8e26-4cc0-8fe9-434c2db01903",
         "Great app, the budgeting tips helped me.",
         null,
         null,
         null,
         null,
         null,
         null
        ],
        [
         "cust_00038",
         "2025-07-21T00:18:58.000Z",
         "f1ce26d1-4a0f-4ad9-ae8c-46d141e570c0",
         "Chime connection keeps timing out during link.",
         null,
         null,
         null,
         null,
         null,
         null
        ],
        [
         "cust_00250",
         "2025-08-15T02:06:35.000Z",
         "08fe0d27-2986-404d-afbc-91d54e284cc5",
         "Stuck in an ID verifiaction loop—keeps asking again.",
         null,
         null,
         null,
         null,
         null,
         null
        ],
        [
         "cust_00240",
         "2025-07-02T07:34:30.000Z",
         "13d38c44-8bb0-4237-b7f4-010a5d853d8e",
         "Great app, the budgeting tips helped me.",
         null,
         null,
         null,
         null,
         null,
         null
        ],
        [
         "cust_00864",
         "2025-08-15T03:17:27.000Z",
         "e444a275-8b5c-4858-9c8e-96f912c043de",
         "My ID got rejected, but the image was clear.",
         null,
         null,
         null,
         null,
         null,
         null
        ],
        [
         "cust_00169",
         "2025-07-30T17:37:47.000Z",
         "5afc4491-a37f-46f6-9c69-44d6fac1e6c7",
         "Requirements seem too strict for small advances.",
         null,
         null,
         null,
         null,
         null,
         null
        ],
        [
         "cust_00807",
         "2025-08-18T00:58:48.000Z",
         "031161ab-50ae-4b5e-958d-de4dad8559d2",
         "Crashes when I open the Advance screen.",
         null,
         null,
         null,
         null,
         null,
         null
        ],
        [
         "cust_00591",
         "2025-07-14T10:54:16.000Z",
         "0cb04698-896c-4dd6-bec8-69b5e8706e65",
         "Stop sending me repeated repayment notifications.",
         null,
         null,
         null,
         null,
         null,
         null
        ],
        [
         "cust_00810",
         "2025-07-08T02:18:36.000Z",
         "5c162e61-1229-44d9-989b-f1a9f6f46644",
         "Chime won’t connect even after multiple tries.",
         null,
         null,
         null,
         null,
         null,
         null
        ],
        [
         "cust_00151",
         "2025-07-06T19:16:00.000Z",
         "2fb31dfb-9f52-42cb-920e-d6d722f1d833",
         "My ID got rejected, but the image was clear.",
         null,
         null,
         null,
         null,
         null,
         null
        ],
        [
         "cust_00781",
         "2025-06-14T07:32:43.000Z",
         "d704af82-a1cf-4dce-9685-bb53a818cf8c",
         "Customer support was super helpful.",
         null,
         null,
         null,
         null,
         null,
         null
        ],
        [
         "cust_00781",
         "2025-08-15T00:50:36.000Z",
         "e1dc771a-dca0-4fb1-8a4c-7abef1e9490b",
         "I’m getting multiple texts about the same payment.",
         null,
         null,
         null,
         null,
         null,
         null
        ],
        [
         "cust_00869",
         "2025-08-17T11:46:09.000Z",
         "63d931c0-7ee9-4976-8c1c-329edd6bb960",
         "Thanks for the quick approval yesterday.",
         null,
         null,
         null,
         null,
         null,
         null
        ],
        [
         "cust_00641",
         "2025-07-02T05:04:56.000Z",
         "be803787-f6aa-4093-aa2b-064e50e2e62d",
         "Stop sending me repeated repayment notifications.",
         null,
         null,
         null,
         null,
         null,
         null
        ],
        [
         "cust_00463",
         "2025-08-18T05:07:38.000Z",
         "5a064d7a-1094-4758-b83d-99c34f831b00",
         "Can't pass identity check; it keeps resetting.",
         null,
         null,
         null,
         null,
         null,
         null
        ],
        [
         "cust_00647",
         "2025-08-06T18:42:50.000Z",
         "36c921f4-8dc0-46fb-aa27-9faf97c1a63f",
         "The approval rules are unclear—got rejected aagin.",
         null,
         null,
         null,
         null,
         null,
         null
        ],
        [
         "cust_00577",
         "2025-07-13T03:01:37.000Z",
         "4e580c45-3ae7-464d-808a-3db900e039db",
         "Way too many repayment reminders this week.",
         null,
         null,
         null,
         null,
         null,
         null
        ],
        [
         "cust_00562",
         "2025-07-26T23:15:14.000Z",
         "7c085fe7-cd80-4a32-8748-47ac2e62654b",
         "Why does the selfie step repeat?",
         null,
         null,
         null,
         null,
         null,
         null
        ],
        [
         "cust_00197",
         "2025-07-23T15:36:28.000Z",
         "c5af3aa3-074b-42d1-a069-d9f4d2f315bd",
         "Linking to Chime returns an error code 102.",
         null,
         null,
         null,
         null,
         null,
         null
        ],
        [
         "cust_00258",
         "2025-07-17T06:57:08.000Z",
         "610a967d-5595-465e-97ee-cdcacf489018",
         "Linking to Chime returns an error code 102.",
         null,
         null,
         null,
         null,
         null,
         null
        ],
        [
         "cust_00392",
         "2025-07-01T11:32:46.000Z",
         "b89f8868-fcbd-489f-b7df-da6e6ca238ab",
         "I can't link my Chime account. It fails at verification.",
         null,
         null,
         null,
         null,
         null,
         null
        ],
        [
         "cust_00419",
         "2025-08-14T15:08:20.000Z",
         "1dc63b62-6664-4e24-a5a8-d7a9ac0648f7",
         "App is slow on my Android phone.",
         null,
         null,
         null,
         null,
         null,
         null
        ],
        [
         "cust_00609",
         "2025-07-06T20:02:53.000Z",
         "c091972e-d0e5-4e62-86a3-5dbc6b61d7ae",
         "Stop sending me repeated repayment notifications.",
         null,
         null,
         null,
         null,
         null,
         null
        ],
        [
         "cust_00852",
         "2025-07-15T17:35:21.000Z",
         "ebf5c9c3-1ba2-47b3-b0b8-ea29e48013a5",
         "Requirements seem too strict for small advances.",
         null,
         null,
         null,
         null,
         null,
         null
        ],
        [
         "cust_00152",
         "2025-08-09T22:21:17.000Z",
         "12fa06be-fcc6-4a1a-aef9-2f19c8f65aa1",
         "The approval rules are unclear—got rejected again.",
         null,
         null,
         null,
         null,
         null,
         null
        ],
        [
         "cust_00806",
         "2025-06-17T17:07:44.000Z",
         "55e6b834-c6b9-41b3-9bd8-1e8a68bd5670",
         "Chime won’t connect even after multiple tries.",
         null,
         null,
         null,
         null,
         null,
         null
        ],
        [
         "cust_00784",
         "2025-08-09T16:59:13.000Z",
         "0808a256-897e-44bd-95a0-fe6948767897",
         "Loving the instant access to cash—thanks!",
         null,
         null,
         null,
         null,
         null,
         null
        ],
        [
         "cust_00735",
         "2025-08-06T17:05:16.000Z",
         "aa171e9c-f30b-44cb-acd8-2f1612ceed5a",
         "Linking to Chime returns an error code 102.",
         null,
         null,
         null,
         null,
         null,
         null
        ],
        [
         "cust_00643",
         "2025-07-08T07:59:09.000Z",
         "0b9e1b64-7d1c-46c3-a483-1c2302b7e921",
         "My ID got rejected, but the image was clear.",
         null,
         null,
         null,
         null,
         null,
         null
        ],
        [
         "cust_00619",
         "2025-07-16T16:18:19.000Z",
         "8422ed35-304a-410a-a57c-bc4712aa6bb1",
         "Chime won’t connect evne after multiple tries.",
         null,
         null,
         null,
         null,
         null,
         null
        ],
        [
         "cust_00841",
         "2025-07-03T09:01:18.000Z",
         "8a54f048-bb13-4999-90ec-8892738d21cb",
         "The app freezes after login on Android.",
         null,
         null,
         null,
         null,
         null,
         null
        ],
        [
         "cust_00495",
         "2025-07-12T08:04:12.000Z",
         "0189deab-18b2-4b68-b6bd-ee6b64623a08",
         "Please reduce the reminder frequency.",
         null,
         null,
         null,
         null,
         null,
         null
        ],
        [
         "cust_00683",
         "2025-06-26T02:22:52.000Z",
         "5a0a3a8d-507d-4b0b-a066-e6282e4cade0",
         "Verification failed 3 times—what should I do?",
         null,
         null,
         null,
         null,
         null,
         null
        ],
        [
         "cust_00683",
         "2025-07-06T13:01:17.000Z",
         "924542f6-c1ac-400e-8574-945195baad81",
         "Please reduce the reminder frequency.",
         null,
         null,
         null,
         null,
         null,
         null
        ],
        [
         "cust_00646",
         "2025-07-11T23:08:23.000Z",
         "2340621b-baa4-43ae-999c-a87cb7b2d337",
         "The reminders feel spammy.",
         null,
         null,
         null,
         null,
         null,
         null
        ],
        [
         "cust_00385",
         "2025-08-09T04:24:59.000Z",
         "ac2d78eb-975c-431c-8a6d-59de5e49fac2",
         "Linking to Chime returns an error code 102.",
         null,
         null,
         null,
         null,
         null,
         null
        ],
        [
         "cust_00636",
         "2025-07-12T20:51:58.000Z",
         "1437cfab-3214-4c8b-a79e-0b45341cb627",
         "The app freezes after login on Android.",
         null,
         null,
         null,
         null,
         null,
         null
        ],
        [
         "cust_00636",
         "2025-08-11T22:32:50.000Z",
         "5d7342cf-8366-4853-ab1e-8d7ba4cbf289",
         "Crashes when I open the Advance screen.",
         null,
         null,
         null,
         null,
         null,
         null
        ],
        [
         "cust_00325",
         "2025-07-15T21:35:47.000Z",
         "f2634a37-ccd4-4d88-9bd6-fc317c91a941",
         "Performance is worse after the last update.",
         null,
         null,
         null,
         null,
         null,
         null
        ],
        [
         "cust_00855",
         "2025-06-14T22:30:55.000Z",
         "14040265-b6de-42e0-bd78-02c017fa57cd",
         "Chime connection keeps timing out during link.",
         null,
         null,
         null,
         null,
         null,
         null
        ],
        [
         "cust_00280",
         "2025-08-06T00:33:49.000Z",
         "3dc15d8b-3f10-4970-af0a-b6bb47d115a0",
         "Crashes when I open the Advance screen.",
         null,
         null,
         null,
         null,
         null,
         null
        ],
        [
         "cust_00073",
         "2025-06-19T17:10:08.000Z",
         "111f3187-e3c7-4e20-9502-a8d3fa843cca",
         "Why was my advance denied? I meet the criteria.",
         null,
         null,
         null,
         null,
         null,
         null
        ],
        [
         "cust_00037",
         "2025-08-13T20:31:52.000Z",
         "55333ce6-4822-4305-8d46-62c1ea1d16ad",
         "Can't pass identity check; it keeps resetting.",
         null,
         null,
         null,
         null,
         null,
         null
        ],
        [
         "cust_00189",
         "2025-08-08T17:38:59.000Z",
         "2d74e018-e1e4-4e2e-b7ff-1cb2d03596d8",
         "Requirements seem too strict for small advances.",
         null,
         null,
         null,
         null,
         null,
         null
        ],
        [
         "cust_00136",
         "2025-06-23T16:57:23.000Z",
         "18a87ea7-1028-4c2b-b2e7-95e42772976e",
         "Chime connection keeps timing out during link.",
         null,
         null,
         null,
         null,
         null,
         null
        ],
        [
         "cust_00136",
         "2025-08-02T22:03:14.000Z",
         "7ae331c9-64f2-4773-a1b3-b10183722a63",
         "Requirements seem too strict for small advances.",
         null,
         null,
         null,
         null,
         null,
         null
        ],
        [
         "cust_00787",
         "2025-06-16T08:53:55.000Z",
         "314d119a-fe72-4435-93fb-57496ca262c5",
         "Chime won’t connect even after multiple tries.",
         null,
         null,
         null,
         null,
         null,
         null
        ],
        [
         "cust_00714",
         "2025-06-21T01:41:07.000Z",
         "82bdfb8f-098c-4a87-b689-7f520c14c4f9",
         "Stop sending me repeated repayment notifications.",
         null,
         null,
         null,
         null,
         null,
         null
        ],
        [
         "cust_00033",
         "2025-06-23T22:48:51.000Z",
         "88103244-c589-4e42-939d-ba3bf8ef2bac",
         "Why does the eslfie step repeat?",
         null,
         null,
         null,
         null,
         null,
         null
        ],
        [
         "cust_00013",
         "2025-06-26T06:14:09.000Z",
         "f13287ca-83f6-4c3b-b21a-bd0f5f7ec318",
         "Can't pass identity check; it keeps resetting.",
         null,
         null,
         null,
         null,
         null,
         null
        ],
        [
         "cust_00411",
         "2025-06-19T10:19:41.000Z",
         "ec70f407-c24f-4779-9940-21d6e3b8797f",
         "Why was my advance denied? I meet the criteria.",
         null,
         null,
         null,
         null,
         null,
         null
        ],
        [
         "cust_00411",
         "2025-07-23T23:11:09.000Z",
         "cc2699b3-5e6e-40d8-95dd-b55bc3aabadc",
         "Verification failed 3 times—what should I do?",
         null,
         null,
         null,
         null,
         null,
         null
        ],
        [
         "cust_00017",
         "2025-06-26T19:06:25.000Z",
         "1e6feb62-efa1-4fec-87bd-687db53e33bc",
         "Chime connection keeps timing out during link.",
         null,
         null,
         null,
         null,
         null,
         null
        ],
        [
         "cust_00506",
         "2025-07-13T12:34:01.000Z",
         "385cffca-7dd8-4fd5-a9b1-01fadf7aa0fb",
         "Verification failed 3 times—what should I do?",
         null,
         null,
         null,
         null,
         null,
         null
        ],
        [
         "cust_00704",
         "2025-07-02T10:53:56.000Z",
         "f7d30b97-423b-448f-9007-10cdaa56516c",
         "Requirements seem too strict for samll advances.",
         null,
         null,
         null,
         null,
         null,
         null
        ],
        [
         "cust_00330",
         "2025-07-16T06:37:28.000Z",
         "70e05c9f-ab63-4984-9fca-ed5cdce3b9d8",
         "Stop sending me repeated repayment notifications.",
         null,
         null,
         null,
         null,
         null,
         null
        ],
        [
         "cust_00330",
         "2025-08-19T14:42:22.000Z",
         "016b3073-1a71-4c78-b892-0bdf27afb124",
         "Chimew on’t connect even after multiple tries.",
         null,
         null,
         null,
         null,
         null,
         null
        ],
        [
         "cust_00604",
         "2025-07-01T23:24:49.000Z",
         "8d27938f-237b-4fa7-a81f-1d57a3a566d7",
         "Chime won’t connect even after multiple tries.",
         null,
         null,
         null,
         null,
         null,
         null
        ],
        [
         "cust_00071",
         "2025-08-05T08:55:14.000Z",
         "b68877ef-3b67-4d38-b38b-8d4a184c1387",
         "Linking to Chime returns an error code 102.",
         null,
         null,
         null,
         null,
         null,
         null
        ],
        [
         "cust_00269",
         "2025-06-14T08:14:43.000Z",
         "696393b6-b3db-4622-8841-67f49ca27a6a",
         "The approval rules are unclear—got rejected again.",
         null,
         null,
         null,
         null,
         null,
         null
        ],
        [
         "cust_00196",
         "2025-07-29T20:20:06.000Z",
         "e3730d85-2f16-4dd4-a1bf-26819a6b6fd9",
         "Please clarify the approval criteria.",
         null,
         null,
         null,
         null,
         null,
         null
        ],
        [
         "cust_00263",
         "2025-06-25T02:31:48.000Z",
         "2441296b-be06-42f1-98fa-42f07a53d8bf",
         "My ID got rejected, but the image was clear.",
         null,
         null,
         null,
         null,
         null,
         null
        ],
        [
         "cust_00602",
         "2025-08-06T01:38:57.000Z",
         "06a87994-9d14-4c3e-820a-67ee5ea16881",
         "Chime won’t connect even after multiple tries.",
         null,
         null,
         null,
         null,
         null,
         null
        ],
        [
         "cust_00314",
         "2025-06-23T00:48:48.000Z",
         "ac7192f8-e2c3-455f-b3d8-6b365b722575",
         "Requirements seem too strict for small advances.",
         null,
         null,
         null,
         null,
         null,
         null
        ],
        [
         "cust_00753",
         "2025-07-21T20:43:05.000Z",
         "6a6d3def-a332-43d6-9ab6-03c57e45c5e3",
         "The app freezes after login on Android.",
         null,
         null,
         null,
         null,
         null,
         null
        ],
        [
         "cust_00753",
         "2025-07-26T12:02:07.000Z",
         "65d6ccba-5b9f-48ff-863b-0eb8b63c7833",
         "I can't link my Chime account. It fails at verification.",
         null,
         null,
         null,
         null,
         null,
         null
        ],
        [
         "cust_00236",
         "2025-08-01T05:26:30.000Z",
         "50c565a0-28ac-4bd8-a3ef-32208c5d85aa",
         "Scrolling is laggy on Android 13.",
         null,
         null,
         null,
         null,
         null,
         null
        ],
        [
         "cust_00546",
         "2025-06-22T07:34:13.000Z",
         "ee478172-adc6-42d1-b639-fdeda74ee655",
         "App is slow on my Android phone.",
         null,
         null,
         null,
         null,
         null,
         null
        ],
        [
         "cust_00900",
         "2025-07-15T11:19:18.000Z",
         "b20f7392-0046-47f8-bba5-eee58fe632d5",
         "Way too many repayment reminders this week.",
         null,
         null,
         null,
         null,
         null,
         null
        ],
        [
         "cust_00575",
         "2025-06-29T16:29:47.000Z",
         "dd38ddc6-dee0-47d8-9551-f9055de9ed75",
         "Performance is worse after the last update.",
         null,
         null,
         null,
         null,
         null,
         null
        ],
        [
         "cust_00575",
         "2025-07-28T13:11:08.000Z",
         "2637ac57-1901-4017-b73f-a44a86ba8689",
         "Chime connection keeps timing out during link.",
         null,
         null,
         null,
         null,
         null,
         null
        ],
        [
         "cust_00614",
         "2025-06-29T16:25:11.000Z",
         "c4549767-f441-43d8-b342-26fa7e9c6f95",
         "Stop sending me repeated repayment notifications.",
         null,
         null,
         null,
         null,
         null,
         null
        ],
        [
         "cust_00205",
         "2025-08-16T06:40:54.000Z",
         "fcec19df-c5d3-466f-916e-cc9400b88e5f",
         "I can't link my Chime account. It fails at verification.",
         null,
         null,
         null,
         null,
         null,
         null
        ],
        [
         "cust_00473",
         "2025-06-16T15:08:08.000Z",
         "0fa25f1f-5de9-42f0-bd8d-4ad22d2edc24",
         "Chime won’t connect even after multiple tries.",
         null,
         null,
         null,
         null,
         null,
         null
        ],
        [
         "cust_00535",
         "2025-07-28T15:15:13.000Z",
         "d5907d71-b90a-4f6f-be02-231dde567d74",
         "Can't pass identity check; it keeps resetting.",
         null,
         null,
         null,
         null,
         null,
         null
        ],
        [
         "cust_00489",
         "2025-08-05T15:23:23.000Z",
         "05073ca8-84a3-4c68-ad44-2fad1572013d",
         "Linking to Chime returns an error cod e102.",
         null,
         null,
         null,
         null,
         null,
         null
        ],
        [
         "cust_00534",
         "2025-07-08T00:05:37.000Z",
         "1dc9c18d-6c35-49c1-ab96-1b77d62081e0",
         "Scrolling is laggy on Android 13.",
         null,
         null,
         null,
         null,
         null,
         null
        ],
        [
         "cust_00338",
         "2025-07-16T08:38:53.000Z",
         "726ff40e-21ec-4eeb-b0e0-3064214c42f0",
         "Why was my advance denied? I meet the criteria.",
         null,
         null,
         null,
         null,
         null,
         null
        ],
        [
         "cust_00055",
         "2025-07-22T21:41:57.000Z",
         "5dd77f9c-da9b-4c07-816f-86aebedf3a43",
         "Please clarify the approval criteria.",
         null,
         null,
         null,
         null,
         null,
         null
        ],
        [
         "cust_00072",
         "2025-08-22T20:22:36.000Z",
         "eb971c33-43ba-470d-8d21-4a1eac686b65",
         "Great app, the budgeting tips helped me.",
         null,
         null,
         null,
         null,
         null,
         null
        ],
        [
         "cust_00390",
         "2025-07-12T02:18:22.000Z",
         "6f861b6d-444b-4cc1-a73c-d82403e7a2ab",
         "Great app, the budgeting tips helped me.",
         null,
         null,
         null,
         null,
         null,
         null
        ],
        [
         "cust_00399",
         "2025-07-29T05:39:56.000Z",
         "6863d004-5559-4f1a-ba86-d64fdb052425",
         "I’m getting multiple texts about the same payment.",
         null,
         null,
         null,
         null,
         null,
         null
        ],
        [
         "cust_00029",
         "2025-07-22T19:18:05.000Z",
         "76058f33-15fb-45f9-9a4c-580c377f5b82",
         "Stop sending me repeated repayment notifications.",
         null,
         null,
         null,
         null,
         null,
         null
        ],
        [
         "cust_00028",
         "2025-06-16T21:24:57.000Z",
         "f477818c-fa7f-4d38-a05b-ac0633f7c198",
         "Chime connection keeps timing out during link.",
         null,
         null,
         null,
         null,
         null,
         null
        ],
        [
         "cust_00117",
         "2025-08-06T14:49:20.000Z",
         "61896f83-0372-45d6-9e3e-bdf8c9235f0e",
         "I’m getting multiple texts about the same payment.",
         null,
         null,
         null,
         null,
         null,
         null
        ],
        [
         "cust_00539",
         "2025-06-30T22:00:23.000Z",
         "ba2570d2-bbc7-4ac5-9d2a-a190b9fc0516",
         "The approval rules are unclear—got rejected again.",
         null,
         null,
         null,
         null,
         null,
         null
        ],
        [
         "cust_00477",
         "2025-08-16T03:39:32.000Z",
         "b14bbb79-8f69-4a85-998e-3a67878e2450",
         "Please clarify the approval criteria.",
         null,
         null,
         null,
         null,
         null,
         null
        ],
        [
         "cust_00750",
         "2025-08-15T18:03:58.000Z",
         "5ab95594-f5fc-4d54-8207-ee88b5cccc27",
         "Chime won’t connect eve nafter multiple tries.",
         null,
         null,
         null,
         null,
         null,
         null
        ],
        [
         "cust_00218",
         "2025-07-16T15:50:39.000Z",
         "fa5a61b0-e51e-48df-9211-95b56ef93832",
         "Linking to Chime returns an error code 102.",
         null,
         null,
         null,
         null,
         null,
         null
        ],
        [
         "cust_00668",
         "2025-07-10T03:59:22.000Z",
         "1970db68-c18a-4a8a-b021-bd5b9dbe5d41",
         "My ID got rejected, but the image was clear.",
         null,
         null,
         null,
         null,
         null,
         null
        ],
        [
         "cust_00442",
         "2025-07-15T11:49:51.000Z",
         "362ebb55-62c8-4db4-b785-1deb84762be4",
         "Scrolling is laggy on Android 13.",
         null,
         null,
         null,
         null,
         null,
         null
        ],
        [
         "cust_00658",
         "2025-06-25T20:38:09.000Z",
         "702441ec-d118-440a-a3a7-1ce5a346129b",
         "The new UI lokos clean and easy to use.",
         null,
         null,
         null,
         null,
         null,
         null
        ],
        [
         "cust_00130",
         "2025-07-06T02:03:27.000Z",
         "9b31283d-457c-41ae-a6f5-7685d392cff0",
         "I keep getting denied without explnaation.",
         null,
         null,
         null,
         null,
         null,
         null
        ],
        [
         "cust_00845",
         "2025-06-19T18:57:00.000Z",
         "4b30d93f-c2e3-495f-af69-79ce5dc99d92",
         "Linking to Chime returns an error code 102.",
         null,
         null,
         null,
         null,
         null,
         null
        ],
        [
         "cust_00845",
         "2025-06-25T06:06:00.000Z",
         "9784d108-b8b4-4766-9af5-01b58458feba",
         "The new UI looks clean and easy to use.",
         null,
         null,
         null,
         null,
         null,
         null
        ],
        [
         "cust_00375",
         "2025-07-01T01:15:15.000Z",
         "15fdebd6-d6df-4d1a-be33-275d27d70a08",
         "Why is Chime link broken today?",
         null,
         null,
         null,
         null,
         null,
         null
        ],
        [
         "cust_00157",
         "2025-06-21T19:44:34.000Z",
         "8288398a-1887-4581-b038-f8914dc2fbf0",
         "Chime connection keeps timing out during link.",
         null,
         null,
         null,
         null,
         null,
         null
        ],
        [
         "cust_00622",
         "2025-07-13T12:03:47.000Z",
         "237200d6-daab-4946-81ed-57120764509a",
         "Requirements seem too strict for small advances.",
         null,
         null,
         null,
         null,
         null,
         null
        ],
        [
         "cust_00363",
         "2025-07-23T12:30:06.000Z",
         "f03ca581-2ff4-4233-920d-350f9aafc081",
         "I can't link my Chime account. It fails at verification.",
         null,
         null,
         null,
         null,
         null,
         null
        ],
        [
         "cust_00765",
         "2025-08-12T22:46:05.000Z",
         "e5880a2f-7d2b-4db5-a2db-be6135bed87a",
         "Linking to Chime returns an error code 102.",
         null,
         null,
         null,
         null,
         null,
         null
        ],
        [
         "cust_00354",
         "2025-07-31T12:55:40.000Z",
         "a22502ec-3290-484b-99d6-ccce7d88aba7",
         "The app freezes after login on Android.",
         null,
         null,
         null,
         null,
         null,
         null
        ],
        [
         "cust_00323",
         "2025-07-09T23:51:53.000Z",
         "3fd44d46-59fc-483a-89db-3cbfd1953896",
         "Why is Chime link broken today?",
         null,
         null,
         null,
         null,
         null,
         null
        ],
        [
         "cust_00272",
         "2025-06-25T04:44:56.000Z",
         "b333fb33-e939-4189-9595-6641bb708216",
         "Customer support was super helpful.",
         null,
         null,
         null,
         null,
         null,
         null
        ],
        [
         "cust_00272",
         "2025-08-16T13:44:03.000Z",
         "b81b3ecb-bfac-420a-84ee-8b5cbc222a8c",
         "Loving the instant access to cash—thanks!",
         null,
         null,
         null,
         null,
         null,
         null
        ],
        [
         "cust_00277",
         "2025-08-04T20:37:10.000Z",
         "3901cf13-7b44-421d-9479-f70ab920033e",
         "My ID got rejected, but the image was clear.",
         null,
         null,
         null,
         null,
         null,
         null
        ],
        [
         "cust_00594",
         "2025-06-29T00:41:09.000Z",
         "59f35fe8-edd5-4109-81be-0665fd75f520",
         "Chime connection keeps timing out during link.",
         null,
         null,
         null,
         null,
         null,
         null
        ],
        [
         "cust_00686",
         "2025-06-15T23:28:19.000Z",
         "4a094a5f-5497-40fc-8114-c1069df29959",
         "My ID got rejected, but the image was clear.",
         null,
         null,
         null,
         null,
         null,
         null
        ],
        [
         "cust_00571",
         "2025-07-01T01:49:44.000Z",
         "45879268-0efe-4f31-a86a-6f2d9bcac22b",
         "Performance is worse after the last update.",
         null,
         null,
         null,
         null,
         null,
         null
        ],
        [
         "cust_00213",
         "2025-06-19T20:19:48.000Z",
         "4e9a82df-d350-43be-9968-0c9dfe149a50",
         "Stuck in an ID verification loop—keeps asking again.",
         null,
         null,
         null,
         null,
         null,
         null
        ],
        [
         "cust_00213",
         "2025-06-26T05:24:26.000Z",
         "fe39315b-6efe-4852-a3d6-fd1a13c23a25",
         "Crashes when I open the Advance screen.",
         null,
         null,
         null,
         null,
         null,
         null
        ],
        [
         "cust_00498",
         "2025-06-15T10:22:17.000Z",
         "f5081c3c-6a2a-4343-b6f1-a474182cfeaf",
         "Great app, the budgeting tips helped me.",
         null,
         null,
         null,
         null,
         null,
         null
        ],
        [
         "cust_00426",
         "2025-06-26T18:11:42.000Z",
         "9bb9c30e-f9a4-4358-bf62-84473a172d83",
         "Linking to Chime returns an error code 102.",
         null,
         null,
         null,
         null,
         null,
         null
        ],
        [
         "cust_00692",
         "2025-06-21T18:39:23.000Z",
         "6c5153ce-052e-440c-a124-feb35c849607",
         "App is slow on my Android phone.",
         null,
         null,
         null,
         null,
         null,
         null
        ],
        [
         "cust_00630",
         "2025-08-02T19:54:52.000Z",
         "232182e9-8ad2-4bcc-9f9a-3baa7680c71a",
         "Can't pass identity check; it keeps resetting.",
         null,
         null,
         null,
         null,
         null,
         null
        ],
        [
         "cust_00724",
         "2025-08-10T15:39:49.000Z",
         "79b40bc2-bd27-47cc-8f76-e0fee3ba5da7",
         "Way too many repayment reminders this week.",
         null,
         null,
         null,
         null,
         null,
         null
        ],
        [
         "cust_00717",
         "2025-07-07T00:42:45.000Z",
         "eeae6e89-5b2f-4998-8d55-cb45b3933922",
         "I keep getting denied without explanation.",
         null,
         null,
         null,
         null,
         null,
         null
        ],
        [
         "cust_00721",
         "2025-06-22T18:34:56.000Z",
         "0856d6d6-8952-47e7-9420-803de6738a13",
         "Way too many repayment reminders this week.",
         null,
         null,
         null,
         null,
         null,
         null
        ],
        [
         "cust_00420",
         "2025-07-26T17:58:16.000Z",
         "81b12dc0-cca8-41a8-9ca3-7b9a66655303",
         "Chime wont’ connect even after multiple tries.",
         null,
         null,
         null,
         null,
         null,
         null
        ],
        [
         "cust_00649",
         "2025-08-12T01:25:08.000Z",
         "cfd966a5-997f-4e85-80f2-0937a3886a41",
         "Chime connection keeps timing out during link.",
         null,
         null,
         null,
         null,
         null,
         null
        ],
        [
         "cust_00857",
         "2025-07-15T07:02:49.000Z",
         "8f5be738-f0e8-42e0-8435-ab2d0f84efc8",
         "Stuck in an ID verification loop—keeps askign again.",
         null,
         null,
         null,
         null,
         null,
         null
        ],
        [
         "cust_00105",
         "2025-07-22T12:15:18.000Z",
         "2a1ca286-6eca-4ec2-87e4-53e61ac3f0c1",
         "Great app, the ubdgeting tips helped me.",
         null,
         null,
         null,
         null,
         null,
         null
        ],
        [
         "cust_00839",
         "2025-08-03T01:04:24.000Z",
         "722306d5-15c3-43ea-8a66-1f068f058e23",
         "Why does the selfie step repeat?",
         null,
         null,
         null,
         null,
         null,
         null
        ],
        [
         "cust_00556",
         "2025-08-21T14:03:33.000Z",
         "9ddbaeec-4a95-49db-bb0c-2f2b42a43167",
         "Requirements seem too strict for small advances.",
         null,
         null,
         null,
         null,
         null,
         null
        ],
        [
         "cust_00598",
         "2025-08-05T07:53:29.000Z",
         "8d3ec3e8-8d70-4038-9ab2-eb27ee1e52b5",
         "Please clarify the approval criteria.",
         null,
         null,
         null,
         null,
         null,
         null
        ],
        [
         "cust_00694",
         "2025-06-14T21:52:51.000Z",
         "39984937-8702-41c4-8dcb-a619e8474d34",
         "The new UI looks clean and easy to use.",
         null,
         null,
         null,
         null,
         null,
         null
        ],
        [
         "cust_00286",
         "2025-07-06T02:19:09.000Z",
         "f5b9a116-7015-4293-a8af-fd828af3b552",
         "The approval rules are unclear—got rejected again.",
         null,
         null,
         null,
         null,
         null,
         null
        ],
        [
         "cust_00110",
         "2025-06-24T01:21:26.000Z",
         "434e0219-033b-4e15-bdf2-ee8c13689d0f",
         "Great app, the budgeting tips helped me.",
         null,
         null,
         null,
         null,
         null,
         null
        ],
        [
         "cust_00110",
         "2025-07-13T07:58:40.000Z",
         "fb72d0ba-89ae-46bf-b20d-f7be1273f442",
         "Chime won’t connect even after multiple tries.",
         null,
         null,
         null,
         null,
         null,
         null
        ],
        [
         "cust_00454",
         "2025-08-13T01:00:09.000Z",
         "02c046f0-d89c-4860-8963-d911e2f8b33b",
         "Please clarify the approval criteria.",
         null,
         null,
         null,
         null,
         null,
         null
        ],
        [
         "cust_00353",
         "2025-08-17T11:07:20.000Z",
         "cc2ffaea-9af5-4330-a12d-404662493475",
         "Can't pass identity check; it keeps resetting.",
         null,
         null,
         null,
         null,
         null,
         null
        ],
        [
         "cust_00046",
         "2025-06-18T22:21:12.000Z",
         "2c3174fd-2661-44fc-9941-f8f36fcbeb55",
         "Chime won’t connect even after multiple tries.",
         null,
         null,
         null,
         null,
         null,
         null
        ],
        [
         "cust_00689",
         "2025-08-08T20:17:39.000Z",
         "1aa9e002-c380-46d4-9947-69985cd4d690",
         "Stuck in an ID verification loop—keeps asking again.",
         null,
         null,
         null,
         null,
         null,
         null
        ],
        [
         "cust_00304",
         "2025-08-03T22:28:33.000Z",
         "d1f5cd64-07e9-4e4d-8909-35fdc9128d29",
         "Stuck in an ID verification loop—keeps asking again.",
         null,
         null,
         null,
         null,
         null,
         null
        ],
        [
         "cust_00283",
         "2025-08-11T04:38:03.000Z",
         "51e9b974-cdb0-496d-965c-1dfbfda6428b",
         "I’m getting multiple texts about the same payment.",
         null,
         null,
         null,
         null,
         null,
         null
        ],
        [
         "cust_00706",
         "2025-08-06T14:13:06.000Z",
         "74301a04-85cd-4bdd-8a8f-4f6458994f6c",
         "I can't link my Chime account. It fails at verification.",
         null,
         null,
         null,
         null,
         null,
         null
        ],
        [
         "cust_00706",
         "2025-08-08T06:19:54.000Z",
         "6e14a8a5-af0f-4696-800f-4f51a8815ca7",
         "The new UI looks clean and easy to use.",
         null,
         null,
         null,
         null,
         null,
         null
        ],
        [
         "cust_00768",
         "2025-07-24T22:18:02.000Z",
         "7acf22d4-ab12-473d-9108-462511aae6d1",
         "I can't link my Chime account. It fails at verification.",
         null,
         null,
         null,
         null,
         null,
         null
        ],
        [
         "cust_00018",
         "2025-08-20T01:13:11.000Z",
         "e07caf50-b148-492c-a74d-3bfc5a230d02",
         "The reminders feel spammy.",
         null,
         null,
         null,
         null,
         null,
         null
        ],
        [
         "cust_00827",
         "2025-07-26T13:01:38.000Z",
         "100ee89f-e4a4-4989-b40e-177bccb32716",
         "Scrolling is laggy on Android 13.",
         null,
         null,
         null,
         null,
         null,
         null
        ],
        [
         "cust_00827",
         "2025-08-08T10:36:36.000Z",
         "86b66e72-b462-44f9-8354-0a62f760e23b",
         "My ID got rejected, but the image was clear.",
         null,
         null,
         null,
         null,
         null,
         null
        ],
        [
         "cust_00012",
         "2025-07-29T10:37:07.000Z",
         "97600630-cbb7-41cb-a066-424c97eeaf8f",
         "Stop sending me repeated repayment notifications.",
         null,
         null,
         null,
         null,
         null,
         null
        ],
        [
         "cust_00447",
         "2025-07-26T22:27:09.000Z",
         "090fa688-6237-459b-b6b7-cc90418c1857",
         "Great app, the budgeting tips helped me.",
         null,
         null,
         null,
         null,
         null,
         null
        ],
        [
         "cust_00048",
         "2025-06-23T18:10:55.000Z",
         "a55ea2b3-0951-4faf-b5bd-ba2dde14d7f2",
         "Please reduce the reminder frequency.",
         null,
         null,
         null,
         null,
         null,
         null
        ],
        [
         "cust_00468",
         "2025-07-13T01:03:47.000Z",
         "979ec9b2-5240-4f4b-a840-9e7adcbc992b",
         "Can't pass identity check; it keeps resetting.",
         null,
         null,
         null,
         null,
         null,
         null
        ],
        [
         "cust_00662",
         "2025-07-25T02:59:35.000Z",
         "ab48af59-00bf-4f32-ae76-2c89eece997b",
         "I can't link my Chime account. It fails at verification.",
         null,
         null,
         null,
         null,
         null,
         null
        ],
        [
         "cust_00389",
         "2025-07-07T16:13:34.000Z",
         "594b0c17-344d-4b1f-a8a5-598bbd19a7a7",
         "Performance is worse after the last update.",
         null,
         null,
         null,
         null,
         null,
         null
        ],
        [
         "cust_00679",
         "2025-08-04T20:34:53.000Z",
         "e55d22e9-e947-44f1-a303-066a824b3a0f",
         "Chime won’t connect even after multiple tries.",
         null,
         null,
         null,
         null,
         null,
         null
        ],
        [
         "cust_00603",
         "2025-06-25T17:56:36.000Z",
         "70054b2f-eda4-474b-a00a-ab29d07bea3f",
         "Why was my advance denied? I meet the criteria.",
         null,
         null,
         null,
         null,
         null,
         null
        ],
        [
         "cust_00433",
         "2025-07-08T03:23:40.000Z",
         "4b88648c-acd3-4628-8993-07a1d46e63e0",
         "Why is Chime link broken today?",
         null,
         null,
         null,
         null,
         null,
         null
        ],
        [
         "cust_00364",
         "2025-07-10T23:42:31.000Z",
         "06fefd87-dcd3-4ba8-b961-f5d2b25542cc",
         "Please reduce the reminder frequency.",
         null,
         null,
         null,
         null,
         null,
         null
        ],
        [
         "cust_00460",
         "2025-08-07T11:46:44.000Z",
         "7defa347-17e5-4fab-9be7-138b143c2489",
         "Why is Chime link broken today?",
         null,
         null,
         null,
         null,
         null,
         null
        ],
        [
         "cust_00579",
         "2025-06-17T20:35:17.000Z",
         "5cd5e5c0-b6ff-4c30-8917-2078eeae28e4",
         "Can't pass identity check; it keeps resetting.",
         null,
         null,
         null,
         null,
         null,
         null
        ],
        [
         "cust_00499",
         "2025-07-28T04:13:46.000Z",
         "7bf4b279-b724-4139-82bc-a6051d8eee1b",
         "Please clarify the approval criteria.",
         null,
         null,
         null,
         null,
         null,
         null
        ],
        [
         "cust_00437",
         "2025-06-17T00:34:10.000Z",
         "f4c5de33-aac3-49f7-8336-8c5ca3ec8d36",
         "Chime won’t connect even after multiple tries.",
         null,
         null,
         null,
         null,
         null,
         null
        ],
        [
         "cust_00574",
         "2025-08-19T05:18:50.000Z",
         "c233f3c7-0872-44ef-9cb0-0b365431598d",
         "Why was my advance denied? I meet the criteria.",
         null,
         null,
         null,
         null,
         null,
         null
        ],
        [
         "cust_00705",
         "2025-07-21T06:43:04.000Z",
         "8c6759f9-85d9-4728-8d8c-8f80ec50090c",
         "The approval rules are unclear—got rejected again.",
         null,
         null,
         null,
         null,
         null,
         null
        ],
        [
         "cust_00312",
         "2025-08-16T00:49:15.000Z",
         "401217f7-29a2-4a50-ac9b-6138c6804a23",
         "I’ mgetting multiple texts about the same payment.",
         null,
         null,
         null,
         null,
         null,
         null
        ],
        [
         "cust_00678",
         "2025-08-07T22:42:06.000Z",
         "d099fbec-56ba-4463-9e60-e9bacbda885b",
         "Scrolling is laggy on Android 13.",
         null,
         null,
         null,
         null,
         null,
         null
        ],
        [
         "cust_00003",
         "2025-07-24T06:52:09.000Z",
         "27fc905c-6701-4e9c-a5d3-d75718523270",
         "Why is Chime link broken today?",
         null,
         null,
         null,
         null,
         null,
         null
        ],
        [
         "cust_00792",
         "2025-08-09T01:18:40.000Z",
         "76af653d-42aa-4e51-a400-4c32af8ea4bd",
         "I can't link m yChime account. It fails at verification.",
         null,
         null,
         null,
         null,
         null,
         null
        ],
        [
         "cust_00228",
         "2025-08-21T02:04:47.000Z",
         "059bd08b-b530-4f55-8871-d4e6ff8a2bf8",
         "I can't link my Chime account. It fails at verification.",
         null,
         null,
         null,
         null,
         null,
         null
        ],
        [
         "cust_00264",
         "2025-08-04T12:57:32.000Z",
         "0d4e69a6-d06e-49c5-a44d-0332c431fec4",
         "Please reduce the reminder frequency.",
         null,
         null,
         null,
         null,
         null,
         null
        ],
        [
         "cust_00761",
         "2025-07-21T17:35:37.000Z",
         "505a9976-605a-4efa-aca0-22784f27d804",
         "Please clarify the approval criteria.",
         null,
         null,
         null,
         null,
         null,
         null
        ],
        [
         "cust_00770",
         "2025-07-27T07:02:14.000Z",
         "22d632c3-de51-41fd-9e25-a9e00b76b683",
         "The new UI looks clean and easy to use.",
         null,
         null,
         null,
         null,
         null,
         null
        ],
        [
         "cust_00225",
         "2025-06-14T12:54:13.000Z",
         "a4f49e7a-88ce-45aa-ae45-af6a2773967a",
         "Loving the instant access to cash—thanks!",
         null,
         null,
         null,
         null,
         null,
         null
        ],
        [
         "cust_00409",
         "2025-08-05T08:38:03.000Z",
         "7768fdfe-48ad-49e1-a333-8ad143ac2f68",
         "Crashes when I open the Advance screen.",
         null,
         null,
         null,
         null,
         null,
         null
        ],
        [
         "cust_00127",
         "2025-08-07T02:36:57.000Z",
         "a877044d-4198-4ed1-97e2-787e47c96edd",
         "Requirements seem too strict for samll advances.",
         null,
         null,
         null,
         null,
         null,
         null
        ],
        [
         "cust_00143",
         "2025-08-15T01:57:20.000Z",
         "2ad47d6f-f57b-45a0-98e7-df0871e309e1",
         "Linking to Chime returns an error code 102.",
         null,
         null,
         null,
         null,
         null,
         null
        ],
        [
         "cust_00788",
         "2025-08-19T01:09:30.000Z",
         "0d361ddf-f1ea-4911-b999-20a415cf78ec",
         "Why does the selfie step repeat?",
         null,
         null,
         null,
         null,
         null,
         null
        ],
        [
         "cust_00371",
         "2025-06-21T15:36:03.000Z",
         "00f16c2f-4688-4c85-b237-ffb8102f346e",
         "Stop sending me repeated repayment notifications.",
         null,
         null,
         null,
         null,
         null,
         null
        ],
        [
         "cust_00371",
         "2025-06-25T00:48:19.000Z",
         "d99c5c4a-015a-4624-bd11-4ed01b817d7e",
         "The app freezes after login on Android.",
         null,
         null,
         null,
         null,
         null,
         null
        ],
        [
         "cust_00026",
         "2025-06-29T18:38:23.000Z",
         "27a69d9a-7a39-4ca7-81e7-d3c98afe63ff",
         "Great app, the budgeting tips helped me.",
         null,
         null,
         null,
         null,
         null,
         null
        ],
        [
         "cust_00720",
         "2025-07-25T07:28:44.000Z",
         "4edc2bb8-7a9d-4a98-ab25-f052f007f550",
         "Thanks for the quick approval yesterday.",
         null,
         null,
         null,
         null,
         null,
         null
        ],
        [
         "cust_00247",
         "2025-07-07T10:23:01.000Z",
         "7efecd47-c742-4d3c-a1e0-8dd55579b200",
         "Can't pass identity check; it keeps resetting.",
         null,
         null,
         null,
         null,
         null,
         null
        ],
        [
         "cust_00219",
         "2025-08-16T13:33:28.000Z",
         "9ef5ab27-b21e-4947-8b43-c64f5cef4874",
         "Requirements seem too strict for small advances.",
         null,
         null,
         null,
         null,
         null,
         null
        ],
        [
         "cust_00638",
         "2025-07-23T06:06:34.000Z",
         "03ba4457-296c-4805-97a4-0bca2b8e5350",
         "Can't pass identity check; it keeps resetting.",
         null,
         null,
         null,
         null,
         null,
         null
        ],
        [
         "cust_00849",
         "2025-07-31T14:14:09.000Z",
         "f5017bf2-2879-4c6b-a363-538c4bbaf77e",
         "Linking to Chime returns an error code 102.",
         null,
         null,
         null,
         null,
         null,
         null
        ],
        [
         "cust_00178",
         "2025-08-13T17:32:20.000Z",
         "4e630a0c-2197-444f-b54f-1551a8797925",
         "Why was my advance denied? I meet the criteria.",
         null,
         null,
         null,
         null,
         null,
         null
        ],
        [
         "cust_00824",
         "2025-08-18T15:55:54.000Z",
         "a976802d-8e6c-4927-80af-832b2841e439",
         "Can't pass identity check; it keeps resetting.",
         null,
         null,
         null,
         null,
         null,
         null
        ],
        [
         "cust_00821",
         "2025-07-08T04:39:26.000Z",
         "85d7e5e4-5d3a-4011-99c1-597d0f2b774c",
         "Loving the instant access to cash—thanks!",
         null,
         null,
         null,
         null,
         null,
         null
        ],
        [
         "cust_00388",
         "2025-07-09T16:21:41.000Z",
         "d6cea13e-81d3-49fa-b2b6-edd49bf33c0b",
         "The app freezes after login on Android.",
         null,
         null,
         null,
         null,
         null,
         null
        ],
        [
         "cust_00310",
         "2025-07-05T11:48:22.000Z",
         "aedaefa1-71c7-403e-b414-845cb8ae9161",
         "Can't pass identity check; it keeps resetting.",
         null,
         null,
         null,
         null,
         null,
         null
        ],
        [
         "cust_00680",
         "2025-08-16T11:51:30.000Z",
         "1c97aabf-ce52-40e7-8378-332402f2920e",
         "Stop sending me repeated repayment notifications.",
         null,
         null,
         null,
         null,
         null,
         null
        ]
       ],
       "datasetInfos": [],
       "dbfsResultPath": null,
       "isJsonSchema": true,
       "metadata": {},
       "overflow": false,
       "plotOptions": {
        "customPlotOptions": {},
        "displayType": "table",
        "pivotAggregation": null,
        "pivotColumns": null,
        "xColumns": null,
        "yColumns": null
       },
       "removedWidgets": [],
       "schema": [
        {
         "metadata": "{}",
         "name": "customer_id",
         "type": "\"string\""
        },
        {
         "metadata": "{}",
         "name": "created_at",
         "type": "\"timestamp\""
        },
        {
         "metadata": "{}",
         "name": "id",
         "type": "\"string\""
        },
        {
         "metadata": "{}",
         "name": "message",
         "type": "\"string\""
        },
        {
         "metadata": "{}",
         "name": "last_login",
         "type": "\"timestamp\""
        },
        {
         "metadata": "{}",
         "name": "feature_usage_count",
         "type": "\"long\""
        },
        {
         "metadata": "{}",
         "name": "total_spend",
         "type": "\"double\""
        },
        {
         "metadata": "{}",
         "name": "subscription_tier",
         "type": "\"string\""
        },
        {
         "metadata": "{}",
         "name": "advance_attempts_30d",
         "type": "\"long\""
        },
        {
         "metadata": "{}",
         "name": "advance_approvals_30d",
         "type": "\"long\""
        }
       ],
       "type": "table"
      }
     },
     "output_type": "display_data"
    }
   ],
   "source": [
    "#Merge the dataframs on customer_id\n",
    "customer_df = feedback_df.join(product_usage_df, on=\"customer_id\", how=\"left\")\n",
    "\n",
    "# Display the merged DataFrame\n",
    "display(customer_df)"
   ]
  },
  {
   "cell_type": "code",
   "execution_count": 0,
   "metadata": {
    "application/vnd.databricks.v1+cell": {
     "cellMetadata": {
      "byteLimit": 2048000,
      "rowLimit": 10000
     },
     "inputWidgets": {},
     "nuid": "4e02904e-ec6c-4134-bfe0-56c77d421eed",
     "showTitle": false,
     "tableResultSettingsMap": {},
     "title": ""
    }
   },
   "outputs": [
    {
     "output_type": "stream",
     "name": "stdout",
     "output_type": "stream",
     "text": [
      "['Chime Connection Issues', 'ID Verification Problems', 'Repayment Reminder Frequency', 'App Performance Issues', 'Advance Approval Denials']\n"
     ]
    }
   ],
   "source": [
    "import os\n",
    "from huggingface_hub import InferenceClient\n",
    "from pyspark.sql import Row\n",
    "\n",
    "\n",
    "#Initialize Hugging Face client\n",
    "client = InferenceClient(\n",
    "    provider=\"cerebras\",\n",
    "    api_key=os.environ[\"HF_TOKEN\"],\n",
    ")\n",
    "\n",
    "#Collect messages from Spark DataFrame\n",
    "\n",
    "messages_list = [row['message'] for row in customer_df.select(\"message\").collect()]\n",
    "\n",
    "\n",
    "#Create prompt for theme extraction\n",
    "\n",
    "prompt = f\"\"\"\n",
    "You are a data analyst. Below is a list of 260 customer support messages.\n",
    "\n",
    "Your task:\n",
    "- Identify exactly 3 to 5 main recurring themes (do not echo messages).\n",
    "- Each theme must be no more than 5 words.\n",
    "- **Return ONLY an array of strings.**\n",
    "- Do NOT include any extra words or explanation\n",
    "\n",
    "\n",
    "Messages:\n",
    "{chr(10).join(messages_list)}\n",
    "\"\"\"\n",
    "\n",
    "\n",
    "#Call the model\n",
    "completion = client.chat.completions.create(\n",
    "    model=\"meta-llama/Llama-3.1-8B-Instruct\",\n",
    "    messages=[{\"role\": \"user\", \"content\": prompt}],\n",
    "    max_tokens=300,\n",
    "    temperature=0\n",
    ")\n",
    "\n",
    "\n",
    "# Extract themes from response\n",
    "if hasattr(completion.choices[0].message, 'content'):\n",
    "    themes = completion.choices[0].message.content\n",
    "else:\n",
    "    themes = str(completion)\n",
    "\n",
    "print(themes)\n",
    "\n"
   ]
  },
  {
   "cell_type": "code",
   "execution_count": 0,
   "metadata": {
    "application/vnd.databricks.v1+cell": {
     "cellMetadata": {
      "byteLimit": 2048000,
      "rowLimit": 10000
     },
     "inputWidgets": {},
     "nuid": "11c04dbd-48f8-4f87-8a5c-36dfb23b90c8",
     "showTitle": false,
     "tableResultSettingsMap": {},
     "title": ""
    }
   },
   "outputs": [
    {
     "output_type": "display_data",
     "data": {
      "text/html": [
       "<style scoped>\n",
       "  .table-result-container {\n",
       "    max-height: 300px;\n",
       "    overflow: auto;\n",
       "  }\n",
       "  table, th, td {\n",
       "    border: 1px solid black;\n",
       "    border-collapse: collapse;\n",
       "  }\n",
       "  th, td {\n",
       "    padding: 5px;\n",
       "  }\n",
       "  th {\n",
       "    text-align: left;\n",
       "  }\n",
       "</style><div class='table-result-container'><table class='table-result'><thead style='background-color: white'><tr><th>customer_id</th><th>message</th><th>theme</th></tr></thead><tbody><tr><td>cust_00162</td><td>Why does the selfie step repeat?</td><td>App Performance Issues</td></tr><tr><td>cust_00170</td><td>Customer support was super helpful.</td><td>Chime Connection Issues</td></tr><tr><td>cust_00139</td><td>The approval rules are unclear—got rejected again.</td><td>Advance Approval Denials</td></tr><tr><td>cust_00731</td><td>Loving the instant access to cash—thanks!</td><td>App Performance Issues</td></tr><tr><td>cust_00465</td><td>The new UI looks clean and easy to use.</td><td>App Performance Issues</td></tr><tr><td>cust_00873</td><td>Chime connection keeps timing out during link.</td><td>Chime Connection Issues</td></tr><tr><td>cust_00103</td><td>Great app, the budgeting tips helped me.</td><td>App Performance Issues</td></tr><tr><td>cust_00347</td><td>My ID got rejected, but the image was clear.</td><td>ID Verification Problems</td></tr><tr><td>cust_00676</td><td>Chime won’t connect even after multiple tries.</td><td>Chime Connection Issues</td></tr><tr><td>cust_00558</td><td>Why does the selfie step repeat?</td><td>App Performance Issues</td></tr><tr><td>cust_00001</td><td>Chime won’t connect even after multiple tries.</td><td>Chime Connection Issues</td></tr><tr><td>cust_00027</td><td>Chime connection keeps timing out during link.</td><td>Chime Connection Issues</td></tr><tr><td>cust_00612</td><td>Chime won’t connect even after multiple tries.</td><td>Chime Connection Issues</td></tr><tr><td>cust_00179</td><td>Chime won’t connect even after multiple tries.</td><td>Chime Connection Issues</td></tr><tr><td>cust_00803</td><td>Can't pass identity check; it keeps resetting.</td><td>ID Verification Problems</td></tr><tr><td>cust_00739</td><td>Why does the selfie step repeat?</td><td>App Performance Issues</td></tr><tr><td>cust_00094</td><td>Crashes when I open the Advance screen.</td><td>App Performance Issues</td></tr><tr><td>cust_00611</td><td>Chime won’t connect even after multiple tries.</td><td>Chime Connection Issues</td></tr><tr><td>cust_00147</td><td>Requirements seem too strict for small advances.</td><td>Advance Approval Denials</td></tr><tr><td>cust_00782</td><td>Why was my advance denied? I meet the criteria.</td><td>Advance Approval Denials</td></tr><tr><td>cust_00332</td><td>Why was my advance denied? I meet the criteria.</td><td>Advance Approval Denials</td></tr><tr><td>cust_00736</td><td>Linking to Chime returns an error code 102.</td><td>Chime Connection Issues</td></tr><tr><td>cust_00774</td><td>Stuck in an ID verification loop—keeps asking again.</td><td>ID Verification Problems</td></tr><tr><td>cust_00422</td><td>Customer support was super helpful.</td><td>Chime Connection Issues</td></tr><tr><td>cust_00521</td><td>Stop sending me repeated repayment notifications.</td><td>Repayment Reminder Frequency</td></tr><tr><td>cust_00195</td><td>Stop sending me repeated repayment notifications.</td><td>Repayment Reminder Frequency</td></tr><tr><td>cust_00707</td><td>App is slow on my Android phone.</td><td>App Performance Issues</td></tr><tr><td>cust_00625</td><td>Chime connection keeps timing out during link.</td><td>Chime Connection Issues</td></tr><tr><td>cust_00696</td><td>App is slow on my Android phone.</td><td>App Performance Issues</td></tr><tr><td>cust_00056</td><td>Way too many repayment reminders this week.</td><td>Repayment Reminder Frequency</td></tr><tr><td>cust_00217</td><td>Requirements seem too strict for small advances.</td><td>Advance Approval Denials</td></tr><tr><td>cust_00816</td><td>Linking to Chime returns an error code 102.</td><td>Chime Connection Issues</td></tr><tr><td>cust_00554</td><td>Chime connection keeps timing out during link.</td><td>Chime Connection Issues</td></tr><tr><td>cust_00078</td><td>Please reduce the reminder frequency.</td><td>Repayment Reminder Frequency</td></tr><tr><td>cust_00074</td><td>Why does the eslfie step repeat?</td><td>App Performance Issues</td></tr><tr><td>cust_00831</td><td>Great app, the budgeting tips helped me.</td><td>App Performance Issues</td></tr><tr><td>cust_00111</td><td>The app freezes after login on Android.</td><td>App Performance Issues</td></tr><tr><td>cust_00734</td><td>My ID got rejected, but the image was clear.</td><td>ID Verification Problems</td></tr><tr><td>cust_00843</td><td>Crashes when I open the Advance screen.</td><td>App Performance Issues</td></tr><tr><td>cust_00873</td><td>Way too many repayment reminders this week.</td><td>Repayment Reminder Frequency</td></tr><tr><td>cust_00611</td><td>Customer support was super helpful.</td><td>Chime Connection Issues</td></tr><tr><td>cust_00554</td><td>The new UI looks clean and easy to use.</td><td>App Performance Issues</td></tr><tr><td>cust_00734</td><td>Why was my advance denied? I meet the criteria.</td><td>Advance Approval Denials</td></tr><tr><td>cust_00843</td><td>The new UI lokos clean and easy to use.</td><td>App Performance Issues</td></tr><tr><td>cust_00554</td><td>Verification failed 3 times—what should I do?</td><td>ID Verification Problems</td></tr><tr><td>cust_00164</td><td>Chime won’t connect even after multiple tries.</td><td>Chime Connection Issues</td></tr><tr><td>cust_00631</td><td>Crashes when I open the Advance screen.</td><td>App Performance Issues</td></tr><tr><td>cust_00462</td><td>Stop sending me repeated repayment notifications.</td><td>Repayment Reminder Frequency</td></tr><tr><td>cust_00483</td><td>Can't pass identity check; it keeps resetting.</td><td>ID Verification Problems</td></tr><tr><td>cust_00081</td><td>Linking to Chime returns an error code 102.</td><td>Chime Connection Issues</td></tr><tr><td>cust_00812</td><td>Chime connection keeps timing out during link.</td><td>Chime Connection Issues</td></tr><tr><td>cust_00812</td><td>Requirements seem too strict for small advances.</td><td>Advance Approval Denials</td></tr><tr><td>cust_00522</td><td>Why is Chime link broken today?</td><td>Chime Connection Issues</td></tr><tr><td>cust_00015</td><td>Loving the instant access to cash—thanks!</td><td>App Performance Issues</td></tr><tr><td>cust_00764</td><td>Chime connection keeps timing out during link.</td><td>Chime Connection Issues</td></tr><tr><td>cust_00306</td><td>Stop sending me repeated repayment notifications.</td><td>Repayment Reminder Frequency</td></tr><tr><td>cust_00306</td><td>Performance is worse after the last update.</td><td>App Performance Issues</td></tr><tr><td>cust_00216</td><td>Great app, the budgeting tips helped me.</td><td>App Performance Issues</td></tr><tr><td>cust_00067</td><td>The approval rules are unclear—got rejected again.</td><td>Advance Approval Denials</td></tr><tr><td>cust_00580</td><td>Why is Chime link broken today?</td><td>Chime Connection Issues</td></tr><tr><td>cust_00088</td><td>Performance is worse after the last update.</td><td>App Performance Issues</td></tr><tr><td>cust_00088</td><td>Way too many repayment reminders this week.</td><td>Repayment Reminder Frequency</td></tr><tr><td>cust_00102</td><td>Scrolling is laggy on Android 13.</td><td>App Performance Issues</td></tr><tr><td>cust_00102</td><td>I can't link my Chime account. It fails at verification.</td><td>Chime Connection Issues</td></tr><tr><td>cust_00112</td><td>Chime won’t connect even after multiple tries.</td><td>Chime Connection Issues</td></tr><tr><td>cust_00291</td><td>The approval rules are unclear—got rejected again.</td><td>Advance Approval Denials</td></tr><tr><td>cust_00176</td><td>Chime won’t connect even after multiple tries.</td><td>Chime Connection Issues</td></tr><tr><td>cust_00223</td><td>Stop sending me repeated repayment notifications.</td><td>Repayment Reminder Frequency</td></tr><tr><td>cust_00661</td><td>Great app, the budgeting tips helped me.</td><td>App Performance Issues</td></tr><tr><td>cust_00135</td><td>Requirements seem too strict for samll advances.</td><td>Advance Approval Denials</td></tr><tr><td>cust_00659</td><td>Please clarify the approval criteria.</td><td>Advance Approval Denials</td></tr><tr><td>cust_00659</td><td>The app freezes after login on Android.</td><td>App Performance Issues</td></tr><tr><td>cust_00232</td><td>Stuck in an ID verification loop—keeps asking again.</td><td>ID Verification Problems</td></tr><tr><td>cust_00271</td><td>Can't pass identity check; it keeps resetting.</td><td>ID Verification Problems</td></tr><tr><td>cust_00466</td><td>Can't pass identity check; it keeps resetting.</td><td>ID Verification Problems</td></tr><tr><td>cust_00715</td><td>Verification failed 3 times—what should I do?</td><td>ID Verification Problems</td></tr><tr><td>cust_00043</td><td>I keep getting denied without explnaation.</td><td>Advance Approval Denials</td></tr><tr><td>cust_00243</td><td>The approval rules are unclear—got rejected again.</td><td>Advance Approval Denials</td></tr><tr><td>cust_00038</td><td>Please reduce the reminder frequency.</td><td>Repayment Reminder Frequency</td></tr><tr><td>cust_00250</td><td>My ID got rejected, but the image was clear.</td><td>ID Verification Problems</td></tr><tr><td>cust_00240</td><td>Stop sending me repeated repayment notifications.</td><td>Repayment Reminder Frequency</td></tr><tr><td>cust_00864</td><td>I keep getting denied without explanation.</td><td>Advance Approval Denials</td></tr><tr><td>cust_00169</td><td>Can't pass identity check; it keeps resetting.</td><td>ID Verification Problems</td></tr><tr><td>cust_00807</td><td>Performance is worse after the last update.</td><td>App Performance Issues</td></tr><tr><td>cust_00591</td><td>App is slow on my Android phone.</td><td>App Performance Issues</td></tr><tr><td>cust_00810</td><td>Scrolling is laggy on Android 13.</td><td>App Performance Issues</td></tr><tr><td>cust_00151</td><td>Chime won’t connect even after multiple tries.</td><td>Chime Connection Issues</td></tr><tr><td>cust_00781</td><td>Why is Chime link broken today?</td><td>Chime Connection Issues</td></tr><tr><td>cust_00781</td><td>Loving the instant access to cash—thanks!</td><td>App Performance Issues</td></tr><tr><td>cust_00869</td><td>My ID got rejected, but the image was clear.</td><td>ID Verification Problems</td></tr><tr><td>cust_00641</td><td>App is slow on my Android phone.</td><td>App Performance Issues</td></tr><tr><td>cust_00463</td><td>The app freezes after login on Android.</td><td>App Performance Issues</td></tr><tr><td>cust_00647</td><td>Stop sending me repeated repayment notifications.</td><td>Repayment Reminder Frequency</td></tr><tr><td>cust_00577</td><td>Why is Chime link broken today?</td><td>Chime Connection Issues</td></tr><tr><td>cust_00562</td><td>My ID got rejected, but the image was clear.</td><td>ID Verification Problems</td></tr><tr><td>cust_00197</td><td>I can't link my Chime account. It fails at verification.</td><td>Chime Connection Issues</td></tr><tr><td>cust_00258</td><td>Please reduce the reminder frequency.</td><td>Repayment Reminder Frequency</td></tr><tr><td>cust_00392</td><td>Can't pass idetnity check; it keeps resetting.</td><td>ID Verification Problems</td></tr><tr><td>cust_00419</td><td>Why does the selfie step repeat?</td><td>App Performance Issues</td></tr><tr><td>cust_00609</td><td>I keep getting denied without explanation.</td><td>Advance Approval Denials</td></tr><tr><td>cust_00852</td><td>The reminders feel spammy.</td><td>Repayment Reminder Frequency</td></tr><tr><td>cust_00152</td><td>Great app, the budgeting tips helped me.</td><td>App Performance Issues</td></tr><tr><td>cust_00806</td><td>Please reduce the reminder frequency.</td><td>Repayment Reminder Frequency</td></tr><tr><td>cust_00784</td><td>Chime won’t connect even after multiple tries.</td><td>Chime Connection Issues</td></tr><tr><td>cust_00735</td><td>The app freezes after login on Android.</td><td>App Performance Issues</td></tr><tr><td>cust_00643</td><td>Can't pass identity check; it keeps resetting.</td><td>ID Verification Problems</td></tr><tr><td>cust_00619</td><td>Way too many repayment reminders this week.</td><td>Repayment Reminder Frequency</td></tr><tr><td>cust_00841</td><td>Chime won’t connect even after multiple tries.</td><td>Chime Connection Issues</td></tr><tr><td>cust_00495</td><td>Requirements seem too strict for small advances.</td><td>Advance Approval Denials</td></tr><tr><td>cust_00683</td><td>Verification failed 3 times—what should I do?</td><td>ID Verification Problems</td></tr><tr><td>cust_00683</td><td>The approval rules are unclear—got rejected again.</td><td>Advance Approval Denials</td></tr><tr><td>cust_00646</td><td>Why was my advance denied? I meet the criteria.</td><td>Advance Approval Denials</td></tr><tr><td>cust_00385</td><td>Stop sending me repeated repayment notifications.</td><td>Repayment Reminder Frequency</td></tr><tr><td>cust_00636</td><td>Requirements seem too strict for small advances.</td><td>Advance Approval Denials</td></tr><tr><td>cust_00636</td><td>Stuck in an ID verification loop—keeps askign again.</td><td>ID Verification Problems</td></tr><tr><td>cust_00325</td><td>Way too many repayment reminders this week.</td><td>Repayment Reminder Frequency</td></tr><tr><td>cust_00855</td><td>Scrolling is laggy on Android 13.</td><td>App Performance Issues</td></tr><tr><td>cust_00280</td><td>Requirements seem too strict for small advances.</td><td>Advance Approval Denials</td></tr><tr><td>cust_00073</td><td>Performance is worse after the last update.</td><td>App Performance Issues</td></tr><tr><td>cust_00037</td><td>Stop sending me repeated repayment notifications.</td><td>Repayment Reminder Frequency</td></tr><tr><td>cust_00189</td><td>Why was my advance denied? I meet the criteria.</td><td>Advance Approval Denials</td></tr><tr><td>cust_00136</td><td>Linking to Chime returns an error code 102.</td><td>Chime Connection Issues</td></tr><tr><td>cust_00136</td><td>Chime won’t connect evne after multiple tries.</td><td>Chime Connection Issues</td></tr><tr><td>cust_00787</td><td>Can't pass identity check; it keeps resetting.</td><td>ID Verification Problems</td></tr><tr><td>cust_00714</td><td>Linking to Chime returns an error code 102.</td><td>Chime Connection Issues</td></tr><tr><td>cust_00033</td><td>Great app, the budgeting tips helped me.</td><td>App Performance Issues</td></tr><tr><td>cust_00013</td><td>Scrolling is laggy on Android 13.</td><td>App Performance Issues</td></tr><tr><td>cust_00411</td><td>Why is Chime link broken today?</td><td>Chime Connection Issues</td></tr><tr><td>cust_00411</td><td>I’m getting multiple texts about the same payment.</td><td>Repayment Reminder Frequency</td></tr><tr><td>cust_00017</td><td>Linking to Chime returns a nerror code 102.</td><td>Chime Connection Issues</td></tr><tr><td>cust_00506</td><td>Chime won’t connect even after multiple tries.</td><td>Chime Connection Issues</td></tr><tr><td>cust_00704</td><td>Chime connection keeps timing out during link.</td><td>Chime Connection Issues</td></tr><tr><td>cust_00330</td><td>The approval rules are unclear—got rejected again.</td><td>Advance Approval Denials</td></tr><tr><td>cust_00330</td><td>Please clarify the approval criteria.</td><td>Advance Approval Denials</td></tr><tr><td>cust_00604</td><td>The app freezes after login on Android.</td><td>App Performance Issues</td></tr><tr><td>cust_00071</td><td>Great app, the ubdgeting tips helped me.</td><td>App Performance Issues</td></tr><tr><td>cust_00269</td><td>Chime connection keeps timing out during link.</td><td>Chime Connection Issues</td></tr><tr><td>cust_00196</td><td>Stop sending me repeated repayment notifications.</td><td>Repayment Reminder Frequency</td></tr><tr><td>cust_00263</td><td>Please clarify the approval criteria.</td><td>Advance Approval Denials</td></tr><tr><td>cust_00602</td><td>Can't pass identity check; it keeps resetting.</td><td>ID Verification Problems</td></tr><tr><td>cust_00314</td><td>Great app, the budgeting tips helped me.</td><td>App Performance Issues</td></tr><tr><td>cust_00753</td><td>I can't link my Chime account. It fails at verification.</td><td>Chime Connection Issues</td></tr><tr><td>cust_00753</td><td>Customer support was suepr helpful.</td><td>Chime Connection Issues</td></tr><tr><td>cust_00236</td><td>Linking to Chime returns an error code 102.</td><td>Chime Connection Issues</td></tr><tr><td>cust_00546</td><td>Chime won’t connect even after multiple tries.</td><td>Chime Connection Issues</td></tr><tr><td>cust_00900</td><td>Verification failed 3 times—what should I do?</td><td>ID Verification Problems</td></tr><tr><td>cust_00575</td><td>Why is Chime link broken today?</td><td>Chime Connection Issues</td></tr><tr><td>cust_00575</td><td>The reminders feel spammy.</td><td>Repayment Reminder Frequency</td></tr><tr><td>cust_00614</td><td>I can't link my Chime account. It fails at verification.</td><td>Chime Connection Issues</td></tr><tr><td>cust_00205</td><td>I can't link my Chime account. It fails at verification.</td><td>Chime Connection Issues</td></tr><tr><td>cust_00473</td><td>Thanks for the quick approval yesterday.</td><td>Advance Approval Denials</td></tr><tr><td>cust_00535</td><td>Performance is worse after the last update.</td><td>App Performance Issues</td></tr><tr><td>cust_00489</td><td>The reminders feel spammy.</td><td>Repayment Reminder Frequency</td></tr><tr><td>cust_00534</td><td>I can't link my Chime account. It fails at verification.</td><td>Chime Connection Issues</td></tr><tr><td>cust_00338</td><td>Scrolling is laggy on Android 13.</td><td>App Performance Issues</td></tr><tr><td>cust_00055</td><td>Chime wont’ connect even after multiple tries.</td><td>Chime Connection Issues</td></tr><tr><td>cust_00072</td><td>Crashes when I open the Advance screen.</td><td>App Performance Issues</td></tr><tr><td>cust_00390</td><td>Great app, the budgeting tips helped me.</td><td>App Performance Issues</td></tr><tr><td>cust_00399</td><td>Why does the selfie step repeat?</td><td>App Performance Issues</td></tr><tr><td>cust_00029</td><td>Performance is worse after the last updat.e</td><td>App Performance Issues</td></tr><tr><td>cust_00028</td><td>I’m getting multiple texts about the same payment.</td><td>Repayment Reminder Frequency</td></tr><tr><td>cust_00117</td><td>The new UI looks clean and easy to use.</td><td>App Performance Issues</td></tr><tr><td>cust_00539</td><td>I keep getting denied without explanation.</td><td>Advance Approval Denials</td></tr><tr><td>cust_00477</td><td>I keep getting denied without explanation.</td><td>Advance Approval Denials</td></tr><tr><td>cust_00750</td><td>Please clarify the approval criteria.</td><td>Advance Approval Denials</td></tr><tr><td>cust_00218</td><td>Chime connection keeps timing out during link.</td><td>Chime Connection Issues</td></tr><tr><td>cust_00668</td><td>Can't pass identity check; it keeps resetting.</td><td>ID Verification Problems</td></tr><tr><td>cust_00442</td><td>Great app, the budgeting tips helped me.</td><td>App Performance Issues</td></tr><tr><td>cust_00658</td><td>Why does the selfie step repeat?</td><td>App Performance Issues</td></tr><tr><td>cust_00130</td><td>I’m getting multiple texts about the same payment.</td><td>Repayment Reminder Frequency</td></tr><tr><td>cust_00845</td><td>Stop sending me repeated repayment notifications.</td><td>Repayment Reminder Frequency</td></tr><tr><td>cust_00845</td><td>Please clarify the approval criteria.</td><td>Advance Approval Denials</td></tr><tr><td>cust_00375</td><td>Requirements seem too strict for small advances.</td><td>Advance Approval Denials</td></tr><tr><td>cust_00157</td><td>Customer support was super helpful.</td><td>Chime Connection Issues</td></tr><tr><td>cust_00622</td><td>Verification failed 3 times—what should I do?</td><td>ID Verification Problems</td></tr><tr><td>cust_00363</td><td>The app freezes after login on Android.</td><td>App Performance Issues</td></tr><tr><td>cust_00765</td><td>Linking to Chime returns an error code 102.</td><td>Chime Connection Issues</td></tr><tr><td>cust_00354</td><td>Chime connection keeps timing out during link.</td><td>Chime Connection Issues</td></tr><tr><td>cust_00323</td><td>Scrolling is laggy on Android 13.</td><td>App Performance Issues</td></tr><tr><td>cust_00272</td><td>Thanks for the quick approval yesterday.</td><td>Advance Approval Denials</td></tr><tr><td>cust_00272</td><td>I’m getting multiple texts about the same payment.</td><td>Repayment Reminder Frequency</td></tr><tr><td>cust_00277</td><td>Can't pass identity check; it keeps resetting.</td><td>ID Verification Problems</td></tr><tr><td>cust_00594</td><td>Requirements seem too strict for small advances.</td><td>Advance Approval Denials</td></tr><tr><td>cust_00686</td><td>Why does the selfie step repeat?</td><td>App Performance Issues</td></tr><tr><td>cust_00571</td><td>I keep getting denied without explanation.</td><td>Advance Approval Denials</td></tr><tr><td>cust_00213</td><td>Stuck in an ID verification loop—keeps asking again.</td><td>ID Verification Problems</td></tr><tr><td>cust_00213</td><td>Please clarify the approval criteria.</td><td>Advance Approval Denials</td></tr><tr><td>cust_00498</td><td>Please reduce the reminder frequency.</td><td>Repayment Reminder Frequency</td></tr><tr><td>cust_00426</td><td>Chime won’t connect even after multiple tries.</td><td>Chime Connection Issues</td></tr><tr><td>cust_00692</td><td>My ID got rejected, but the image was clear.</td><td>ID Verification Problems</td></tr><tr><td>cust_00630</td><td>Please clarify the approval criteria.</td><td>Advance Approval Denials</td></tr><tr><td>cust_00724</td><td>Crashes when I open the Advance screen.</td><td>App Performance Issues</td></tr><tr><td>cust_00717</td><td>Linking to Chime returns an error code 102.</td><td>Chime Connection Issues</td></tr><tr><td>cust_00721</td><td>Linking to Chime returns an error cod e102.</td><td>Chime Connection Issues</td></tr><tr><td>cust_00420</td><td>Crashes when I open the Advance screen.</td><td>App Performance Issues</td></tr><tr><td>cust_00649</td><td>Chime won’t connect even after multiple tries.</td><td>Chime Connection Issues</td></tr><tr><td>cust_00857</td><td>I can't link my Chime account. It fails at verification.</td><td>Chime Connection Issues</td></tr><tr><td>cust_00105</td><td>I can't link my Chime account. It fails at verification.</td><td>Chime Connection Issues</td></tr><tr><td>cust_00839</td><td>I’m getting multiple texts about the same payment.</td><td>Repayment Reminder Frequency</td></tr><tr><td>cust_00556</td><td>Linking to Chime returns an error code 102.</td><td>Chime Connection Issues</td></tr><tr><td>cust_00598</td><td>The approval rules are unclear—got rejected aagin.</td><td>Advance Approval Denials</td></tr><tr><td>cust_00694</td><td>Requirements seem too strict for samll advances.</td><td>Advance Approval Denials</td></tr><tr><td>cust_00286</td><td>Why is Chime link broken today?</td><td>Chime Connection Issues</td></tr><tr><td>cust_00110</td><td>Scrolling is laggy on Android 13.</td><td>App Performance Issues</td></tr><tr><td>cust_00110</td><td>The new UI looks clean and easy to use.</td><td>App Performance Issues</td></tr><tr><td>cust_00454</td><td>My ID got rejected, but the image was clear.</td><td>ID Verification Problems</td></tr><tr><td>cust_00353</td><td>Requirements seem too strict for small advances.</td><td>Advance Approval Denials</td></tr><tr><td>cust_00046</td><td>Stuck in an ID verification loop—keeps asking again.</td><td>ID Verification Problems</td></tr><tr><td>cust_00689</td><td>Why was my advance denied? I meet the criteria.</td><td>Advance Approval Denials</td></tr><tr><td>cust_00304</td><td>I can't link m yChime account. It fails at verification.</td><td>Chime Connection Issues</td></tr><tr><td>cust_00283</td><td>Linking to Chime returns an error code 102.</td><td>Chime Connection Issues</td></tr><tr><td>cust_00706</td><td>Loving the instant access to cash—thanks!</td><td>App Performance Issues</td></tr><tr><td>cust_00706</td><td>Please reduce the reminder frequency.</td><td>Repayment Reminder Frequency</td></tr><tr><td>cust_00768</td><td>The approval rules are unclear—got rejected again.</td><td>Advance Approval Denials</td></tr><tr><td>cust_00018</td><td>Why was my advance denied? I meet the criteria.</td><td>Advance Approval Denials</td></tr><tr><td>cust_00827</td><td>Way too many repayment reminders this week.</td><td>Repayment Reminder Frequency</td></tr><tr><td>cust_00827</td><td>Chime connection keeps timing out during link.</td><td>Chime Connection Issues</td></tr><tr><td>cust_00012</td><td>I’m getting multiple texts about the same payment.</td><td>Repayment Reminder Frequency</td></tr><tr><td>cust_00447</td><td>Crashes when I open the Advance screen.</td><td>App Performance Issues</td></tr><tr><td>cust_00048</td><td>Chime connection keeps timing out during link.</td><td>Chime Connection Issues</td></tr><tr><td>cust_00468</td><td>Crashes when I open the Advance screen.</td><td>App Performance Issues</td></tr><tr><td>cust_00662</td><td>Can't pass identity check; it keeps resetting.</td><td>ID Verification Problems</td></tr><tr><td>cust_00389</td><td>Linking to Chime returns an error code 102.</td><td>Chime Connection Issues</td></tr><tr><td>cust_00679</td><td>Please clarify the approval criteria.</td><td>Advance Approval Denials</td></tr><tr><td>cust_00603</td><td>Can't pass identity check; it keeps resetting.</td><td>ID Verification Problems</td></tr><tr><td>cust_00433</td><td>My ID got rejected, but the image was clear.</td><td>ID Verification Problems</td></tr><tr><td>cust_00364</td><td>Why was my advance denied? I meet the criteria.</td><td>Advance Approval Denials</td></tr><tr><td>cust_00460</td><td>Can't pass identity check; it keeps resetting.</td><td>ID Verification Problems</td></tr><tr><td>cust_00579</td><td>App is slow on my Android phone.</td><td>App Performance Issues</td></tr><tr><td>cust_00499</td><td>Loving the instant access to cash—thanks!</td><td>App Performance Issues</td></tr><tr><td>cust_00437</td><td>I’m getting multiple texts about the same payment.</td><td>Repayment Reminder Frequency</td></tr><tr><td>cust_00574</td><td>Linking to Chime returns an error code 102.</td><td>Chime Connection Issues</td></tr><tr><td>cust_00705</td><td>Stuck in an ID verifiaction loop—keeps asking again.</td><td>ID Verification Problems</td></tr><tr><td>cust_00312</td><td>My ID got rejected, but the image was clear.</td><td>ID Verification Problems</td></tr><tr><td>cust_00678</td><td>I keep getting denied without explanation.</td><td>Advance Approval Denials</td></tr><tr><td>cust_00003</td><td>Chime won’t connect eve nafter multiple tries.</td><td>Chime Connection Issues</td></tr><tr><td>cust_00792</td><td>I’ mgetting multiple texts about the same payment.</td><td>Repayment Reminder Frequency</td></tr><tr><td>cust_00228</td><td>Please clarify the approval criteria.</td><td>Advance Approval Denials</td></tr><tr><td>cust_00264</td><td>I can't link my Chime account. It fails at verification.</td><td>Chime Connection Issues</td></tr><tr><td>cust_00761</td><td>Stop sending me repeated repayment notifications.</td><td>Repayment Reminder Frequency</td></tr><tr><td>cust_00770</td><td>Requirements seem too strict for small advances.</td><td>Advance Approval Denials</td></tr><tr><td>cust_00225</td><td>Loving the instant access to cash—thanks!</td><td>App Performance Issues</td></tr><tr><td>cust_00409</td><td>Can't pass identity check; it keeps resetting.</td><td>ID Verification Problems</td></tr><tr><td>cust_00127</td><td>Thanks for the quick approval yesterday.</td><td>Advance Approval Denials</td></tr><tr><td>cust_00143</td><td>Crashes when I open the Advance screen.</td><td>App Performance Issues</td></tr><tr><td>cust_00788</td><td>Can't pass identity check; it keeps resetting.</td><td>ID Verification Problems</td></tr><tr><td>cust_00371</td><td>Can't pass identity check; it keeps resetting.</td><td>ID Verification Problems</td></tr><tr><td>cust_00371</td><td>Why does the selfie step repeat?</td><td>App Performance Issues</td></tr><tr><td>cust_00026</td><td>Way too many repayment reminders this week.</td><td>Repayment Reminder Frequency</td></tr><tr><td>cust_00720</td><td>Why was my advance denied? I meet the criteria.</td><td>Advance Approval Denials</td></tr><tr><td>cust_00247</td><td>I keep getting deined without explanation.</td><td>Advance Approval Denials</td></tr><tr><td>cust_00219</td><td>App is slow on my Android phone.</td><td>App Performance Issues</td></tr><tr><td>cust_00638</td><td>Chimew on’t connect even after multiple tries.</td><td>Chime Connection Issues</td></tr><tr><td>cust_00849</td><td>The reminders feel spammy.</td><td>Repayment Reminder Frequency</td></tr><tr><td>cust_00178</td><td>Performance is worse after the last update.</td><td>App Performance Issues</td></tr><tr><td>cust_00824</td><td>Please reduce the reminder frequency.</td><td>Repayment Reminder Frequency</td></tr><tr><td>cust_00821</td><td>Thanks for teh quick approval yesterday.</td><td>Advance Approval Denials</td></tr><tr><td>cust_00388</td><td>I can't link my Chime account. It fails at verification.</td><td>Chime Connection Issues</td></tr><tr><td>cust_00310</td><td>Requirements seem too strict for small advances.</td><td>Advance Approval Denials</td></tr><tr><td>cust_00680</td><td>Great app, the budgeting tips helped me.</td><td>App Performance Issues</td></tr></tbody></table></div>"
      ]
     },
     "metadata": {
      "application/vnd.databricks.v1+output": {
       "addedWidgets": {},
       "aggData": [],
       "aggError": "",
       "aggOverflow": false,
       "aggSchema": [],
       "aggSeriesLimitReached": false,
       "aggType": "",
       "arguments": {},
       "columnCustomDisplayInfos": {},
       "data": [
        [
         "cust_00162",
         "Why does the selfie step repeat?",
         "App Performance Issues"
        ],
        [
         "cust_00170",
         "Customer support was super helpful.",
         "Chime Connection Issues"
        ],
        [
         "cust_00139",
         "The approval rules are unclear—got rejected again.",
         "Advance Approval Denials"
        ],
        [
         "cust_00731",
         "Loving the instant access to cash—thanks!",
         "App Performance Issues"
        ],
        [
         "cust_00465",
         "The new UI looks clean and easy to use.",
         "App Performance Issues"
        ],
        [
         "cust_00873",
         "Chime connection keeps timing out during link.",
         "Chime Connection Issues"
        ],
        [
         "cust_00103",
         "Great app, the budgeting tips helped me.",
         "App Performance Issues"
        ],
        [
         "cust_00347",
         "My ID got rejected, but the image was clear.",
         "ID Verification Problems"
        ],
        [
         "cust_00676",
         "Chime won’t connect even after multiple tries.",
         "Chime Connection Issues"
        ],
        [
         "cust_00558",
         "Why does the selfie step repeat?",
         "App Performance Issues"
        ],
        [
         "cust_00001",
         "Chime won’t connect even after multiple tries.",
         "Chime Connection Issues"
        ],
        [
         "cust_00027",
         "Chime connection keeps timing out during link.",
         "Chime Connection Issues"
        ],
        [
         "cust_00612",
         "Chime won’t connect even after multiple tries.",
         "Chime Connection Issues"
        ],
        [
         "cust_00179",
         "Chime won’t connect even after multiple tries.",
         "Chime Connection Issues"
        ],
        [
         "cust_00803",
         "Can't pass identity check; it keeps resetting.",
         "ID Verification Problems"
        ],
        [
         "cust_00739",
         "Why does the selfie step repeat?",
         "App Performance Issues"
        ],
        [
         "cust_00094",
         "Crashes when I open the Advance screen.",
         "App Performance Issues"
        ],
        [
         "cust_00611",
         "Chime won’t connect even after multiple tries.",
         "Chime Connection Issues"
        ],
        [
         "cust_00147",
         "Requirements seem too strict for small advances.",
         "Advance Approval Denials"
        ],
        [
         "cust_00782",
         "Why was my advance denied? I meet the criteria.",
         "Advance Approval Denials"
        ],
        [
         "cust_00332",
         "Why was my advance denied? I meet the criteria.",
         "Advance Approval Denials"
        ],
        [
         "cust_00736",
         "Linking to Chime returns an error code 102.",
         "Chime Connection Issues"
        ],
        [
         "cust_00774",
         "Stuck in an ID verification loop—keeps asking again.",
         "ID Verification Problems"
        ],
        [
         "cust_00422",
         "Customer support was super helpful.",
         "Chime Connection Issues"
        ],
        [
         "cust_00521",
         "Stop sending me repeated repayment notifications.",
         "Repayment Reminder Frequency"
        ],
        [
         "cust_00195",
         "Stop sending me repeated repayment notifications.",
         "Repayment Reminder Frequency"
        ],
        [
         "cust_00707",
         "App is slow on my Android phone.",
         "App Performance Issues"
        ],
        [
         "cust_00625",
         "Chime connection keeps timing out during link.",
         "Chime Connection Issues"
        ],
        [
         "cust_00696",
         "App is slow on my Android phone.",
         "App Performance Issues"
        ],
        [
         "cust_00056",
         "Way too many repayment reminders this week.",
         "Repayment Reminder Frequency"
        ],
        [
         "cust_00217",
         "Requirements seem too strict for small advances.",
         "Advance Approval Denials"
        ],
        [
         "cust_00816",
         "Linking to Chime returns an error code 102.",
         "Chime Connection Issues"
        ],
        [
         "cust_00554",
         "Chime connection keeps timing out during link.",
         "Chime Connection Issues"
        ],
        [
         "cust_00078",
         "Please reduce the reminder frequency.",
         "Repayment Reminder Frequency"
        ],
        [
         "cust_00074",
         "Why does the eslfie step repeat?",
         "App Performance Issues"
        ],
        [
         "cust_00831",
         "Great app, the budgeting tips helped me.",
         "App Performance Issues"
        ],
        [
         "cust_00111",
         "The app freezes after login on Android.",
         "App Performance Issues"
        ],
        [
         "cust_00734",
         "My ID got rejected, but the image was clear.",
         "ID Verification Problems"
        ],
        [
         "cust_00843",
         "Crashes when I open the Advance screen.",
         "App Performance Issues"
        ],
        [
         "cust_00873",
         "Way too many repayment reminders this week.",
         "Repayment Reminder Frequency"
        ],
        [
         "cust_00611",
         "Customer support was super helpful.",
         "Chime Connection Issues"
        ],
        [
         "cust_00554",
         "The new UI looks clean and easy to use.",
         "App Performance Issues"
        ],
        [
         "cust_00734",
         "Why was my advance denied? I meet the criteria.",
         "Advance Approval Denials"
        ],
        [
         "cust_00843",
         "The new UI lokos clean and easy to use.",
         "App Performance Issues"
        ],
        [
         "cust_00554",
         "Verification failed 3 times—what should I do?",
         "ID Verification Problems"
        ],
        [
         "cust_00164",
         "Chime won’t connect even after multiple tries.",
         "Chime Connection Issues"
        ],
        [
         "cust_00631",
         "Crashes when I open the Advance screen.",
         "App Performance Issues"
        ],
        [
         "cust_00462",
         "Stop sending me repeated repayment notifications.",
         "Repayment Reminder Frequency"
        ],
        [
         "cust_00483",
         "Can't pass identity check; it keeps resetting.",
         "ID Verification Problems"
        ],
        [
         "cust_00081",
         "Linking to Chime returns an error code 102.",
         "Chime Connection Issues"
        ],
        [
         "cust_00812",
         "Chime connection keeps timing out during link.",
         "Chime Connection Issues"
        ],
        [
         "cust_00812",
         "Requirements seem too strict for small advances.",
         "Advance Approval Denials"
        ],
        [
         "cust_00522",
         "Why is Chime link broken today?",
         "Chime Connection Issues"
        ],
        [
         "cust_00015",
         "Loving the instant access to cash—thanks!",
         "App Performance Issues"
        ],
        [
         "cust_00764",
         "Chime connection keeps timing out during link.",
         "Chime Connection Issues"
        ],
        [
         "cust_00306",
         "Stop sending me repeated repayment notifications.",
         "Repayment Reminder Frequency"
        ],
        [
         "cust_00306",
         "Performance is worse after the last update.",
         "App Performance Issues"
        ],
        [
         "cust_00216",
         "Great app, the budgeting tips helped me.",
         "App Performance Issues"
        ],
        [
         "cust_00067",
         "The approval rules are unclear—got rejected again.",
         "Advance Approval Denials"
        ],
        [
         "cust_00580",
         "Why is Chime link broken today?",
         "Chime Connection Issues"
        ],
        [
         "cust_00088",
         "Performance is worse after the last update.",
         "App Performance Issues"
        ],
        [
         "cust_00088",
         "Way too many repayment reminders this week.",
         "Repayment Reminder Frequency"
        ],
        [
         "cust_00102",
         "Scrolling is laggy on Android 13.",
         "App Performance Issues"
        ],
        [
         "cust_00102",
         "I can't link my Chime account. It fails at verification.",
         "Chime Connection Issues"
        ],
        [
         "cust_00112",
         "Chime won’t connect even after multiple tries.",
         "Chime Connection Issues"
        ],
        [
         "cust_00291",
         "The approval rules are unclear—got rejected again.",
         "Advance Approval Denials"
        ],
        [
         "cust_00176",
         "Chime won’t connect even after multiple tries.",
         "Chime Connection Issues"
        ],
        [
         "cust_00223",
         "Stop sending me repeated repayment notifications.",
         "Repayment Reminder Frequency"
        ],
        [
         "cust_00661",
         "Great app, the budgeting tips helped me.",
         "App Performance Issues"
        ],
        [
         "cust_00135",
         "Requirements seem too strict for samll advances.",
         "Advance Approval Denials"
        ],
        [
         "cust_00659",
         "Please clarify the approval criteria.",
         "Advance Approval Denials"
        ],
        [
         "cust_00659",
         "The app freezes after login on Android.",
         "App Performance Issues"
        ],
        [
         "cust_00232",
         "Stuck in an ID verification loop—keeps asking again.",
         "ID Verification Problems"
        ],
        [
         "cust_00271",
         "Can't pass identity check; it keeps resetting.",
         "ID Verification Problems"
        ],
        [
         "cust_00466",
         "Can't pass identity check; it keeps resetting.",
         "ID Verification Problems"
        ],
        [
         "cust_00715",
         "Verification failed 3 times—what should I do?",
         "ID Verification Problems"
        ],
        [
         "cust_00043",
         "I keep getting denied without explnaation.",
         "Advance Approval Denials"
        ],
        [
         "cust_00243",
         "The approval rules are unclear—got rejected again.",
         "Advance Approval Denials"
        ],
        [
         "cust_00038",
         "Please reduce the reminder frequency.",
         "Repayment Reminder Frequency"
        ],
        [
         "cust_00250",
         "My ID got rejected, but the image was clear.",
         "ID Verification Problems"
        ],
        [
         "cust_00240",
         "Stop sending me repeated repayment notifications.",
         "Repayment Reminder Frequency"
        ],
        [
         "cust_00864",
         "I keep getting denied without explanation.",
         "Advance Approval Denials"
        ],
        [
         "cust_00169",
         "Can't pass identity check; it keeps resetting.",
         "ID Verification Problems"
        ],
        [
         "cust_00807",
         "Performance is worse after the last update.",
         "App Performance Issues"
        ],
        [
         "cust_00591",
         "App is slow on my Android phone.",
         "App Performance Issues"
        ],
        [
         "cust_00810",
         "Scrolling is laggy on Android 13.",
         "App Performance Issues"
        ],
        [
         "cust_00151",
         "Chime won’t connect even after multiple tries.",
         "Chime Connection Issues"
        ],
        [
         "cust_00781",
         "Why is Chime link broken today?",
         "Chime Connection Issues"
        ],
        [
         "cust_00781",
         "Loving the instant access to cash—thanks!",
         "App Performance Issues"
        ],
        [
         "cust_00869",
         "My ID got rejected, but the image was clear.",
         "ID Verification Problems"
        ],
        [
         "cust_00641",
         "App is slow on my Android phone.",
         "App Performance Issues"
        ],
        [
         "cust_00463",
         "The app freezes after login on Android.",
         "App Performance Issues"
        ],
        [
         "cust_00647",
         "Stop sending me repeated repayment notifications.",
         "Repayment Reminder Frequency"
        ],
        [
         "cust_00577",
         "Why is Chime link broken today?",
         "Chime Connection Issues"
        ],
        [
         "cust_00562",
         "My ID got rejected, but the image was clear.",
         "ID Verification Problems"
        ],
        [
         "cust_00197",
         "I can't link my Chime account. It fails at verification.",
         "Chime Connection Issues"
        ],
        [
         "cust_00258",
         "Please reduce the reminder frequency.",
         "Repayment Reminder Frequency"
        ],
        [
         "cust_00392",
         "Can't pass idetnity check; it keeps resetting.",
         "ID Verification Problems"
        ],
        [
         "cust_00419",
         "Why does the selfie step repeat?",
         "App Performance Issues"
        ],
        [
         "cust_00609",
         "I keep getting denied without explanation.",
         "Advance Approval Denials"
        ],
        [
         "cust_00852",
         "The reminders feel spammy.",
         "Repayment Reminder Frequency"
        ],
        [
         "cust_00152",
         "Great app, the budgeting tips helped me.",
         "App Performance Issues"
        ],
        [
         "cust_00806",
         "Please reduce the reminder frequency.",
         "Repayment Reminder Frequency"
        ],
        [
         "cust_00784",
         "Chime won’t connect even after multiple tries.",
         "Chime Connection Issues"
        ],
        [
         "cust_00735",
         "The app freezes after login on Android.",
         "App Performance Issues"
        ],
        [
         "cust_00643",
         "Can't pass identity check; it keeps resetting.",
         "ID Verification Problems"
        ],
        [
         "cust_00619",
         "Way too many repayment reminders this week.",
         "Repayment Reminder Frequency"
        ],
        [
         "cust_00841",
         "Chime won’t connect even after multiple tries.",
         "Chime Connection Issues"
        ],
        [
         "cust_00495",
         "Requirements seem too strict for small advances.",
         "Advance Approval Denials"
        ],
        [
         "cust_00683",
         "Verification failed 3 times—what should I do?",
         "ID Verification Problems"
        ],
        [
         "cust_00683",
         "The approval rules are unclear—got rejected again.",
         "Advance Approval Denials"
        ],
        [
         "cust_00646",
         "Why was my advance denied? I meet the criteria.",
         "Advance Approval Denials"
        ],
        [
         "cust_00385",
         "Stop sending me repeated repayment notifications.",
         "Repayment Reminder Frequency"
        ],
        [
         "cust_00636",
         "Requirements seem too strict for small advances.",
         "Advance Approval Denials"
        ],
        [
         "cust_00636",
         "Stuck in an ID verification loop—keeps askign again.",
         "ID Verification Problems"
        ],
        [
         "cust_00325",
         "Way too many repayment reminders this week.",
         "Repayment Reminder Frequency"
        ],
        [
         "cust_00855",
         "Scrolling is laggy on Android 13.",
         "App Performance Issues"
        ],
        [
         "cust_00280",
         "Requirements seem too strict for small advances.",
         "Advance Approval Denials"
        ],
        [
         "cust_00073",
         "Performance is worse after the last update.",
         "App Performance Issues"
        ],
        [
         "cust_00037",
         "Stop sending me repeated repayment notifications.",
         "Repayment Reminder Frequency"
        ],
        [
         "cust_00189",
         "Why was my advance denied? I meet the criteria.",
         "Advance Approval Denials"
        ],
        [
         "cust_00136",
         "Linking to Chime returns an error code 102.",
         "Chime Connection Issues"
        ],
        [
         "cust_00136",
         "Chime won’t connect evne after multiple tries.",
         "Chime Connection Issues"
        ],
        [
         "cust_00787",
         "Can't pass identity check; it keeps resetting.",
         "ID Verification Problems"
        ],
        [
         "cust_00714",
         "Linking to Chime returns an error code 102.",
         "Chime Connection Issues"
        ],
        [
         "cust_00033",
         "Great app, the budgeting tips helped me.",
         "App Performance Issues"
        ],
        [
         "cust_00013",
         "Scrolling is laggy on Android 13.",
         "App Performance Issues"
        ],
        [
         "cust_00411",
         "Why is Chime link broken today?",
         "Chime Connection Issues"
        ],
        [
         "cust_00411",
         "I’m getting multiple texts about the same payment.",
         "Repayment Reminder Frequency"
        ],
        [
         "cust_00017",
         "Linking to Chime returns a nerror code 102.",
         "Chime Connection Issues"
        ],
        [
         "cust_00506",
         "Chime won’t connect even after multiple tries.",
         "Chime Connection Issues"
        ],
        [
         "cust_00704",
         "Chime connection keeps timing out during link.",
         "Chime Connection Issues"
        ],
        [
         "cust_00330",
         "The approval rules are unclear—got rejected again.",
         "Advance Approval Denials"
        ],
        [
         "cust_00330",
         "Please clarify the approval criteria.",
         "Advance Approval Denials"
        ],
        [
         "cust_00604",
         "The app freezes after login on Android.",
         "App Performance Issues"
        ],
        [
         "cust_00071",
         "Great app, the ubdgeting tips helped me.",
         "App Performance Issues"
        ],
        [
         "cust_00269",
         "Chime connection keeps timing out during link.",
         "Chime Connection Issues"
        ],
        [
         "cust_00196",
         "Stop sending me repeated repayment notifications.",
         "Repayment Reminder Frequency"
        ],
        [
         "cust_00263",
         "Please clarify the approval criteria.",
         "Advance Approval Denials"
        ],
        [
         "cust_00602",
         "Can't pass identity check; it keeps resetting.",
         "ID Verification Problems"
        ],
        [
         "cust_00314",
         "Great app, the budgeting tips helped me.",
         "App Performance Issues"
        ],
        [
         "cust_00753",
         "I can't link my Chime account. It fails at verification.",
         "Chime Connection Issues"
        ],
        [
         "cust_00753",
         "Customer support was suepr helpful.",
         "Chime Connection Issues"
        ],
        [
         "cust_00236",
         "Linking to Chime returns an error code 102.",
         "Chime Connection Issues"
        ],
        [
         "cust_00546",
         "Chime won’t connect even after multiple tries.",
         "Chime Connection Issues"
        ],
        [
         "cust_00900",
         "Verification failed 3 times—what should I do?",
         "ID Verification Problems"
        ],
        [
         "cust_00575",
         "Why is Chime link broken today?",
         "Chime Connection Issues"
        ],
        [
         "cust_00575",
         "The reminders feel spammy.",
         "Repayment Reminder Frequency"
        ],
        [
         "cust_00614",
         "I can't link my Chime account. It fails at verification.",
         "Chime Connection Issues"
        ],
        [
         "cust_00205",
         "I can't link my Chime account. It fails at verification.",
         "Chime Connection Issues"
        ],
        [
         "cust_00473",
         "Thanks for the quick approval yesterday.",
         "Advance Approval Denials"
        ],
        [
         "cust_00535",
         "Performance is worse after the last update.",
         "App Performance Issues"
        ],
        [
         "cust_00489",
         "The reminders feel spammy.",
         "Repayment Reminder Frequency"
        ],
        [
         "cust_00534",
         "I can't link my Chime account. It fails at verification.",
         "Chime Connection Issues"
        ],
        [
         "cust_00338",
         "Scrolling is laggy on Android 13.",
         "App Performance Issues"
        ],
        [
         "cust_00055",
         "Chime wont’ connect even after multiple tries.",
         "Chime Connection Issues"
        ],
        [
         "cust_00072",
         "Crashes when I open the Advance screen.",
         "App Performance Issues"
        ],
        [
         "cust_00390",
         "Great app, the budgeting tips helped me.",
         "App Performance Issues"
        ],
        [
         "cust_00399",
         "Why does the selfie step repeat?",
         "App Performance Issues"
        ],
        [
         "cust_00029",
         "Performance is worse after the last updat.e",
         "App Performance Issues"
        ],
        [
         "cust_00028",
         "I’m getting multiple texts about the same payment.",
         "Repayment Reminder Frequency"
        ],
        [
         "cust_00117",
         "The new UI looks clean and easy to use.",
         "App Performance Issues"
        ],
        [
         "cust_00539",
         "I keep getting denied without explanation.",
         "Advance Approval Denials"
        ],
        [
         "cust_00477",
         "I keep getting denied without explanation.",
         "Advance Approval Denials"
        ],
        [
         "cust_00750",
         "Please clarify the approval criteria.",
         "Advance Approval Denials"
        ],
        [
         "cust_00218",
         "Chime connection keeps timing out during link.",
         "Chime Connection Issues"
        ],
        [
         "cust_00668",
         "Can't pass identity check; it keeps resetting.",
         "ID Verification Problems"
        ],
        [
         "cust_00442",
         "Great app, the budgeting tips helped me.",
         "App Performance Issues"
        ],
        [
         "cust_00658",
         "Why does the selfie step repeat?",
         "App Performance Issues"
        ],
        [
         "cust_00130",
         "I’m getting multiple texts about the same payment.",
         "Repayment Reminder Frequency"
        ],
        [
         "cust_00845",
         "Stop sending me repeated repayment notifications.",
         "Repayment Reminder Frequency"
        ],
        [
         "cust_00845",
         "Please clarify the approval criteria.",
         "Advance Approval Denials"
        ],
        [
         "cust_00375",
         "Requirements seem too strict for small advances.",
         "Advance Approval Denials"
        ],
        [
         "cust_00157",
         "Customer support was super helpful.",
         "Chime Connection Issues"
        ],
        [
         "cust_00622",
         "Verification failed 3 times—what should I do?",
         "ID Verification Problems"
        ],
        [
         "cust_00363",
         "The app freezes after login on Android.",
         "App Performance Issues"
        ],
        [
         "cust_00765",
         "Linking to Chime returns an error code 102.",
         "Chime Connection Issues"
        ],
        [
         "cust_00354",
         "Chime connection keeps timing out during link.",
         "Chime Connection Issues"
        ],
        [
         "cust_00323",
         "Scrolling is laggy on Android 13.",
         "App Performance Issues"
        ],
        [
         "cust_00272",
         "Thanks for the quick approval yesterday.",
         "Advance Approval Denials"
        ],
        [
         "cust_00272",
         "I’m getting multiple texts about the same payment.",
         "Repayment Reminder Frequency"
        ],
        [
         "cust_00277",
         "Can't pass identity check; it keeps resetting.",
         "ID Verification Problems"
        ],
        [
         "cust_00594",
         "Requirements seem too strict for small advances.",
         "Advance Approval Denials"
        ],
        [
         "cust_00686",
         "Why does the selfie step repeat?",
         "App Performance Issues"
        ],
        [
         "cust_00571",
         "I keep getting denied without explanation.",
         "Advance Approval Denials"
        ],
        [
         "cust_00213",
         "Stuck in an ID verification loop—keeps asking again.",
         "ID Verification Problems"
        ],
        [
         "cust_00213",
         "Please clarify the approval criteria.",
         "Advance Approval Denials"
        ],
        [
         "cust_00498",
         "Please reduce the reminder frequency.",
         "Repayment Reminder Frequency"
        ],
        [
         "cust_00426",
         "Chime won’t connect even after multiple tries.",
         "Chime Connection Issues"
        ],
        [
         "cust_00692",
         "My ID got rejected, but the image was clear.",
         "ID Verification Problems"
        ],
        [
         "cust_00630",
         "Please clarify the approval criteria.",
         "Advance Approval Denials"
        ],
        [
         "cust_00724",
         "Crashes when I open the Advance screen.",
         "App Performance Issues"
        ],
        [
         "cust_00717",
         "Linking to Chime returns an error code 102.",
         "Chime Connection Issues"
        ],
        [
         "cust_00721",
         "Linking to Chime returns an error cod e102.",
         "Chime Connection Issues"
        ],
        [
         "cust_00420",
         "Crashes when I open the Advance screen.",
         "App Performance Issues"
        ],
        [
         "cust_00649",
         "Chime won’t connect even after multiple tries.",
         "Chime Connection Issues"
        ],
        [
         "cust_00857",
         "I can't link my Chime account. It fails at verification.",
         "Chime Connection Issues"
        ],
        [
         "cust_00105",
         "I can't link my Chime account. It fails at verification.",
         "Chime Connection Issues"
        ],
        [
         "cust_00839",
         "I’m getting multiple texts about the same payment.",
         "Repayment Reminder Frequency"
        ],
        [
         "cust_00556",
         "Linking to Chime returns an error code 102.",
         "Chime Connection Issues"
        ],
        [
         "cust_00598",
         "The approval rules are unclear—got rejected aagin.",
         "Advance Approval Denials"
        ],
        [
         "cust_00694",
         "Requirements seem too strict for samll advances.",
         "Advance Approval Denials"
        ],
        [
         "cust_00286",
         "Why is Chime link broken today?",
         "Chime Connection Issues"
        ],
        [
         "cust_00110",
         "Scrolling is laggy on Android 13.",
         "App Performance Issues"
        ],
        [
         "cust_00110",
         "The new UI looks clean and easy to use.",
         "App Performance Issues"
        ],
        [
         "cust_00454",
         "My ID got rejected, but the image was clear.",
         "ID Verification Problems"
        ],
        [
         "cust_00353",
         "Requirements seem too strict for small advances.",
         "Advance Approval Denials"
        ],
        [
         "cust_00046",
         "Stuck in an ID verification loop—keeps asking again.",
         "ID Verification Problems"
        ],
        [
         "cust_00689",
         "Why was my advance denied? I meet the criteria.",
         "Advance Approval Denials"
        ],
        [
         "cust_00304",
         "I can't link m yChime account. It fails at verification.",
         "Chime Connection Issues"
        ],
        [
         "cust_00283",
         "Linking to Chime returns an error code 102.",
         "Chime Connection Issues"
        ],
        [
         "cust_00706",
         "Loving the instant access to cash—thanks!",
         "App Performance Issues"
        ],
        [
         "cust_00706",
         "Please reduce the reminder frequency.",
         "Repayment Reminder Frequency"
        ],
        [
         "cust_00768",
         "The approval rules are unclear—got rejected again.",
         "Advance Approval Denials"
        ],
        [
         "cust_00018",
         "Why was my advance denied? I meet the criteria.",
         "Advance Approval Denials"
        ],
        [
         "cust_00827",
         "Way too many repayment reminders this week.",
         "Repayment Reminder Frequency"
        ],
        [
         "cust_00827",
         "Chime connection keeps timing out during link.",
         "Chime Connection Issues"
        ],
        [
         "cust_00012",
         "I’m getting multiple texts about the same payment.",
         "Repayment Reminder Frequency"
        ],
        [
         "cust_00447",
         "Crashes when I open the Advance screen.",
         "App Performance Issues"
        ],
        [
         "cust_00048",
         "Chime connection keeps timing out during link.",
         "Chime Connection Issues"
        ],
        [
         "cust_00468",
         "Crashes when I open the Advance screen.",
         "App Performance Issues"
        ],
        [
         "cust_00662",
         "Can't pass identity check; it keeps resetting.",
         "ID Verification Problems"
        ],
        [
         "cust_00389",
         "Linking to Chime returns an error code 102.",
         "Chime Connection Issues"
        ],
        [
         "cust_00679",
         "Please clarify the approval criteria.",
         "Advance Approval Denials"
        ],
        [
         "cust_00603",
         "Can't pass identity check; it keeps resetting.",
         "ID Verification Problems"
        ],
        [
         "cust_00433",
         "My ID got rejected, but the image was clear.",
         "ID Verification Problems"
        ],
        [
         "cust_00364",
         "Why was my advance denied? I meet the criteria.",
         "Advance Approval Denials"
        ],
        [
         "cust_00460",
         "Can't pass identity check; it keeps resetting.",
         "ID Verification Problems"
        ],
        [
         "cust_00579",
         "App is slow on my Android phone.",
         "App Performance Issues"
        ],
        [
         "cust_00499",
         "Loving the instant access to cash—thanks!",
         "App Performance Issues"
        ],
        [
         "cust_00437",
         "I’m getting multiple texts about the same payment.",
         "Repayment Reminder Frequency"
        ],
        [
         "cust_00574",
         "Linking to Chime returns an error code 102.",
         "Chime Connection Issues"
        ],
        [
         "cust_00705",
         "Stuck in an ID verifiaction loop—keeps asking again.",
         "ID Verification Problems"
        ],
        [
         "cust_00312",
         "My ID got rejected, but the image was clear.",
         "ID Verification Problems"
        ],
        [
         "cust_00678",
         "I keep getting denied without explanation.",
         "Advance Approval Denials"
        ],
        [
         "cust_00003",
         "Chime won’t connect eve nafter multiple tries.",
         "Chime Connection Issues"
        ],
        [
         "cust_00792",
         "I’ mgetting multiple texts about the same payment.",
         "Repayment Reminder Frequency"
        ],
        [
         "cust_00228",
         "Please clarify the approval criteria.",
         "Advance Approval Denials"
        ],
        [
         "cust_00264",
         "I can't link my Chime account. It fails at verification.",
         "Chime Connection Issues"
        ],
        [
         "cust_00761",
         "Stop sending me repeated repayment notifications.",
         "Repayment Reminder Frequency"
        ],
        [
         "cust_00770",
         "Requirements seem too strict for small advances.",
         "Advance Approval Denials"
        ],
        [
         "cust_00225",
         "Loving the instant access to cash—thanks!",
         "App Performance Issues"
        ],
        [
         "cust_00409",
         "Can't pass identity check; it keeps resetting.",
         "ID Verification Problems"
        ],
        [
         "cust_00127",
         "Thanks for the quick approval yesterday.",
         "Advance Approval Denials"
        ],
        [
         "cust_00143",
         "Crashes when I open the Advance screen.",
         "App Performance Issues"
        ],
        [
         "cust_00788",
         "Can't pass identity check; it keeps resetting.",
         "ID Verification Problems"
        ],
        [
         "cust_00371",
         "Can't pass identity check; it keeps resetting.",
         "ID Verification Problems"
        ],
        [
         "cust_00371",
         "Why does the selfie step repeat?",
         "App Performance Issues"
        ],
        [
         "cust_00026",
         "Way too many repayment reminders this week.",
         "Repayment Reminder Frequency"
        ],
        [
         "cust_00720",
         "Why was my advance denied? I meet the criteria.",
         "Advance Approval Denials"
        ],
        [
         "cust_00247",
         "I keep getting deined without explanation.",
         "Advance Approval Denials"
        ],
        [
         "cust_00219",
         "App is slow on my Android phone.",
         "App Performance Issues"
        ],
        [
         "cust_00638",
         "Chimew on’t connect even after multiple tries.",
         "Chime Connection Issues"
        ],
        [
         "cust_00849",
         "The reminders feel spammy.",
         "Repayment Reminder Frequency"
        ],
        [
         "cust_00178",
         "Performance is worse after the last update.",
         "App Performance Issues"
        ],
        [
         "cust_00824",
         "Please reduce the reminder frequency.",
         "Repayment Reminder Frequency"
        ],
        [
         "cust_00821",
         "Thanks for teh quick approval yesterday.",
         "Advance Approval Denials"
        ],
        [
         "cust_00388",
         "I can't link my Chime account. It fails at verification.",
         "Chime Connection Issues"
        ],
        [
         "cust_00310",
         "Requirements seem too strict for small advances.",
         "Advance Approval Denials"
        ],
        [
         "cust_00680",
         "Great app, the budgeting tips helped me.",
         "App Performance Issues"
        ]
       ],
       "datasetInfos": [],
       "dbfsResultPath": null,
       "isJsonSchema": true,
       "metadata": {},
       "overflow": false,
       "plotOptions": {
        "customPlotOptions": {},
        "displayType": "table",
        "pivotAggregation": null,
        "pivotColumns": null,
        "xColumns": null,
        "yColumns": null
       },
       "removedWidgets": [],
       "schema": [
        {
         "metadata": "{}",
         "name": "customer_id",
         "type": "\"string\""
        },
        {
         "metadata": "{}",
         "name": "message",
         "type": "\"string\""
        },
        {
         "metadata": "{}",
         "name": "theme",
         "type": "\"string\""
        }
       ],
       "type": "table"
      }
     },
     "output_type": "display_data"
    }
   ],
   "source": [
    "#Collect messages from Spark DataFrame\n",
    "messages_list = [row['message'] for row in customer_df.select(\"message\").collect()]\n",
    "customer_ids = [row['customer_id'] for row in customer_df.select(\"customer_id\").collect()]\n",
    "\n",
    "\n",
    "#Function to map messages to a theme\n",
    "def classify_message(message, themes):\n",
    "    prompt = f\"\"\"\n",
    "You are an assistant helping classify customer messages.\n",
    "Choose exactly ONE theme from this list of options:\n",
    "\n",
    "{themes}\n",
    "\n",
    "Message:\n",
    "{message}\n",
    "\n",
    "Answer with only the theme text.\n",
    "\"\"\"\n",
    "    completion = client.chat.completions.create(\n",
    "    model=\"meta-llama/Llama-3.1-8B-Instruct\",\n",
    "    messages=[{\"role\": \"user\", \"content\": prompt}],\n",
    "    max_tokens=300,\n",
    "    temperature=0\n",
    ")\n",
    "    \n",
    "    # Extract the response\n",
    "    try:\n",
    "        return completion.choices[0].message.content.strip()\n",
    "    except Exception:\n",
    "        return \"Unknown\"\n",
    "\n",
    "\n",
    "# Classification\n",
    "results = []\n",
    "for cid, msg in zip(customer_ids, messages_list):\n",
    "    theme = classify_message(msg, themes)\n",
    "    results.append(Row(customer_id=cid, message=msg, theme=theme))\n",
    "\n",
    "\n",
    "# Convert back to Spark DataFrame\n",
    "result_df = spark.createDataFrame(results)\n",
    "\n",
    "# Display results\n",
    "display(result_df)"
   ]
  },
  {
   "cell_type": "code",
   "execution_count": 0,
   "metadata": {
    "application/vnd.databricks.v1+cell": {
     "cellMetadata": {
      "byteLimit": 2048000,
      "rowLimit": 10000
     },
     "inputWidgets": {},
     "nuid": "80e7b4bc-2f1d-4c21-aa03-504cad2a0288",
     "showTitle": false,
     "tableResultSettingsMap": {},
     "title": ""
    }
   },
   "outputs": [],
   "source": [
    "# Retrieving customer information features\n",
    "customer_info_df = customer_df.select(\n",
    "    \"customer_id\", \"created_at\", \"total_spend\", \"subscription_tier\"\n",
    ")\n",
    "\n",
    "# Merge result_df with customer_info_df on customer_id\n",
    "final_df = result_df.join(\n",
    "    customer_info_df,\n",
    "    on=\"customer_id\",\n",
    "    how=\"left\"\n",
    ")\n",
    "\n",
    "# Write the final DataFrame to a table\n",
    "final_df.write.mode(\"overwrite\").saveAsTable(\"workspace.default.final_customer_themes\")"
   ]
  },
  {
   "cell_type": "markdown",
   "metadata": {
    "application/vnd.databricks.v1+cell": {
     "cellMetadata": {},
     "inputWidgets": {},
     "nuid": "03fa8e78-c4bf-4d1a-af76-8662dd572e41",
     "showTitle": false,
     "tableResultSettingsMap": {},
     "title": ""
    }
   },
   "source": [
    "#Theme Table"
   ]
  },
  {
   "cell_type": "code",
   "execution_count": 0,
   "metadata": {
    "application/vnd.databricks.v1+cell": {
     "cellMetadata": {
      "byteLimit": 2048000,
      "rowLimit": 10000
     },
     "inputWidgets": {},
     "nuid": "6d0d7b03-7b2d-486e-93fb-463603871c87",
     "showTitle": false,
     "tableResultSettingsMap": {},
     "title": ""
    }
   },
   "outputs": [
    {
     "output_type": "display_data",
     "data": {
      "text/html": [
       "<style scoped>\n",
       "  .table-result-container {\n",
       "    max-height: 300px;\n",
       "    overflow: auto;\n",
       "  }\n",
       "  table, th, td {\n",
       "    border: 1px solid black;\n",
       "    border-collapse: collapse;\n",
       "  }\n",
       "  th, td {\n",
       "    padding: 5px;\n",
       "  }\n",
       "  th {\n",
       "    text-align: left;\n",
       "  }\n",
       "</style><div class='table-result-container'><table class='table-result'><thead style='background-color: white'><tr><th>customer_id</th><th>message</th><th>theme</th><th>created_at</th><th>total_spend</th><th>subscription_tier</th></tr></thead><tbody><tr><td>cust_00162</td><td>Why does the selfie step repeat?</td><td>App Performance Issues</td><td>2025-07-17T21:13:58.000Z</td><td>37.83</td><td>plus</td></tr><tr><td>cust_00170</td><td>Customer support was super helpful.</td><td>Chime Connection Issues</td><td>2025-06-26T05:01:35.000Z</td><td>54.37</td><td>free</td></tr><tr><td>cust_00139</td><td>The approval rules are unclear—got rejected again.</td><td>Advance Approval Denials</td><td>2025-07-31T19:52:54.000Z</td><td>20.73</td><td>free</td></tr><tr><td>cust_00731</td><td>Loving the instant access to cash—thanks!</td><td>App Performance Issues</td><td>2025-07-31T01:10:34.000Z</td><td>8.87</td><td>plus</td></tr><tr><td>cust_00465</td><td>The new UI looks clean and easy to use.</td><td>App Performance Issues</td><td>2025-08-15T05:31:57.000Z</td><td>65.65</td><td>free</td></tr><tr><td>cust_00873</td><td>Chime connection keeps timing out during link.</td><td>Chime Connection Issues</td><td>2025-07-16T20:53:17.000Z</td><td>45.11</td><td>free</td></tr><tr><td>cust_00103</td><td>Great app, the budgeting tips helped me.</td><td>App Performance Issues</td><td>2025-06-26T06:09:30.000Z</td><td>12.55</td><td>plus</td></tr><tr><td>cust_00347</td><td>My ID got rejected, but the image was clear.</td><td>ID Verification Problems</td><td>2025-07-30T18:46:12.000Z</td><td>28.46</td><td>free</td></tr><tr><td>cust_00676</td><td>Chime won’t connect even after multiple tries.</td><td>Chime Connection Issues</td><td>2025-07-11T11:02:45.000Z</td><td>26.75</td><td>pro</td></tr><tr><td>cust_00558</td><td>Why does the selfie step repeat?</td><td>App Performance Issues</td><td>2025-08-13T16:28:26.000Z</td><td>20.02</td><td>plus</td></tr><tr><td>cust_00001</td><td>Chime won’t connect even after multiple tries.</td><td>Chime Connection Issues</td><td>2025-08-12T18:14:13.000Z</td><td>56.64</td><td>free</td></tr><tr><td>cust_00027</td><td>Chime connection keeps timing out during link.</td><td>Chime Connection Issues</td><td>2025-07-08T08:02:59.000Z</td><td>24.31</td><td>plus</td></tr><tr><td>cust_00612</td><td>Chime won’t connect even after multiple tries.</td><td>Chime Connection Issues</td><td>2025-08-09T19:58:54.000Z</td><td>20.48</td><td>free</td></tr><tr><td>cust_00179</td><td>Chime won’t connect even after multiple tries.</td><td>Chime Connection Issues</td><td>2025-07-24T19:41:39.000Z</td><td>48.15</td><td>free</td></tr><tr><td>cust_00803</td><td>Can't pass identity check; it keeps resetting.</td><td>ID Verification Problems</td><td>2025-07-20T19:03:16.000Z</td><td>11.03</td><td>free</td></tr><tr><td>cust_00739</td><td>Why does the selfie step repeat?</td><td>App Performance Issues</td><td>2025-07-28T01:17:11.000Z</td><td>23.8</td><td>free</td></tr><tr><td>cust_00094</td><td>Crashes when I open the Advance screen.</td><td>App Performance Issues</td><td>2025-07-22T18:39:14.000Z</td><td>5.92</td><td>plus</td></tr><tr><td>cust_00611</td><td>Chime won’t connect even after multiple tries.</td><td>Chime Connection Issues</td><td>2025-07-18T10:47:07.000Z</td><td>156.78</td><td>free</td></tr><tr><td>cust_00147</td><td>Requirements seem too strict for small advances.</td><td>Advance Approval Denials</td><td>2025-08-13T04:00:47.000Z</td><td>7.16</td><td>free</td></tr><tr><td>cust_00782</td><td>Why was my advance denied? I meet the criteria.</td><td>Advance Approval Denials</td><td>2025-08-20T18:45:57.000Z</td><td>23.73</td><td>plus</td></tr><tr><td>cust_00332</td><td>Why was my advance denied? I meet the criteria.</td><td>Advance Approval Denials</td><td>2025-08-06T09:48:04.000Z</td><td>12.96</td><td>free</td></tr><tr><td>cust_00736</td><td>Linking to Chime returns an error code 102.</td><td>Chime Connection Issues</td><td>2025-07-19T19:34:17.000Z</td><td>41.75</td><td>plus</td></tr><tr><td>cust_00774</td><td>Stuck in an ID verification loop—keeps asking again.</td><td>ID Verification Problems</td><td>2025-07-29T02:40:49.000Z</td><td>62.96</td><td>plus</td></tr><tr><td>cust_00422</td><td>Customer support was super helpful.</td><td>Chime Connection Issues</td><td>2025-07-01T09:55:26.000Z</td><td>39.49</td><td>free</td></tr><tr><td>cust_00521</td><td>Stop sending me repeated repayment notifications.</td><td>Repayment Reminder Frequency</td><td>2025-08-01T19:42:34.000Z</td><td>41.96</td><td>free</td></tr><tr><td>cust_00195</td><td>Stop sending me repeated repayment notifications.</td><td>Repayment Reminder Frequency</td><td>2025-08-19T13:44:02.000Z</td><td>56.98</td><td>plus</td></tr><tr><td>cust_00707</td><td>App is slow on my Android phone.</td><td>App Performance Issues</td><td>2025-07-02T16:44:14.000Z</td><td>12.39</td><td>plus</td></tr><tr><td>cust_00625</td><td>Chime connection keeps timing out during link.</td><td>Chime Connection Issues</td><td>2025-06-16T10:17:41.000Z</td><td>6.61</td><td>plus</td></tr><tr><td>cust_00696</td><td>App is slow on my Android phone.</td><td>App Performance Issues</td><td>2025-07-26T07:33:17.000Z</td><td>21.51</td><td>free</td></tr><tr><td>cust_00056</td><td>Way too many repayment reminders this week.</td><td>Repayment Reminder Frequency</td><td>2025-06-14T02:39:55.000Z</td><td>21.69</td><td>free</td></tr><tr><td>cust_00217</td><td>Requirements seem too strict for small advances.</td><td>Advance Approval Denials</td><td>2025-07-09T17:36:36.000Z</td><td>56.68</td><td>free</td></tr><tr><td>cust_00816</td><td>Linking to Chime returns an error code 102.</td><td>Chime Connection Issues</td><td>2025-08-20T16:33:38.000Z</td><td>20.89</td><td>free</td></tr><tr><td>cust_00873</td><td>Chime connection keeps timing out during link.</td><td>Chime Connection Issues</td><td>2025-07-26T06:56:43.000Z</td><td>45.11</td><td>free</td></tr><tr><td>cust_00611</td><td>Chime won’t connect even after multiple tries.</td><td>Chime Connection Issues</td><td>2025-08-19T01:37:10.000Z</td><td>156.78</td><td>free</td></tr><tr><td>cust_00164</td><td>Chime won’t connect even after multiple tries.</td><td>Chime Connection Issues</td><td>2025-08-10T05:04:18.000Z</td><td>null</td><td>null</td></tr><tr><td>cust_00631</td><td>Crashes when I open the Advance screen.</td><td>App Performance Issues</td><td>2025-06-29T00:02:52.000Z</td><td>null</td><td>null</td></tr><tr><td>cust_00462</td><td>Stop sending me repeated repayment notifications.</td><td>Repayment Reminder Frequency</td><td>2025-07-07T20:01:42.000Z</td><td>null</td><td>null</td></tr><tr><td>cust_00873</td><td>Way too many repayment reminders this week.</td><td>Repayment Reminder Frequency</td><td>2025-07-16T20:53:17.000Z</td><td>45.11</td><td>free</td></tr><tr><td>cust_00483</td><td>Can't pass identity check; it keeps resetting.</td><td>ID Verification Problems</td><td>2025-08-14T23:54:39.000Z</td><td>null</td><td>null</td></tr><tr><td>cust_00081</td><td>Linking to Chime returns an error code 102.</td><td>Chime Connection Issues</td><td>2025-07-13T20:32:35.000Z</td><td>null</td><td>null</td></tr><tr><td>cust_00812</td><td>Chime connection keeps timing out during link.</td><td>Chime Connection Issues</td><td>2025-06-28T03:11:07.000Z</td><td>null</td><td>null</td></tr><tr><td>cust_00812</td><td>Requirements seem too strict for small advances.</td><td>Advance Approval Denials</td><td>2025-06-28T03:11:07.000Z</td><td>null</td><td>null</td></tr><tr><td>cust_00522</td><td>Why is Chime link broken today?</td><td>Chime Connection Issues</td><td>2025-06-20T17:44:43.000Z</td><td>null</td><td>null</td></tr><tr><td>cust_00015</td><td>Loving the instant access to cash—thanks!</td><td>App Performance Issues</td><td>2025-08-12T02:45:25.000Z</td><td>null</td><td>null</td></tr><tr><td>cust_00611</td><td>Customer support was super helpful.</td><td>Chime Connection Issues</td><td>2025-07-18T10:47:07.000Z</td><td>156.78</td><td>free</td></tr><tr><td>cust_00764</td><td>Chime connection keeps timing out during link.</td><td>Chime Connection Issues</td><td>2025-08-19T14:00:43.000Z</td><td>null</td><td>null</td></tr><tr><td>cust_00306</td><td>Stop sending me repeated repayment notifications.</td><td>Repayment Reminder Frequency</td><td>2025-08-08T21:26:20.000Z</td><td>null</td><td>null</td></tr><tr><td>cust_00306</td><td>Performance is worse after the last update.</td><td>App Performance Issues</td><td>2025-08-08T21:26:20.000Z</td><td>null</td><td>null</td></tr><tr><td>cust_00216</td><td>Great app, the budgeting tips helped me.</td><td>App Performance Issues</td><td>2025-07-13T22:16:38.000Z</td><td>null</td><td>null</td></tr><tr><td>cust_00067</td><td>The approval rules are unclear—got rejected again.</td><td>Advance Approval Denials</td><td>2025-06-18T23:41:59.000Z</td><td>null</td><td>null</td></tr><tr><td>cust_00580</td><td>Why is Chime link broken today?</td><td>Chime Connection Issues</td><td>2025-07-12T15:55:15.000Z</td><td>null</td><td>null</td></tr><tr><td>cust_00088</td><td>Performance is worse after the last update.</td><td>App Performance Issues</td><td>2025-08-21T01:51:35.000Z</td><td>null</td><td>null</td></tr><tr><td>cust_00088</td><td>Way too many repayment reminders this week.</td><td>Repayment Reminder Frequency</td><td>2025-08-21T01:51:35.000Z</td><td>null</td><td>null</td></tr><tr><td>cust_00102</td><td>Scrolling is laggy on Android 13.</td><td>App Performance Issues</td><td>2025-08-04T12:16:13.000Z</td><td>null</td><td>null</td></tr><tr><td>cust_00102</td><td>I can't link my Chime account. It fails at verification.</td><td>Chime Connection Issues</td><td>2025-08-04T12:16:13.000Z</td><td>null</td><td>null</td></tr><tr><td>cust_00112</td><td>Chime won’t connect even after multiple tries.</td><td>Chime Connection Issues</td><td>2025-06-23T13:18:48.000Z</td><td>null</td><td>null</td></tr><tr><td>cust_00554</td><td>Chime connection keeps timing out during link.</td><td>Chime Connection Issues</td><td>2025-07-11T17:46:41.000Z</td><td>34.48</td><td>free</td></tr><tr><td>cust_00554</td><td>The new UI looks clean and easy to use.</td><td>App Performance Issues</td><td>2025-07-11T17:46:41.000Z</td><td>34.48</td><td>free</td></tr><tr><td>cust_00554</td><td>Verification failed 3 times—what should I do?</td><td>ID Verification Problems</td><td>2025-07-11T17:46:41.000Z</td><td>34.48</td><td>free</td></tr><tr><td>cust_00078</td><td>Please reduce the reminder frequency.</td><td>Repayment Reminder Frequency</td><td>2025-07-01T19:32:29.000Z</td><td>32.14</td><td>plus</td></tr><tr><td>cust_00074</td><td>Why does the eslfie step repeat?</td><td>App Performance Issues</td><td>2025-07-05T19:49:38.000Z</td><td>117.49</td><td>free</td></tr><tr><td>cust_00831</td><td>Great app, the budgeting tips helped me.</td><td>App Performance Issues</td><td>2025-07-23T21:09:31.000Z</td><td>38.41</td><td>free</td></tr><tr><td>cust_00111</td><td>The app freezes after login on Android.</td><td>App Performance Issues</td><td>2025-06-25T02:51:51.000Z</td><td>20.16</td><td>pro</td></tr><tr><td>cust_00734</td><td>My ID got rejected, but the image was clear.</td><td>ID Verification Problems</td><td>2025-07-28T19:14:05.000Z</td><td>49.32</td><td>free</td></tr><tr><td>cust_00734</td><td>Why was my advance denied? I meet the criteria.</td><td>Advance Approval Denials</td><td>2025-07-28T19:14:05.000Z</td><td>49.32</td><td>free</td></tr><tr><td>cust_00843</td><td>Crashes when I open the Advance screen.</td><td>App Performance Issues</td><td>2025-07-19T23:28:33.000Z</td><td>23.4</td><td>plus</td></tr><tr><td>cust_00843</td><td>The new UI lokos clean and easy to use.</td><td>App Performance Issues</td><td>2025-07-19T23:28:33.000Z</td><td>23.4</td><td>plus</td></tr><tr><td>cust_00873</td><td>Way too many repayment reminders this week.</td><td>Repayment Reminder Frequency</td><td>2025-07-26T06:56:43.000Z</td><td>45.11</td><td>free</td></tr><tr><td>cust_00812</td><td>Chime connection keeps timing out during link.</td><td>Chime Connection Issues</td><td>2025-06-18T13:46:20.000Z</td><td>null</td><td>null</td></tr><tr><td>cust_00812</td><td>Requirements seem too strict for small advances.</td><td>Advance Approval Denials</td><td>2025-06-18T13:46:20.000Z</td><td>null</td><td>null</td></tr><tr><td>cust_00611</td><td>Customer support was super helpful.</td><td>Chime Connection Issues</td><td>2025-08-19T01:37:10.000Z</td><td>156.78</td><td>free</td></tr><tr><td>cust_00306</td><td>Stop sending me repeated repayment notifications.</td><td>Repayment Reminder Frequency</td><td>2025-07-01T08:16:20.000Z</td><td>null</td><td>null</td></tr><tr><td>cust_00306</td><td>Performance is worse after the last update.</td><td>App Performance Issues</td><td>2025-07-01T08:16:20.000Z</td><td>null</td><td>null</td></tr><tr><td>cust_00088</td><td>Performance is worse after the last update.</td><td>App Performance Issues</td><td>2025-06-28T17:31:58.000Z</td><td>null</td><td>null</td></tr><tr><td>cust_00088</td><td>Way too many repayment reminders this week.</td><td>Repayment Reminder Frequency</td><td>2025-06-28T17:31:58.000Z</td><td>null</td><td>null</td></tr><tr><td>cust_00102</td><td>Scrolling is laggy on Android 13.</td><td>App Performance Issues</td><td>2025-07-27T01:08:26.000Z</td><td>null</td><td>null</td></tr><tr><td>cust_00102</td><td>I can't link my Chime account. It fails at verification.</td><td>Chime Connection Issues</td><td>2025-07-27T01:08:26.000Z</td><td>null</td><td>null</td></tr><tr><td>cust_00554</td><td>Chime connection keeps timing out during link.</td><td>Chime Connection Issues</td><td>2025-07-27T00:33:10.000Z</td><td>34.48</td><td>free</td></tr><tr><td>cust_00554</td><td>The new UI looks clean and easy to use.</td><td>App Performance Issues</td><td>2025-07-27T00:33:10.000Z</td><td>34.48</td><td>free</td></tr><tr><td>cust_00554</td><td>Verification failed 3 times—what should I do?</td><td>ID Verification Problems</td><td>2025-07-27T00:33:10.000Z</td><td>34.48</td><td>free</td></tr><tr><td>cust_00734</td><td>My ID got rejected, but the image was clear.</td><td>ID Verification Problems</td><td>2025-08-03T18:09:19.000Z</td><td>49.32</td><td>free</td></tr><tr><td>cust_00734</td><td>Why was my advance denied? I meet the criteria.</td><td>Advance Approval Denials</td><td>2025-08-03T18:09:19.000Z</td><td>49.32</td><td>free</td></tr><tr><td>cust_00843</td><td>Crashes when I open the Advance screen.</td><td>App Performance Issues</td><td>2025-07-28T03:42:41.000Z</td><td>23.4</td><td>plus</td></tr><tr><td>cust_00843</td><td>The new UI lokos clean and easy to use.</td><td>App Performance Issues</td><td>2025-07-28T03:42:41.000Z</td><td>23.4</td><td>plus</td></tr><tr><td>cust_00554</td><td>Chime connection keeps timing out during link.</td><td>Chime Connection Issues</td><td>2025-08-10T20:43:16.000Z</td><td>34.48</td><td>free</td></tr><tr><td>cust_00554</td><td>The new UI looks clean and easy to use.</td><td>App Performance Issues</td><td>2025-08-10T20:43:16.000Z</td><td>34.48</td><td>free</td></tr><tr><td>cust_00554</td><td>Verification failed 3 times—what should I do?</td><td>ID Verification Problems</td><td>2025-08-10T20:43:16.000Z</td><td>34.48</td><td>free</td></tr><tr><td>cust_00661</td><td>Great app, the budgeting tips helped me.</td><td>App Performance Issues</td><td>2025-07-14T12:05:05.000Z</td><td>null</td><td>null</td></tr><tr><td>cust_00463</td><td>The app freezes after login on Android.</td><td>App Performance Issues</td><td>2025-08-18T05:07:38.000Z</td><td>null</td><td>null</td></tr><tr><td>cust_00135</td><td>Requirements seem too strict for samll advances.</td><td>Advance Approval Denials</td><td>2025-07-26T22:00:48.000Z</td><td>null</td><td>null</td></tr><tr><td>cust_00647</td><td>Stop sending me repeated repayment notifications.</td><td>Repayment Reminder Frequency</td><td>2025-08-06T18:42:50.000Z</td><td>null</td><td>null</td></tr><tr><td>cust_00659</td><td>Please clarify the approval criteria.</td><td>Advance Approval Denials</td><td>2025-07-04T15:26:20.000Z</td><td>null</td><td>null</td></tr><tr><td>cust_00659</td><td>The app freezes after login on Android.</td><td>App Performance Issues</td><td>2025-07-04T15:26:20.000Z</td><td>null</td><td>null</td></tr><tr><td>cust_00232</td><td>Stuck in an ID verification loop—keeps asking again.</td><td>ID Verification Problems</td><td>2025-06-25T04:20:53.000Z</td><td>null</td><td>null</td></tr><tr><td>cust_00577</td><td>Why is Chime link broken today?</td><td>Chime Connection Issues</td><td>2025-07-13T03:01:37.000Z</td><td>null</td><td>null</td></tr><tr><td>cust_00271</td><td>Can't pass identity check; it keeps resetting.</td><td>ID Verification Problems</td><td>2025-07-11T10:45:53.000Z</td><td>null</td><td>null</td></tr><tr><td>cust_00466</td><td>Can't pass identity check; it keeps resetting.</td><td>ID Verification Problems</td><td>2025-07-01T15:26:33.000Z</td><td>null</td><td>null</td></tr><tr><td>cust_00715</td><td>Verification failed 3 times—what should I do?</td><td>ID Verification Problems</td><td>2025-07-10T15:10:30.000Z</td><td>null</td><td>null</td></tr><tr><td>cust_00562</td><td>My ID got rejected, but the image was clear.</td><td>ID Verification Problems</td><td>2025-07-26T23:15:14.000Z</td><td>null</td><td>null</td></tr><tr><td>cust_00197</td><td>I can't link my Chime account. It fails at verification.</td><td>Chime Connection Issues</td><td>2025-07-23T15:36:28.000Z</td><td>null</td><td>null</td></tr><tr><td>cust_00043</td><td>I keep getting denied without explnaation.</td><td>Advance Approval Denials</td><td>2025-07-19T20:19:08.000Z</td><td>null</td><td>null</td></tr><tr><td>cust_00258</td><td>Please reduce the reminder frequency.</td><td>Repayment Reminder Frequency</td><td>2025-07-17T06:57:08.000Z</td><td>null</td><td>null</td></tr><tr><td>cust_00243</td><td>The approval rules are unclear—got rejected again.</td><td>Advance Approval Denials</td><td>2025-07-23T10:54:40.000Z</td><td>null</td><td>null</td></tr><tr><td>cust_00038</td><td>Please reduce the reminder frequency.</td><td>Repayment Reminder Frequency</td><td>2025-07-21T00:18:58.000Z</td><td>null</td><td>null</td></tr><tr><td>cust_00250</td><td>My ID got rejected, but the image was clear.</td><td>ID Verification Problems</td><td>2025-08-15T02:06:35.000Z</td><td>null</td><td>null</td></tr><tr><td>cust_00240</td><td>Stop sending me repeated repayment notifications.</td><td>Repayment Reminder Frequency</td><td>2025-07-02T07:34:30.000Z</td><td>null</td><td>null</td></tr><tr><td>cust_00291</td><td>The approval rules are unclear—got rejected again.</td><td>Advance Approval Denials</td><td>2025-08-02T15:06:18.000Z</td><td>null</td><td>null</td></tr><tr><td>cust_00864</td><td>I keep getting denied without explanation.</td><td>Advance Approval Denials</td><td>2025-08-15T03:17:27.000Z</td><td>null</td><td>null</td></tr><tr><td>cust_00176</td><td>Chime won’t connect even after multiple tries.</td><td>Chime Connection Issues</td><td>2025-07-04T08:10:12.000Z</td><td>null</td><td>null</td></tr><tr><td>cust_00169</td><td>Can't pass identity check; it keeps resetting.</td><td>ID Verification Problems</td><td>2025-07-30T17:37:47.000Z</td><td>null</td><td>null</td></tr><tr><td>cust_00807</td><td>Performance is worse after the last update.</td><td>App Performance Issues</td><td>2025-08-18T00:58:48.000Z</td><td>null</td><td>null</td></tr><tr><td>cust_00591</td><td>App is slow on my Android phone.</td><td>App Performance Issues</td><td>2025-07-14T10:54:16.000Z</td><td>null</td><td>null</td></tr><tr><td>cust_00810</td><td>Scrolling is laggy on Android 13.</td><td>App Performance Issues</td><td>2025-07-08T02:18:36.000Z</td><td>null</td><td>null</td></tr><tr><td>cust_00223</td><td>Stop sending me repeated repayment notifications.</td><td>Repayment Reminder Frequency</td><td>2025-07-23T14:57:44.000Z</td><td>null</td><td>null</td></tr><tr><td>cust_00151</td><td>Chime won’t connect even after multiple tries.</td><td>Chime Connection Issues</td><td>2025-07-06T19:16:00.000Z</td><td>null</td><td>null</td></tr><tr><td>cust_00781</td><td>Why is Chime link broken today?</td><td>Chime Connection Issues</td><td>2025-08-15T00:50:36.000Z</td><td>null</td><td>null</td></tr><tr><td>cust_00781</td><td>Loving the instant access to cash—thanks!</td><td>App Performance Issues</td><td>2025-08-15T00:50:36.000Z</td><td>null</td><td>null</td></tr><tr><td>cust_00869</td><td>My ID got rejected, but the image was clear.</td><td>ID Verification Problems</td><td>2025-08-17T11:46:09.000Z</td><td>null</td><td>null</td></tr><tr><td>cust_00641</td><td>App is slow on my Android phone.</td><td>App Performance Issues</td><td>2025-07-02T05:04:56.000Z</td><td>null</td><td>null</td></tr><tr><td>cust_00659</td><td>Please clarify the approval criteria.</td><td>Advance Approval Denials</td><td>2025-06-18T05:01:52.000Z</td><td>null</td><td>null</td></tr><tr><td>cust_00659</td><td>The app freezes after login on Android.</td><td>App Performance Issues</td><td>2025-06-18T05:01:52.000Z</td><td>null</td><td>null</td></tr><tr><td>cust_00781</td><td>Why is Chime link broken today?</td><td>Chime Connection Issues</td><td>2025-06-14T07:32:43.000Z</td><td>null</td><td>null</td></tr><tr><td>cust_00781</td><td>Loving the instant access to cash—thanks!</td><td>App Performance Issues</td><td>2025-06-14T07:32:43.000Z</td><td>null</td><td>null</td></tr><tr><td>cust_00787</td><td>Can't pass identity check; it keeps resetting.</td><td>ID Verification Problems</td><td>2025-06-16T08:53:55.000Z</td><td>null</td><td>null</td></tr><tr><td>cust_00714</td><td>Linking to Chime returns an error code 102.</td><td>Chime Connection Issues</td><td>2025-06-21T01:41:07.000Z</td><td>null</td><td>null</td></tr><tr><td>cust_00033</td><td>Great app, the budgeting tips helped me.</td><td>App Performance Issues</td><td>2025-06-23T22:48:51.000Z</td><td>null</td><td>null</td></tr><tr><td>cust_00013</td><td>Scrolling is laggy on Android 13.</td><td>App Performance Issues</td><td>2025-06-26T06:14:09.000Z</td><td>null</td><td>null</td></tr><tr><td>cust_00411</td><td>Why is Chime link broken today?</td><td>Chime Connection Issues</td><td>2025-07-23T23:11:09.000Z</td><td>null</td><td>null</td></tr><tr><td>cust_00411</td><td>I’m getting multiple texts about the same payment.</td><td>Repayment Reminder Frequency</td><td>2025-07-23T23:11:09.000Z</td><td>null</td><td>null</td></tr><tr><td>cust_00017</td><td>Linking to Chime returns a nerror code 102.</td><td>Chime Connection Issues</td><td>2025-06-26T19:06:25.000Z</td><td>null</td><td>null</td></tr><tr><td>cust_00392</td><td>Can't pass idetnity check; it keeps resetting.</td><td>ID Verification Problems</td><td>2025-07-01T11:32:46.000Z</td><td>null</td><td>null</td></tr><tr><td>cust_00419</td><td>Why does the selfie step repeat?</td><td>App Performance Issues</td><td>2025-08-14T15:08:20.000Z</td><td>null</td><td>null</td></tr><tr><td>cust_00609</td><td>I keep getting denied without explanation.</td><td>Advance Approval Denials</td><td>2025-07-06T20:02:53.000Z</td><td>null</td><td>null</td></tr><tr><td>cust_00852</td><td>The reminders feel spammy.</td><td>Repayment Reminder Frequency</td><td>2025-07-15T17:35:21.000Z</td><td>null</td><td>null</td></tr><tr><td>cust_00152</td><td>Great app, the budgeting tips helped me.</td><td>App Performance Issues</td><td>2025-08-09T22:21:17.000Z</td><td>null</td><td>null</td></tr><tr><td>cust_00806</td><td>Please reduce the reminder frequency.</td><td>Repayment Reminder Frequency</td><td>2025-06-17T17:07:44.000Z</td><td>null</td><td>null</td></tr><tr><td>cust_00784</td><td>Chime won’t connect even after multiple tries.</td><td>Chime Connection Issues</td><td>2025-08-09T16:59:13.000Z</td><td>null</td><td>null</td></tr><tr><td>cust_00735</td><td>The app freezes after login on Android.</td><td>App Performance Issues</td><td>2025-08-06T17:05:16.000Z</td><td>null</td><td>null</td></tr><tr><td>cust_00643</td><td>Can't pass identity check; it keeps resetting.</td><td>ID Verification Problems</td><td>2025-07-08T07:59:09.000Z</td><td>null</td><td>null</td></tr><tr><td>cust_00619</td><td>Way too many repayment reminders this week.</td><td>Repayment Reminder Frequency</td><td>2025-07-16T16:18:19.000Z</td><td>null</td><td>null</td></tr><tr><td>cust_00841</td><td>Chime won’t connect even after multiple tries.</td><td>Chime Connection Issues</td><td>2025-07-03T09:01:18.000Z</td><td>null</td><td>null</td></tr><tr><td>cust_00495</td><td>Requirements seem too strict for small advances.</td><td>Advance Approval Denials</td><td>2025-07-12T08:04:12.000Z</td><td>null</td><td>null</td></tr><tr><td>cust_00683</td><td>Verification failed 3 times—what should I do?</td><td>ID Verification Problems</td><td>2025-07-06T13:01:17.000Z</td><td>null</td><td>null</td></tr><tr><td>cust_00683</td><td>The approval rules are unclear—got rejected again.</td><td>Advance Approval Denials</td><td>2025-07-06T13:01:17.000Z</td><td>null</td><td>null</td></tr><tr><td>cust_00646</td><td>Why was my advance denied? I meet the criteria.</td><td>Advance Approval Denials</td><td>2025-07-11T23:08:23.000Z</td><td>null</td><td>null</td></tr><tr><td>cust_00385</td><td>Stop sending me repeated repayment notifications.</td><td>Repayment Reminder Frequency</td><td>2025-08-09T04:24:59.000Z</td><td>null</td><td>null</td></tr><tr><td>cust_00636</td><td>Requirements seem too strict for small advances.</td><td>Advance Approval Denials</td><td>2025-08-11T22:32:50.000Z</td><td>null</td><td>null</td></tr><tr><td>cust_00636</td><td>Stuck in an ID verification loop—keeps askign again.</td><td>ID Verification Problems</td><td>2025-08-11T22:32:50.000Z</td><td>null</td><td>null</td></tr><tr><td>cust_00325</td><td>Way too many repayment reminders this week.</td><td>Repayment Reminder Frequency</td><td>2025-07-15T21:35:47.000Z</td><td>null</td><td>null</td></tr><tr><td>cust_00855</td><td>Scrolling is laggy on Android 13.</td><td>App Performance Issues</td><td>2025-06-14T22:30:55.000Z</td><td>null</td><td>null</td></tr><tr><td>cust_00280</td><td>Requirements seem too strict for small advances.</td><td>Advance Approval Denials</td><td>2025-08-06T00:33:49.000Z</td><td>null</td><td>null</td></tr><tr><td>cust_00073</td><td>Performance is worse after the last update.</td><td>App Performance Issues</td><td>2025-06-19T17:10:08.000Z</td><td>null</td><td>null</td></tr><tr><td>cust_00037</td><td>Stop sending me repeated repayment notifications.</td><td>Repayment Reminder Frequency</td><td>2025-08-13T20:31:52.000Z</td><td>null</td><td>null</td></tr><tr><td>cust_00189</td><td>Why was my advance denied? I meet the criteria.</td><td>Advance Approval Denials</td><td>2025-08-08T17:38:59.000Z</td><td>null</td><td>null</td></tr><tr><td>cust_00136</td><td>Linking to Chime returns an error code 102.</td><td>Chime Connection Issues</td><td>2025-08-02T22:03:14.000Z</td><td>null</td><td>null</td></tr><tr><td>cust_00136</td><td>Chime won’t connect evne after multiple tries.</td><td>Chime Connection Issues</td><td>2025-08-02T22:03:14.000Z</td><td>null</td><td>null</td></tr><tr><td>cust_00411</td><td>Why is Chime link broken today?</td><td>Chime Connection Issues</td><td>2025-06-19T10:19:41.000Z</td><td>null</td><td>null</td></tr><tr><td>cust_00411</td><td>I’m getting multiple texts about the same payment.</td><td>Repayment Reminder Frequency</td><td>2025-06-19T10:19:41.000Z</td><td>null</td><td>null</td></tr><tr><td>cust_00683</td><td>Verification failed 3 times—what should I do?</td><td>ID Verification Problems</td><td>2025-06-26T02:22:52.000Z</td><td>null</td><td>null</td></tr><tr><td>cust_00683</td><td>The approval rules are unclear—got rejected again.</td><td>Advance Approval Denials</td><td>2025-06-26T02:22:52.000Z</td><td>null</td><td>null</td></tr><tr><td>cust_00636</td><td>Requirements seem too strict for small advances.</td><td>Advance Approval Denials</td><td>2025-07-12T20:51:58.000Z</td><td>null</td><td>null</td></tr><tr><td>cust_00636</td><td>Stuck in an ID verification loop—keeps askign again.</td><td>ID Verification Problems</td><td>2025-07-12T20:51:58.000Z</td><td>null</td><td>null</td></tr><tr><td>cust_00136</td><td>Linking to Chime returns an error code 102.</td><td>Chime Connection Issues</td><td>2025-06-23T16:57:23.000Z</td><td>null</td><td>null</td></tr><tr><td>cust_00136</td><td>Chime won’t connect evne after multiple tries.</td><td>Chime Connection Issues</td><td>2025-06-23T16:57:23.000Z</td><td>null</td><td>null</td></tr><tr><td>cust_00205</td><td>I can't link my Chime account. It fails at verification.</td><td>Chime Connection Issues</td><td>2025-08-16T06:40:54.000Z</td><td>null</td><td>null</td></tr><tr><td>cust_00473</td><td>Thanks for the quick approval yesterday.</td><td>Advance Approval Denials</td><td>2025-06-16T15:08:08.000Z</td><td>null</td><td>null</td></tr><tr><td>cust_00535</td><td>Performance is worse after the last update.</td><td>App Performance Issues</td><td>2025-07-28T15:15:13.000Z</td><td>null</td><td>null</td></tr><tr><td>cust_00489</td><td>The reminders feel spammy.</td><td>Repayment Reminder Frequency</td><td>2025-08-05T15:23:23.000Z</td><td>null</td><td>null</td></tr><tr><td>cust_00534</td><td>I can't link my Chime account. It fails at verification.</td><td>Chime Connection Issues</td><td>2025-07-08T00:05:37.000Z</td><td>null</td><td>null</td></tr><tr><td>cust_00506</td><td>Chime won’t connect even after multiple tries.</td><td>Chime Connection Issues</td><td>2025-07-13T12:34:01.000Z</td><td>null</td><td>null</td></tr><tr><td>cust_00704</td><td>Chime connection keeps timing out during link.</td><td>Chime Connection Issues</td><td>2025-07-02T10:53:56.000Z</td><td>null</td><td>null</td></tr><tr><td>cust_00330</td><td>The approval rules are unclear—got rejected again.</td><td>Advance Approval Denials</td><td>2025-08-19T14:42:22.000Z</td><td>null</td><td>null</td></tr><tr><td>cust_00330</td><td>Please clarify the approval criteria.</td><td>Advance Approval Denials</td><td>2025-08-19T14:42:22.000Z</td><td>null</td><td>null</td></tr><tr><td>cust_00338</td><td>Scrolling is laggy on Android 13.</td><td>App Performance Issues</td><td>2025-07-16T08:38:53.000Z</td><td>null</td><td>null</td></tr><tr><td>cust_00055</td><td>Chime wont’ connect even after multiple tries.</td><td>Chime Connection Issues</td><td>2025-07-22T21:41:57.000Z</td><td>null</td><td>null</td></tr><tr><td>cust_00604</td><td>The app freezes after login on Android.</td><td>App Performance Issues</td><td>2025-07-01T23:24:49.000Z</td><td>null</td><td>null</td></tr><tr><td>cust_00072</td><td>Crashes when I open the Advance screen.</td><td>App Performance Issues</td><td>2025-08-22T20:22:36.000Z</td><td>null</td><td>null</td></tr><tr><td>cust_00071</td><td>Great app, the ubdgeting tips helped me.</td><td>App Performance Issues</td><td>2025-08-05T08:55:14.000Z</td><td>null</td><td>null</td></tr><tr><td>cust_00390</td><td>Great app, the budgeting tips helped me.</td><td>App Performance Issues</td><td>2025-07-12T02:18:22.000Z</td><td>null</td><td>null</td></tr><tr><td>cust_00399</td><td>Why does the selfie step repeat?</td><td>App Performance Issues</td><td>2025-07-29T05:39:56.000Z</td><td>null</td><td>null</td></tr><tr><td>cust_00029</td><td>Performance is worse after the last updat.e</td><td>App Performance Issues</td><td>2025-07-22T19:18:05.000Z</td><td>null</td><td>null</td></tr><tr><td>cust_00269</td><td>Chime connection keeps timing out during link.</td><td>Chime Connection Issues</td><td>2025-06-14T08:14:43.000Z</td><td>null</td><td>null</td></tr><tr><td>cust_00196</td><td>Stop sending me repeated repayment notifications.</td><td>Repayment Reminder Frequency</td><td>2025-07-29T20:20:06.000Z</td><td>null</td><td>null</td></tr><tr><td>cust_00028</td><td>I’m getting multiple texts about the same payment.</td><td>Repayment Reminder Frequency</td><td>2025-06-16T21:24:57.000Z</td><td>null</td><td>null</td></tr><tr><td>cust_00263</td><td>Please clarify the approval criteria.</td><td>Advance Approval Denials</td><td>2025-06-25T02:31:48.000Z</td><td>null</td><td>null</td></tr><tr><td>cust_00117</td><td>The new UI looks clean and easy to use.</td><td>App Performance Issues</td><td>2025-08-06T14:49:20.000Z</td><td>null</td><td>null</td></tr><tr><td>cust_00602</td><td>Can't pass identity check; it keeps resetting.</td><td>ID Verification Problems</td><td>2025-08-06T01:38:57.000Z</td><td>null</td><td>null</td></tr><tr><td>cust_00314</td><td>Great app, the budgeting tips helped me.</td><td>App Performance Issues</td><td>2025-06-23T00:48:48.000Z</td><td>null</td><td>null</td></tr><tr><td>cust_00753</td><td>I can't link my Chime account. It fails at verification.</td><td>Chime Connection Issues</td><td>2025-07-26T12:02:07.000Z</td><td>null</td><td>null</td></tr><tr><td>cust_00753</td><td>Customer support was suepr helpful.</td><td>Chime Connection Issues</td><td>2025-07-26T12:02:07.000Z</td><td>null</td><td>null</td></tr><tr><td>cust_00236</td><td>Linking to Chime returns an error code 102.</td><td>Chime Connection Issues</td><td>2025-08-01T05:26:30.000Z</td><td>null</td><td>null</td></tr><tr><td>cust_00546</td><td>Chime won’t connect even after multiple tries.</td><td>Chime Connection Issues</td><td>2025-06-22T07:34:13.000Z</td><td>null</td><td>null</td></tr><tr><td>cust_00900</td><td>Verification failed 3 times—what should I do?</td><td>ID Verification Problems</td><td>2025-07-15T11:19:18.000Z</td><td>null</td><td>null</td></tr><tr><td>cust_00575</td><td>Why is Chime link broken today?</td><td>Chime Connection Issues</td><td>2025-07-28T13:11:08.000Z</td><td>null</td><td>null</td></tr><tr><td>cust_00575</td><td>The reminders feel spammy.</td><td>Repayment Reminder Frequency</td><td>2025-07-28T13:11:08.000Z</td><td>null</td><td>null</td></tr><tr><td>cust_00614</td><td>I can't link my Chime account. It fails at verification.</td><td>Chime Connection Issues</td><td>2025-06-29T16:25:11.000Z</td><td>null</td><td>null</td></tr><tr><td>cust_00330</td><td>The approval rules are unclear—got rejected again.</td><td>Advance Approval Denials</td><td>2025-07-16T06:37:28.000Z</td><td>null</td><td>null</td></tr><tr><td>cust_00330</td><td>Please clarify the approval criteria.</td><td>Advance Approval Denials</td><td>2025-07-16T06:37:28.000Z</td><td>null</td><td>null</td></tr><tr><td>cust_00753</td><td>I can't link my Chime account. It fails at verification.</td><td>Chime Connection Issues</td><td>2025-07-21T20:43:05.000Z</td><td>null</td><td>null</td></tr><tr><td>cust_00753</td><td>Customer support was suepr helpful.</td><td>Chime Connection Issues</td><td>2025-07-21T20:43:05.000Z</td><td>null</td><td>null</td></tr><tr><td>cust_00575</td><td>Why is Chime link broken today?</td><td>Chime Connection Issues</td><td>2025-06-29T16:29:47.000Z</td><td>null</td><td>null</td></tr><tr><td>cust_00575</td><td>The reminders feel spammy.</td><td>Repayment Reminder Frequency</td><td>2025-06-29T16:29:47.000Z</td><td>null</td><td>null</td></tr><tr><td>cust_00765</td><td>Linking to Chime returns an error code 102.</td><td>Chime Connection Issues</td><td>2025-08-12T22:46:05.000Z</td><td>null</td><td>null</td></tr><tr><td>cust_00354</td><td>Chime connection keeps timing out during link.</td><td>Chime Connection Issues</td><td>2025-07-31T12:55:40.000Z</td><td>null</td><td>null</td></tr><tr><td>cust_00323</td><td>Scrolling is laggy on Android 13.</td><td>App Performance Issues</td><td>2025-07-09T23:51:53.000Z</td><td>null</td><td>null</td></tr><tr><td>cust_00272</td><td>Thanks for the quick approval yesterday.</td><td>Advance Approval Denials</td><td>2025-08-16T13:44:03.000Z</td><td>null</td><td>null</td></tr><tr><td>cust_00272</td><td>I’m getting multiple texts about the same payment.</td><td>Repayment Reminder Frequency</td><td>2025-08-16T13:44:03.000Z</td><td>null</td><td>null</td></tr><tr><td>cust_00277</td><td>Can't pass identity check; it keeps resetting.</td><td>ID Verification Problems</td><td>2025-08-04T20:37:10.000Z</td><td>null</td><td>null</td></tr><tr><td>cust_00594</td><td>Requirements seem too strict for small advances.</td><td>Advance Approval Denials</td><td>2025-06-29T00:41:09.000Z</td><td>null</td><td>null</td></tr><tr><td>cust_00686</td><td>Why does the selfie step repeat?</td><td>App Performance Issues</td><td>2025-06-15T23:28:19.000Z</td><td>null</td><td>null</td></tr><tr><td>cust_00571</td><td>I keep getting denied without explanation.</td><td>Advance Approval Denials</td><td>2025-07-01T01:49:44.000Z</td><td>null</td><td>null</td></tr><tr><td>cust_00213</td><td>Stuck in an ID verification loop—keeps asking again.</td><td>ID Verification Problems</td><td>2025-06-26T05:24:26.000Z</td><td>null</td><td>null</td></tr><tr><td>cust_00213</td><td>Please clarify the approval criteria.</td><td>Advance Approval Denials</td><td>2025-06-26T05:24:26.000Z</td><td>null</td><td>null</td></tr><tr><td>cust_00498</td><td>Please reduce the reminder frequency.</td><td>Repayment Reminder Frequency</td><td>2025-06-15T10:22:17.000Z</td><td>null</td><td>null</td></tr><tr><td>cust_00426</td><td>Chime won’t connect even after multiple tries.</td><td>Chime Connection Issues</td><td>2025-06-26T18:11:42.000Z</td><td>null</td><td>null</td></tr><tr><td>cust_00692</td><td>My ID got rejected, but the image was clear.</td><td>ID Verification Problems</td><td>2025-06-21T18:39:23.000Z</td><td>null</td><td>null</td></tr><tr><td>cust_00630</td><td>Please clarify the approval criteria.</td><td>Advance Approval Denials</td><td>2025-08-02T19:54:52.000Z</td><td>null</td><td>null</td></tr><tr><td>cust_00724</td><td>Crashes when I open the Advance screen.</td><td>App Performance Issues</td><td>2025-08-10T15:39:49.000Z</td><td>null</td><td>null</td></tr><tr><td>cust_00717</td><td>Linking to Chime returns an error code 102.</td><td>Chime Connection Issues</td><td>2025-07-07T00:42:45.000Z</td><td>null</td><td>null</td></tr><tr><td>cust_00721</td><td>Linking to Chime returns an error cod e102.</td><td>Chime Connection Issues</td><td>2025-06-22T18:34:56.000Z</td><td>null</td><td>null</td></tr><tr><td>cust_00420</td><td>Crashes when I open the Advance screen.</td><td>App Performance Issues</td><td>2025-07-26T17:58:16.000Z</td><td>null</td><td>null</td></tr><tr><td>cust_00539</td><td>I keep getting denied without explanation.</td><td>Advance Approval Denials</td><td>2025-06-30T22:00:23.000Z</td><td>null</td><td>null</td></tr><tr><td>cust_00477</td><td>I keep getting denied without explanation.</td><td>Advance Approval Denials</td><td>2025-08-16T03:39:32.000Z</td><td>null</td><td>null</td></tr><tr><td>cust_00750</td><td>Please clarify the approval criteria.</td><td>Advance Approval Denials</td><td>2025-08-15T18:03:58.000Z</td><td>null</td><td>null</td></tr><tr><td>cust_00218</td><td>Chime connection keeps timing out during link.</td><td>Chime Connection Issues</td><td>2025-07-16T15:50:39.000Z</td><td>null</td><td>null</td></tr><tr><td>cust_00668</td><td>Can't pass identity check; it keeps resetting.</td><td>ID Verification Problems</td><td>2025-07-10T03:59:22.000Z</td><td>null</td><td>null</td></tr><tr><td>cust_00442</td><td>Great app, the budgeting tips helped me.</td><td>App Performance Issues</td><td>2025-07-15T11:49:51.000Z</td><td>null</td><td>null</td></tr><tr><td>cust_00658</td><td>Why does the selfie step repeat?</td><td>App Performance Issues</td><td>2025-06-25T20:38:09.000Z</td><td>null</td><td>null</td></tr><tr><td>cust_00130</td><td>I’m getting multiple texts about the same payment.</td><td>Repayment Reminder Frequency</td><td>2025-07-06T02:03:27.000Z</td><td>null</td><td>null</td></tr><tr><td>cust_00845</td><td>Stop sending me repeated repayment notifications.</td><td>Repayment Reminder Frequency</td><td>2025-06-25T06:06:00.000Z</td><td>null</td><td>null</td></tr><tr><td>cust_00845</td><td>Please clarify the approval criteria.</td><td>Advance Approval Denials</td><td>2025-06-25T06:06:00.000Z</td><td>null</td><td>null</td></tr><tr><td>cust_00375</td><td>Requirements seem too strict for small advances.</td><td>Advance Approval Denials</td><td>2025-07-01T01:15:15.000Z</td><td>null</td><td>null</td></tr><tr><td>cust_00157</td><td>Customer support was super helpful.</td><td>Chime Connection Issues</td><td>2025-06-21T19:44:34.000Z</td><td>null</td><td>null</td></tr><tr><td>cust_00622</td><td>Verification failed 3 times—what should I do?</td><td>ID Verification Problems</td><td>2025-07-13T12:03:47.000Z</td><td>null</td><td>null</td></tr><tr><td>cust_00363</td><td>The app freezes after login on Android.</td><td>App Performance Issues</td><td>2025-07-23T12:30:06.000Z</td><td>null</td><td>null</td></tr><tr><td>cust_00272</td><td>Thanks for the quick approval yesterday.</td><td>Advance Approval Denials</td><td>2025-06-25T04:44:56.000Z</td><td>null</td><td>null</td></tr><tr><td>cust_00272</td><td>I’m getting multiple texts about the same payment.</td><td>Repayment Reminder Frequency</td><td>2025-06-25T04:44:56.000Z</td><td>null</td><td>null</td></tr><tr><td>cust_00213</td><td>Stuck in an ID verification loop—keeps asking again.</td><td>ID Verification Problems</td><td>2025-06-19T20:19:48.000Z</td><td>null</td><td>null</td></tr><tr><td>cust_00213</td><td>Please clarify the approval criteria.</td><td>Advance Approval Denials</td><td>2025-06-19T20:19:48.000Z</td><td>null</td><td>null</td></tr><tr><td>cust_00845</td><td>Stop sending me repeated repayment notifications.</td><td>Repayment Reminder Frequency</td><td>2025-06-19T18:57:00.000Z</td><td>null</td><td>null</td></tr><tr><td>cust_00845</td><td>Please clarify the approval criteria.</td><td>Advance Approval Denials</td><td>2025-06-19T18:57:00.000Z</td><td>null</td><td>null</td></tr><tr><td>cust_00556</td><td>Linking to Chime returns an error code 102.</td><td>Chime Connection Issues</td><td>2025-08-21T14:03:33.000Z</td><td>null</td><td>null</td></tr><tr><td>cust_00598</td><td>The approval rules are unclear—got rejected aagin.</td><td>Advance Approval Denials</td><td>2025-08-05T07:53:29.000Z</td><td>null</td><td>null</td></tr><tr><td>cust_00694</td><td>Requirements seem too strict for samll advances.</td><td>Advance Approval Denials</td><td>2025-06-14T21:52:51.000Z</td><td>null</td><td>null</td></tr><tr><td>cust_00286</td><td>Why is Chime link broken today?</td><td>Chime Connection Issues</td><td>2025-07-06T02:19:09.000Z</td><td>null</td><td>null</td></tr><tr><td>cust_00110</td><td>Scrolling is laggy on Android 13.</td><td>App Performance Issues</td><td>2025-07-13T07:58:40.000Z</td><td>null</td><td>null</td></tr><tr><td>cust_00110</td><td>The new UI looks clean and easy to use.</td><td>App Performance Issues</td><td>2025-07-13T07:58:40.000Z</td><td>null</td><td>null</td></tr><tr><td>cust_00454</td><td>My ID got rejected, but the image was clear.</td><td>ID Verification Problems</td><td>2025-08-13T01:00:09.000Z</td><td>null</td><td>null</td></tr><tr><td>cust_00353</td><td>Requirements seem too strict for small advances.</td><td>Advance Approval Denials</td><td>2025-08-17T11:07:20.000Z</td><td>null</td><td>null</td></tr><tr><td>cust_00046</td><td>Stuck in an ID verification loop—keeps asking again.</td><td>ID Verification Problems</td><td>2025-06-18T22:21:12.000Z</td><td>null</td><td>null</td></tr><tr><td>cust_00689</td><td>Why was my advance denied? I meet the criteria.</td><td>Advance Approval Denials</td><td>2025-08-08T20:17:39.000Z</td><td>null</td><td>null</td></tr><tr><td>cust_00304</td><td>I can't link m yChime account. It fails at verification.</td><td>Chime Connection Issues</td><td>2025-08-03T22:28:33.000Z</td><td>null</td><td>null</td></tr><tr><td>cust_00283</td><td>Linking to Chime returns an error code 102.</td><td>Chime Connection Issues</td><td>2025-08-11T04:38:03.000Z</td><td>null</td><td>null</td></tr><tr><td>cust_00706</td><td>Loving the instant access to cash—thanks!</td><td>App Performance Issues</td><td>2025-08-08T06:19:54.000Z</td><td>null</td><td>null</td></tr><tr><td>cust_00706</td><td>Please reduce the reminder frequency.</td><td>Repayment Reminder Frequency</td><td>2025-08-08T06:19:54.000Z</td><td>null</td><td>null</td></tr><tr><td>cust_00768</td><td>The approval rules are unclear—got rejected again.</td><td>Advance Approval Denials</td><td>2025-07-24T22:18:02.000Z</td><td>null</td><td>null</td></tr><tr><td>cust_00018</td><td>Why was my advance denied? I meet the criteria.</td><td>Advance Approval Denials</td><td>2025-08-20T01:13:11.000Z</td><td>null</td><td>null</td></tr><tr><td>cust_00827</td><td>Way too many repayment reminders this week.</td><td>Repayment Reminder Frequency</td><td>2025-08-08T10:36:36.000Z</td><td>null</td><td>null</td></tr><tr><td>cust_00827</td><td>Chime connection keeps timing out during link.</td><td>Chime Connection Issues</td><td>2025-08-08T10:36:36.000Z</td><td>null</td><td>null</td></tr><tr><td>cust_00012</td><td>I’m getting multiple texts about the same payment.</td><td>Repayment Reminder Frequency</td><td>2025-07-29T10:37:07.000Z</td><td>null</td><td>null</td></tr><tr><td>cust_00447</td><td>Crashes when I open the Advance screen.</td><td>App Performance Issues</td><td>2025-07-26T22:27:09.000Z</td><td>null</td><td>null</td></tr><tr><td>cust_00048</td><td>Chime connection keeps timing out during link.</td><td>Chime Connection Issues</td><td>2025-06-23T18:10:55.000Z</td><td>null</td><td>null</td></tr><tr><td>cust_00649</td><td>Chime won’t connect even after multiple tries.</td><td>Chime Connection Issues</td><td>2025-08-12T01:25:08.000Z</td><td>null</td><td>null</td></tr><tr><td>cust_00468</td><td>Crashes when I open the Advance screen.</td><td>App Performance Issues</td><td>2025-07-13T01:03:47.000Z</td><td>null</td><td>null</td></tr><tr><td>cust_00662</td><td>Can't pass identity check; it keeps resetting.</td><td>ID Verification Problems</td><td>2025-07-25T02:59:35.000Z</td><td>null</td><td>null</td></tr><tr><td>cust_00389</td><td>Linking to Chime returns an error code 102.</td><td>Chime Connection Issues</td><td>2025-07-07T16:13:34.000Z</td><td>null</td><td>null</td></tr><tr><td>cust_00679</td><td>Please clarify the approval criteria.</td><td>Advance Approval Denials</td><td>2025-08-04T20:34:53.000Z</td><td>null</td><td>null</td></tr><tr><td>cust_00603</td><td>Can't pass identity check; it keeps resetting.</td><td>ID Verification Problems</td><td>2025-06-25T17:56:36.000Z</td><td>null</td><td>null</td></tr><tr><td>cust_00857</td><td>I can't link my Chime account. It fails at verification.</td><td>Chime Connection Issues</td><td>2025-07-15T07:02:49.000Z</td><td>null</td><td>null</td></tr><tr><td>cust_00433</td><td>My ID got rejected, but the image was clear.</td><td>ID Verification Problems</td><td>2025-07-08T03:23:40.000Z</td><td>null</td><td>null</td></tr><tr><td>cust_00105</td><td>I can't link my Chime account. It fails at verification.</td><td>Chime Connection Issues</td><td>2025-07-22T12:15:18.000Z</td><td>null</td><td>null</td></tr><tr><td>cust_00364</td><td>Why was my advance denied? I meet the criteria.</td><td>Advance Approval Denials</td><td>2025-07-10T23:42:31.000Z</td><td>null</td><td>null</td></tr><tr><td>cust_00839</td><td>I’m getting multiple texts about the same payment.</td><td>Repayment Reminder Frequency</td><td>2025-08-03T01:04:24.000Z</td><td>null</td><td>null</td></tr><tr><td>cust_00110</td><td>Scrolling is laggy on Android 13.</td><td>App Performance Issues</td><td>2025-06-24T01:21:26.000Z</td><td>null</td><td>null</td></tr><tr><td>cust_00110</td><td>The new UI looks clean and easy to use.</td><td>App Performance Issues</td><td>2025-06-24T01:21:26.000Z</td><td>null</td><td>null</td></tr><tr><td>cust_00706</td><td>Loving the instant access to cash—thanks!</td><td>App Performance Issues</td><td>2025-08-06T14:13:06.000Z</td><td>null</td><td>null</td></tr><tr><td>cust_00706</td><td>Please reduce the reminder frequency.</td><td>Repayment Reminder Frequency</td><td>2025-08-06T14:13:06.000Z</td><td>null</td><td>null</td></tr><tr><td>cust_00827</td><td>Way too many repayment reminders this week.</td><td>Repayment Reminder Frequency</td><td>2025-07-26T13:01:38.000Z</td><td>null</td><td>null</td></tr><tr><td>cust_00827</td><td>Chime connection keeps timing out during link.</td><td>Chime Connection Issues</td><td>2025-07-26T13:01:38.000Z</td><td>null</td><td>null</td></tr><tr><td>cust_00678</td><td>I keep getting denied without explanation.</td><td>Advance Approval Denials</td><td>2025-08-07T22:42:06.000Z</td><td>null</td><td>null</td></tr><tr><td>cust_00003</td><td>Chime won’t connect eve nafter multiple tries.</td><td>Chime Connection Issues</td><td>2025-07-24T06:52:09.000Z</td><td>null</td><td>null</td></tr><tr><td>cust_00792</td><td>I’ mgetting multiple texts about the same payment.</td><td>Repayment Reminder Frequency</td><td>2025-08-09T01:18:40.000Z</td><td>null</td><td>null</td></tr><tr><td>cust_00228</td><td>Please clarify the approval criteria.</td><td>Advance Approval Denials</td><td>2025-08-21T02:04:47.000Z</td><td>null</td><td>null</td></tr><tr><td>cust_00264</td><td>I can't link my Chime account. It fails at verification.</td><td>Chime Connection Issues</td><td>2025-08-04T12:57:32.000Z</td><td>null</td><td>null</td></tr><tr><td>cust_00761</td><td>Stop sending me repeated repayment notifications.</td><td>Repayment Reminder Frequency</td><td>2025-07-21T17:35:37.000Z</td><td>null</td><td>null</td></tr><tr><td>cust_00770</td><td>Requirements seem too strict for small advances.</td><td>Advance Approval Denials</td><td>2025-07-27T07:02:14.000Z</td><td>null</td><td>null</td></tr><tr><td>cust_00225</td><td>Loving the instant access to cash—thanks!</td><td>App Performance Issues</td><td>2025-06-14T12:54:13.000Z</td><td>null</td><td>null</td></tr><tr><td>cust_00409</td><td>Can't pass identity check; it keeps resetting.</td><td>ID Verification Problems</td><td>2025-08-05T08:38:03.000Z</td><td>null</td><td>null</td></tr><tr><td>cust_00127</td><td>Thanks for the quick approval yesterday.</td><td>Advance Approval Denials</td><td>2025-08-07T02:36:57.000Z</td><td>null</td><td>null</td></tr><tr><td>cust_00143</td><td>Crashes when I open the Advance screen.</td><td>App Performance Issues</td><td>2025-08-15T01:57:20.000Z</td><td>null</td><td>null</td></tr><tr><td>cust_00788</td><td>Can't pass identity check; it keeps resetting.</td><td>ID Verification Problems</td><td>2025-08-19T01:09:30.000Z</td><td>null</td><td>null</td></tr><tr><td>cust_00371</td><td>Can't pass identity check; it keeps resetting.</td><td>ID Verification Problems</td><td>2025-06-25T00:48:19.000Z</td><td>null</td><td>null</td></tr><tr><td>cust_00371</td><td>Why does the selfie step repeat?</td><td>App Performance Issues</td><td>2025-06-25T00:48:19.000Z</td><td>null</td><td>null</td></tr><tr><td>cust_00026</td><td>Way too many repayment reminders this week.</td><td>Repayment Reminder Frequency</td><td>2025-06-29T18:38:23.000Z</td><td>null</td><td>null</td></tr><tr><td>cust_00720</td><td>Why was my advance denied? I meet the criteria.</td><td>Advance Approval Denials</td><td>2025-07-25T07:28:44.000Z</td><td>null</td><td>null</td></tr><tr><td>cust_00247</td><td>I keep getting deined without explanation.</td><td>Advance Approval Denials</td><td>2025-07-07T10:23:01.000Z</td><td>null</td><td>null</td></tr><tr><td>cust_00219</td><td>App is slow on my Android phone.</td><td>App Performance Issues</td><td>2025-08-16T13:33:28.000Z</td><td>null</td><td>null</td></tr><tr><td>cust_00638</td><td>Chimew on’t connect even after multiple tries.</td><td>Chime Connection Issues</td><td>2025-07-23T06:06:34.000Z</td><td>null</td><td>null</td></tr><tr><td>cust_00849</td><td>The reminders feel spammy.</td><td>Repayment Reminder Frequency</td><td>2025-07-31T14:14:09.000Z</td><td>null</td><td>null</td></tr><tr><td>cust_00460</td><td>Can't pass identity check; it keeps resetting.</td><td>ID Verification Problems</td><td>2025-08-07T11:46:44.000Z</td><td>null</td><td>null</td></tr><tr><td>cust_00579</td><td>App is slow on my Android phone.</td><td>App Performance Issues</td><td>2025-06-17T20:35:17.000Z</td><td>null</td><td>null</td></tr><tr><td>cust_00499</td><td>Loving the instant access to cash—thanks!</td><td>App Performance Issues</td><td>2025-07-28T04:13:46.000Z</td><td>null</td><td>null</td></tr><tr><td>cust_00437</td><td>I’m getting multiple texts about the same payment.</td><td>Repayment Reminder Frequency</td><td>2025-06-17T00:34:10.000Z</td><td>null</td><td>null</td></tr><tr><td>cust_00574</td><td>Linking to Chime returns an error code 102.</td><td>Chime Connection Issues</td><td>2025-08-19T05:18:50.000Z</td><td>null</td><td>null</td></tr><tr><td>cust_00178</td><td>Performance is worse after the last update.</td><td>App Performance Issues</td><td>2025-08-13T17:32:20.000Z</td><td>null</td><td>null</td></tr><tr><td>cust_00824</td><td>Please reduce the reminder frequency.</td><td>Repayment Reminder Frequency</td><td>2025-08-18T15:55:54.000Z</td><td>null</td><td>null</td></tr><tr><td>cust_00821</td><td>Thanks for teh quick approval yesterday.</td><td>Advance Approval Denials</td><td>2025-07-08T04:39:26.000Z</td><td>null</td><td>null</td></tr><tr><td>cust_00705</td><td>Stuck in an ID verifiaction loop—keeps asking again.</td><td>ID Verification Problems</td><td>2025-07-21T06:43:04.000Z</td><td>null</td><td>null</td></tr><tr><td>cust_00388</td><td>I can't link my Chime account. It fails at verification.</td><td>Chime Connection Issues</td><td>2025-07-09T16:21:41.000Z</td><td>null</td><td>null</td></tr><tr><td>cust_00312</td><td>My ID got rejected, but the image was clear.</td><td>ID Verification Problems</td><td>2025-08-16T00:49:15.000Z</td><td>null</td><td>null</td></tr><tr><td>cust_00310</td><td>Requirements seem too strict for small advances.</td><td>Advance Approval Denials</td><td>2025-07-05T11:48:22.000Z</td><td>null</td><td>null</td></tr><tr><td>cust_00680</td><td>Great app, the budgeting tips helped me.</td><td>App Performance Issues</td><td>2025-08-16T11:51:30.000Z</td><td>null</td><td>null</td></tr><tr><td>cust_00371</td><td>Can't pass identity check; it keeps resetting.</td><td>ID Verification Problems</td><td>2025-06-21T15:36:03.000Z</td><td>null</td><td>null</td></tr><tr><td>cust_00371</td><td>Why does the selfie step repeat?</td><td>App Performance Issues</td><td>2025-06-21T15:36:03.000Z</td><td>null</td><td>null</td></tr></tbody></table></div>"
      ]
     },
     "metadata": {
      "application/vnd.databricks.v1+output": {
       "addedWidgets": {},
       "aggData": [],
       "aggError": "",
       "aggOverflow": false,
       "aggSchema": [],
       "aggSeriesLimitReached": false,
       "aggType": "",
       "arguments": {},
       "columnCustomDisplayInfos": {},
       "data": [
        [
         "cust_00162",
         "Why does the selfie step repeat?",
         "App Performance Issues",
         "2025-07-17T21:13:58.000Z",
         37.83,
         "plus"
        ],
        [
         "cust_00170",
         "Customer support was super helpful.",
         "Chime Connection Issues",
         "2025-06-26T05:01:35.000Z",
         54.37,
         "free"
        ],
        [
         "cust_00139",
         "The approval rules are unclear—got rejected again.",
         "Advance Approval Denials",
         "2025-07-31T19:52:54.000Z",
         20.73,
         "free"
        ],
        [
         "cust_00731",
         "Loving the instant access to cash—thanks!",
         "App Performance Issues",
         "2025-07-31T01:10:34.000Z",
         8.87,
         "plus"
        ],
        [
         "cust_00465",
         "The new UI looks clean and easy to use.",
         "App Performance Issues",
         "2025-08-15T05:31:57.000Z",
         65.65,
         "free"
        ],
        [
         "cust_00873",
         "Chime connection keeps timing out during link.",
         "Chime Connection Issues",
         "2025-07-16T20:53:17.000Z",
         45.11,
         "free"
        ],
        [
         "cust_00103",
         "Great app, the budgeting tips helped me.",
         "App Performance Issues",
         "2025-06-26T06:09:30.000Z",
         12.55,
         "plus"
        ],
        [
         "cust_00347",
         "My ID got rejected, but the image was clear.",
         "ID Verification Problems",
         "2025-07-30T18:46:12.000Z",
         28.46,
         "free"
        ],
        [
         "cust_00676",
         "Chime won’t connect even after multiple tries.",
         "Chime Connection Issues",
         "2025-07-11T11:02:45.000Z",
         26.75,
         "pro"
        ],
        [
         "cust_00558",
         "Why does the selfie step repeat?",
         "App Performance Issues",
         "2025-08-13T16:28:26.000Z",
         20.02,
         "plus"
        ],
        [
         "cust_00001",
         "Chime won’t connect even after multiple tries.",
         "Chime Connection Issues",
         "2025-08-12T18:14:13.000Z",
         56.64,
         "free"
        ],
        [
         "cust_00027",
         "Chime connection keeps timing out during link.",
         "Chime Connection Issues",
         "2025-07-08T08:02:59.000Z",
         24.31,
         "plus"
        ],
        [
         "cust_00612",
         "Chime won’t connect even after multiple tries.",
         "Chime Connection Issues",
         "2025-08-09T19:58:54.000Z",
         20.48,
         "free"
        ],
        [
         "cust_00179",
         "Chime won’t connect even after multiple tries.",
         "Chime Connection Issues",
         "2025-07-24T19:41:39.000Z",
         48.15,
         "free"
        ],
        [
         "cust_00803",
         "Can't pass identity check; it keeps resetting.",
         "ID Verification Problems",
         "2025-07-20T19:03:16.000Z",
         11.03,
         "free"
        ],
        [
         "cust_00739",
         "Why does the selfie step repeat?",
         "App Performance Issues",
         "2025-07-28T01:17:11.000Z",
         23.8,
         "free"
        ],
        [
         "cust_00094",
         "Crashes when I open the Advance screen.",
         "App Performance Issues",
         "2025-07-22T18:39:14.000Z",
         5.92,
         "plus"
        ],
        [
         "cust_00611",
         "Chime won’t connect even after multiple tries.",
         "Chime Connection Issues",
         "2025-07-18T10:47:07.000Z",
         156.78,
         "free"
        ],
        [
         "cust_00147",
         "Requirements seem too strict for small advances.",
         "Advance Approval Denials",
         "2025-08-13T04:00:47.000Z",
         7.16,
         "free"
        ],
        [
         "cust_00782",
         "Why was my advance denied? I meet the criteria.",
         "Advance Approval Denials",
         "2025-08-20T18:45:57.000Z",
         23.73,
         "plus"
        ],
        [
         "cust_00332",
         "Why was my advance denied? I meet the criteria.",
         "Advance Approval Denials",
         "2025-08-06T09:48:04.000Z",
         12.96,
         "free"
        ],
        [
         "cust_00736",
         "Linking to Chime returns an error code 102.",
         "Chime Connection Issues",
         "2025-07-19T19:34:17.000Z",
         41.75,
         "plus"
        ],
        [
         "cust_00774",
         "Stuck in an ID verification loop—keeps asking again.",
         "ID Verification Problems",
         "2025-07-29T02:40:49.000Z",
         62.96,
         "plus"
        ],
        [
         "cust_00422",
         "Customer support was super helpful.",
         "Chime Connection Issues",
         "2025-07-01T09:55:26.000Z",
         39.49,
         "free"
        ],
        [
         "cust_00521",
         "Stop sending me repeated repayment notifications.",
         "Repayment Reminder Frequency",
         "2025-08-01T19:42:34.000Z",
         41.96,
         "free"
        ],
        [
         "cust_00195",
         "Stop sending me repeated repayment notifications.",
         "Repayment Reminder Frequency",
         "2025-08-19T13:44:02.000Z",
         56.98,
         "plus"
        ],
        [
         "cust_00707",
         "App is slow on my Android phone.",
         "App Performance Issues",
         "2025-07-02T16:44:14.000Z",
         12.39,
         "plus"
        ],
        [
         "cust_00625",
         "Chime connection keeps timing out during link.",
         "Chime Connection Issues",
         "2025-06-16T10:17:41.000Z",
         6.61,
         "plus"
        ],
        [
         "cust_00696",
         "App is slow on my Android phone.",
         "App Performance Issues",
         "2025-07-26T07:33:17.000Z",
         21.51,
         "free"
        ],
        [
         "cust_00056",
         "Way too many repayment reminders this week.",
         "Repayment Reminder Frequency",
         "2025-06-14T02:39:55.000Z",
         21.69,
         "free"
        ],
        [
         "cust_00217",
         "Requirements seem too strict for small advances.",
         "Advance Approval Denials",
         "2025-07-09T17:36:36.000Z",
         56.68,
         "free"
        ],
        [
         "cust_00816",
         "Linking to Chime returns an error code 102.",
         "Chime Connection Issues",
         "2025-08-20T16:33:38.000Z",
         20.89,
         "free"
        ],
        [
         "cust_00873",
         "Chime connection keeps timing out during link.",
         "Chime Connection Issues",
         "2025-07-26T06:56:43.000Z",
         45.11,
         "free"
        ],
        [
         "cust_00611",
         "Chime won’t connect even after multiple tries.",
         "Chime Connection Issues",
         "2025-08-19T01:37:10.000Z",
         156.78,
         "free"
        ],
        [
         "cust_00164",
         "Chime won’t connect even after multiple tries.",
         "Chime Connection Issues",
         "2025-08-10T05:04:18.000Z",
         null,
         null
        ],
        [
         "cust_00631",
         "Crashes when I open the Advance screen.",
         "App Performance Issues",
         "2025-06-29T00:02:52.000Z",
         null,
         null
        ],
        [
         "cust_00462",
         "Stop sending me repeated repayment notifications.",
         "Repayment Reminder Frequency",
         "2025-07-07T20:01:42.000Z",
         null,
         null
        ],
        [
         "cust_00873",
         "Way too many repayment reminders this week.",
         "Repayment Reminder Frequency",
         "2025-07-16T20:53:17.000Z",
         45.11,
         "free"
        ],
        [
         "cust_00483",
         "Can't pass identity check; it keeps resetting.",
         "ID Verification Problems",
         "2025-08-14T23:54:39.000Z",
         null,
         null
        ],
        [
         "cust_00081",
         "Linking to Chime returns an error code 102.",
         "Chime Connection Issues",
         "2025-07-13T20:32:35.000Z",
         null,
         null
        ],
        [
         "cust_00812",
         "Chime connection keeps timing out during link.",
         "Chime Connection Issues",
         "2025-06-28T03:11:07.000Z",
         null,
         null
        ],
        [
         "cust_00812",
         "Requirements seem too strict for small advances.",
         "Advance Approval Denials",
         "2025-06-28T03:11:07.000Z",
         null,
         null
        ],
        [
         "cust_00522",
         "Why is Chime link broken today?",
         "Chime Connection Issues",
         "2025-06-20T17:44:43.000Z",
         null,
         null
        ],
        [
         "cust_00015",
         "Loving the instant access to cash—thanks!",
         "App Performance Issues",
         "2025-08-12T02:45:25.000Z",
         null,
         null
        ],
        [
         "cust_00611",
         "Customer support was super helpful.",
         "Chime Connection Issues",
         "2025-07-18T10:47:07.000Z",
         156.78,
         "free"
        ],
        [
         "cust_00764",
         "Chime connection keeps timing out during link.",
         "Chime Connection Issues",
         "2025-08-19T14:00:43.000Z",
         null,
         null
        ],
        [
         "cust_00306",
         "Stop sending me repeated repayment notifications.",
         "Repayment Reminder Frequency",
         "2025-08-08T21:26:20.000Z",
         null,
         null
        ],
        [
         "cust_00306",
         "Performance is worse after the last update.",
         "App Performance Issues",
         "2025-08-08T21:26:20.000Z",
         null,
         null
        ],
        [
         "cust_00216",
         "Great app, the budgeting tips helped me.",
         "App Performance Issues",
         "2025-07-13T22:16:38.000Z",
         null,
         null
        ],
        [
         "cust_00067",
         "The approval rules are unclear—got rejected again.",
         "Advance Approval Denials",
         "2025-06-18T23:41:59.000Z",
         null,
         null
        ],
        [
         "cust_00580",
         "Why is Chime link broken today?",
         "Chime Connection Issues",
         "2025-07-12T15:55:15.000Z",
         null,
         null
        ],
        [
         "cust_00088",
         "Performance is worse after the last update.",
         "App Performance Issues",
         "2025-08-21T01:51:35.000Z",
         null,
         null
        ],
        [
         "cust_00088",
         "Way too many repayment reminders this week.",
         "Repayment Reminder Frequency",
         "2025-08-21T01:51:35.000Z",
         null,
         null
        ],
        [
         "cust_00102",
         "Scrolling is laggy on Android 13.",
         "App Performance Issues",
         "2025-08-04T12:16:13.000Z",
         null,
         null
        ],
        [
         "cust_00102",
         "I can't link my Chime account. It fails at verification.",
         "Chime Connection Issues",
         "2025-08-04T12:16:13.000Z",
         null,
         null
        ],
        [
         "cust_00112",
         "Chime won’t connect even after multiple tries.",
         "Chime Connection Issues",
         "2025-06-23T13:18:48.000Z",
         null,
         null
        ],
        [
         "cust_00554",
         "Chime connection keeps timing out during link.",
         "Chime Connection Issues",
         "2025-07-11T17:46:41.000Z",
         34.48,
         "free"
        ],
        [
         "cust_00554",
         "The new UI looks clean and easy to use.",
         "App Performance Issues",
         "2025-07-11T17:46:41.000Z",
         34.48,
         "free"
        ],
        [
         "cust_00554",
         "Verification failed 3 times—what should I do?",
         "ID Verification Problems",
         "2025-07-11T17:46:41.000Z",
         34.48,
         "free"
        ],
        [
         "cust_00078",
         "Please reduce the reminder frequency.",
         "Repayment Reminder Frequency",
         "2025-07-01T19:32:29.000Z",
         32.14,
         "plus"
        ],
        [
         "cust_00074",
         "Why does the eslfie step repeat?",
         "App Performance Issues",
         "2025-07-05T19:49:38.000Z",
         117.49,
         "free"
        ],
        [
         "cust_00831",
         "Great app, the budgeting tips helped me.",
         "App Performance Issues",
         "2025-07-23T21:09:31.000Z",
         38.41,
         "free"
        ],
        [
         "cust_00111",
         "The app freezes after login on Android.",
         "App Performance Issues",
         "2025-06-25T02:51:51.000Z",
         20.16,
         "pro"
        ],
        [
         "cust_00734",
         "My ID got rejected, but the image was clear.",
         "ID Verification Problems",
         "2025-07-28T19:14:05.000Z",
         49.32,
         "free"
        ],
        [
         "cust_00734",
         "Why was my advance denied? I meet the criteria.",
         "Advance Approval Denials",
         "2025-07-28T19:14:05.000Z",
         49.32,
         "free"
        ],
        [
         "cust_00843",
         "Crashes when I open the Advance screen.",
         "App Performance Issues",
         "2025-07-19T23:28:33.000Z",
         23.4,
         "plus"
        ],
        [
         "cust_00843",
         "The new UI lokos clean and easy to use.",
         "App Performance Issues",
         "2025-07-19T23:28:33.000Z",
         23.4,
         "plus"
        ],
        [
         "cust_00873",
         "Way too many repayment reminders this week.",
         "Repayment Reminder Frequency",
         "2025-07-26T06:56:43.000Z",
         45.11,
         "free"
        ],
        [
         "cust_00812",
         "Chime connection keeps timing out during link.",
         "Chime Connection Issues",
         "2025-06-18T13:46:20.000Z",
         null,
         null
        ],
        [
         "cust_00812",
         "Requirements seem too strict for small advances.",
         "Advance Approval Denials",
         "2025-06-18T13:46:20.000Z",
         null,
         null
        ],
        [
         "cust_00611",
         "Customer support was super helpful.",
         "Chime Connection Issues",
         "2025-08-19T01:37:10.000Z",
         156.78,
         "free"
        ],
        [
         "cust_00306",
         "Stop sending me repeated repayment notifications.",
         "Repayment Reminder Frequency",
         "2025-07-01T08:16:20.000Z",
         null,
         null
        ],
        [
         "cust_00306",
         "Performance is worse after the last update.",
         "App Performance Issues",
         "2025-07-01T08:16:20.000Z",
         null,
         null
        ],
        [
         "cust_00088",
         "Performance is worse after the last update.",
         "App Performance Issues",
         "2025-06-28T17:31:58.000Z",
         null,
         null
        ],
        [
         "cust_00088",
         "Way too many repayment reminders this week.",
         "Repayment Reminder Frequency",
         "2025-06-28T17:31:58.000Z",
         null,
         null
        ],
        [
         "cust_00102",
         "Scrolling is laggy on Android 13.",
         "App Performance Issues",
         "2025-07-27T01:08:26.000Z",
         null,
         null
        ],
        [
         "cust_00102",
         "I can't link my Chime account. It fails at verification.",
         "Chime Connection Issues",
         "2025-07-27T01:08:26.000Z",
         null,
         null
        ],
        [
         "cust_00554",
         "Chime connection keeps timing out during link.",
         "Chime Connection Issues",
         "2025-07-27T00:33:10.000Z",
         34.48,
         "free"
        ],
        [
         "cust_00554",
         "The new UI looks clean and easy to use.",
         "App Performance Issues",
         "2025-07-27T00:33:10.000Z",
         34.48,
         "free"
        ],
        [
         "cust_00554",
         "Verification failed 3 times—what should I do?",
         "ID Verification Problems",
         "2025-07-27T00:33:10.000Z",
         34.48,
         "free"
        ],
        [
         "cust_00734",
         "My ID got rejected, but the image was clear.",
         "ID Verification Problems",
         "2025-08-03T18:09:19.000Z",
         49.32,
         "free"
        ],
        [
         "cust_00734",
         "Why was my advance denied? I meet the criteria.",
         "Advance Approval Denials",
         "2025-08-03T18:09:19.000Z",
         49.32,
         "free"
        ],
        [
         "cust_00843",
         "Crashes when I open the Advance screen.",
         "App Performance Issues",
         "2025-07-28T03:42:41.000Z",
         23.4,
         "plus"
        ],
        [
         "cust_00843",
         "The new UI lokos clean and easy to use.",
         "App Performance Issues",
         "2025-07-28T03:42:41.000Z",
         23.4,
         "plus"
        ],
        [
         "cust_00554",
         "Chime connection keeps timing out during link.",
         "Chime Connection Issues",
         "2025-08-10T20:43:16.000Z",
         34.48,
         "free"
        ],
        [
         "cust_00554",
         "The new UI looks clean and easy to use.",
         "App Performance Issues",
         "2025-08-10T20:43:16.000Z",
         34.48,
         "free"
        ],
        [
         "cust_00554",
         "Verification failed 3 times—what should I do?",
         "ID Verification Problems",
         "2025-08-10T20:43:16.000Z",
         34.48,
         "free"
        ],
        [
         "cust_00661",
         "Great app, the budgeting tips helped me.",
         "App Performance Issues",
         "2025-07-14T12:05:05.000Z",
         null,
         null
        ],
        [
         "cust_00463",
         "The app freezes after login on Android.",
         "App Performance Issues",
         "2025-08-18T05:07:38.000Z",
         null,
         null
        ],
        [
         "cust_00135",
         "Requirements seem too strict for samll advances.",
         "Advance Approval Denials",
         "2025-07-26T22:00:48.000Z",
         null,
         null
        ],
        [
         "cust_00647",
         "Stop sending me repeated repayment notifications.",
         "Repayment Reminder Frequency",
         "2025-08-06T18:42:50.000Z",
         null,
         null
        ],
        [
         "cust_00659",
         "Please clarify the approval criteria.",
         "Advance Approval Denials",
         "2025-07-04T15:26:20.000Z",
         null,
         null
        ],
        [
         "cust_00659",
         "The app freezes after login on Android.",
         "App Performance Issues",
         "2025-07-04T15:26:20.000Z",
         null,
         null
        ],
        [
         "cust_00232",
         "Stuck in an ID verification loop—keeps asking again.",
         "ID Verification Problems",
         "2025-06-25T04:20:53.000Z",
         null,
         null
        ],
        [
         "cust_00577",
         "Why is Chime link broken today?",
         "Chime Connection Issues",
         "2025-07-13T03:01:37.000Z",
         null,
         null
        ],
        [
         "cust_00271",
         "Can't pass identity check; it keeps resetting.",
         "ID Verification Problems",
         "2025-07-11T10:45:53.000Z",
         null,
         null
        ],
        [
         "cust_00466",
         "Can't pass identity check; it keeps resetting.",
         "ID Verification Problems",
         "2025-07-01T15:26:33.000Z",
         null,
         null
        ],
        [
         "cust_00715",
         "Verification failed 3 times—what should I do?",
         "ID Verification Problems",
         "2025-07-10T15:10:30.000Z",
         null,
         null
        ],
        [
         "cust_00562",
         "My ID got rejected, but the image was clear.",
         "ID Verification Problems",
         "2025-07-26T23:15:14.000Z",
         null,
         null
        ],
        [
         "cust_00197",
         "I can't link my Chime account. It fails at verification.",
         "Chime Connection Issues",
         "2025-07-23T15:36:28.000Z",
         null,
         null
        ],
        [
         "cust_00043",
         "I keep getting denied without explnaation.",
         "Advance Approval Denials",
         "2025-07-19T20:19:08.000Z",
         null,
         null
        ],
        [
         "cust_00258",
         "Please reduce the reminder frequency.",
         "Repayment Reminder Frequency",
         "2025-07-17T06:57:08.000Z",
         null,
         null
        ],
        [
         "cust_00243",
         "The approval rules are unclear—got rejected again.",
         "Advance Approval Denials",
         "2025-07-23T10:54:40.000Z",
         null,
         null
        ],
        [
         "cust_00038",
         "Please reduce the reminder frequency.",
         "Repayment Reminder Frequency",
         "2025-07-21T00:18:58.000Z",
         null,
         null
        ],
        [
         "cust_00250",
         "My ID got rejected, but the image was clear.",
         "ID Verification Problems",
         "2025-08-15T02:06:35.000Z",
         null,
         null
        ],
        [
         "cust_00240",
         "Stop sending me repeated repayment notifications.",
         "Repayment Reminder Frequency",
         "2025-07-02T07:34:30.000Z",
         null,
         null
        ],
        [
         "cust_00291",
         "The approval rules are unclear—got rejected again.",
         "Advance Approval Denials",
         "2025-08-02T15:06:18.000Z",
         null,
         null
        ],
        [
         "cust_00864",
         "I keep getting denied without explanation.",
         "Advance Approval Denials",
         "2025-08-15T03:17:27.000Z",
         null,
         null
        ],
        [
         "cust_00176",
         "Chime won’t connect even after multiple tries.",
         "Chime Connection Issues",
         "2025-07-04T08:10:12.000Z",
         null,
         null
        ],
        [
         "cust_00169",
         "Can't pass identity check; it keeps resetting.",
         "ID Verification Problems",
         "2025-07-30T17:37:47.000Z",
         null,
         null
        ],
        [
         "cust_00807",
         "Performance is worse after the last update.",
         "App Performance Issues",
         "2025-08-18T00:58:48.000Z",
         null,
         null
        ],
        [
         "cust_00591",
         "App is slow on my Android phone.",
         "App Performance Issues",
         "2025-07-14T10:54:16.000Z",
         null,
         null
        ],
        [
         "cust_00810",
         "Scrolling is laggy on Android 13.",
         "App Performance Issues",
         "2025-07-08T02:18:36.000Z",
         null,
         null
        ],
        [
         "cust_00223",
         "Stop sending me repeated repayment notifications.",
         "Repayment Reminder Frequency",
         "2025-07-23T14:57:44.000Z",
         null,
         null
        ],
        [
         "cust_00151",
         "Chime won’t connect even after multiple tries.",
         "Chime Connection Issues",
         "2025-07-06T19:16:00.000Z",
         null,
         null
        ],
        [
         "cust_00781",
         "Why is Chime link broken today?",
         "Chime Connection Issues",
         "2025-08-15T00:50:36.000Z",
         null,
         null
        ],
        [
         "cust_00781",
         "Loving the instant access to cash—thanks!",
         "App Performance Issues",
         "2025-08-15T00:50:36.000Z",
         null,
         null
        ],
        [
         "cust_00869",
         "My ID got rejected, but the image was clear.",
         "ID Verification Problems",
         "2025-08-17T11:46:09.000Z",
         null,
         null
        ],
        [
         "cust_00641",
         "App is slow on my Android phone.",
         "App Performance Issues",
         "2025-07-02T05:04:56.000Z",
         null,
         null
        ],
        [
         "cust_00659",
         "Please clarify the approval criteria.",
         "Advance Approval Denials",
         "2025-06-18T05:01:52.000Z",
         null,
         null
        ],
        [
         "cust_00659",
         "The app freezes after login on Android.",
         "App Performance Issues",
         "2025-06-18T05:01:52.000Z",
         null,
         null
        ],
        [
         "cust_00781",
         "Why is Chime link broken today?",
         "Chime Connection Issues",
         "2025-06-14T07:32:43.000Z",
         null,
         null
        ],
        [
         "cust_00781",
         "Loving the instant access to cash—thanks!",
         "App Performance Issues",
         "2025-06-14T07:32:43.000Z",
         null,
         null
        ],
        [
         "cust_00787",
         "Can't pass identity check; it keeps resetting.",
         "ID Verification Problems",
         "2025-06-16T08:53:55.000Z",
         null,
         null
        ],
        [
         "cust_00714",
         "Linking to Chime returns an error code 102.",
         "Chime Connection Issues",
         "2025-06-21T01:41:07.000Z",
         null,
         null
        ],
        [
         "cust_00033",
         "Great app, the budgeting tips helped me.",
         "App Performance Issues",
         "2025-06-23T22:48:51.000Z",
         null,
         null
        ],
        [
         "cust_00013",
         "Scrolling is laggy on Android 13.",
         "App Performance Issues",
         "2025-06-26T06:14:09.000Z",
         null,
         null
        ],
        [
         "cust_00411",
         "Why is Chime link broken today?",
         "Chime Connection Issues",
         "2025-07-23T23:11:09.000Z",
         null,
         null
        ],
        [
         "cust_00411",
         "I’m getting multiple texts about the same payment.",
         "Repayment Reminder Frequency",
         "2025-07-23T23:11:09.000Z",
         null,
         null
        ],
        [
         "cust_00017",
         "Linking to Chime returns a nerror code 102.",
         "Chime Connection Issues",
         "2025-06-26T19:06:25.000Z",
         null,
         null
        ],
        [
         "cust_00392",
         "Can't pass idetnity check; it keeps resetting.",
         "ID Verification Problems",
         "2025-07-01T11:32:46.000Z",
         null,
         null
        ],
        [
         "cust_00419",
         "Why does the selfie step repeat?",
         "App Performance Issues",
         "2025-08-14T15:08:20.000Z",
         null,
         null
        ],
        [
         "cust_00609",
         "I keep getting denied without explanation.",
         "Advance Approval Denials",
         "2025-07-06T20:02:53.000Z",
         null,
         null
        ],
        [
         "cust_00852",
         "The reminders feel spammy.",
         "Repayment Reminder Frequency",
         "2025-07-15T17:35:21.000Z",
         null,
         null
        ],
        [
         "cust_00152",
         "Great app, the budgeting tips helped me.",
         "App Performance Issues",
         "2025-08-09T22:21:17.000Z",
         null,
         null
        ],
        [
         "cust_00806",
         "Please reduce the reminder frequency.",
         "Repayment Reminder Frequency",
         "2025-06-17T17:07:44.000Z",
         null,
         null
        ],
        [
         "cust_00784",
         "Chime won’t connect even after multiple tries.",
         "Chime Connection Issues",
         "2025-08-09T16:59:13.000Z",
         null,
         null
        ],
        [
         "cust_00735",
         "The app freezes after login on Android.",
         "App Performance Issues",
         "2025-08-06T17:05:16.000Z",
         null,
         null
        ],
        [
         "cust_00643",
         "Can't pass identity check; it keeps resetting.",
         "ID Verification Problems",
         "2025-07-08T07:59:09.000Z",
         null,
         null
        ],
        [
         "cust_00619",
         "Way too many repayment reminders this week.",
         "Repayment Reminder Frequency",
         "2025-07-16T16:18:19.000Z",
         null,
         null
        ],
        [
         "cust_00841",
         "Chime won’t connect even after multiple tries.",
         "Chime Connection Issues",
         "2025-07-03T09:01:18.000Z",
         null,
         null
        ],
        [
         "cust_00495",
         "Requirements seem too strict for small advances.",
         "Advance Approval Denials",
         "2025-07-12T08:04:12.000Z",
         null,
         null
        ],
        [
         "cust_00683",
         "Verification failed 3 times—what should I do?",
         "ID Verification Problems",
         "2025-07-06T13:01:17.000Z",
         null,
         null
        ],
        [
         "cust_00683",
         "The approval rules are unclear—got rejected again.",
         "Advance Approval Denials",
         "2025-07-06T13:01:17.000Z",
         null,
         null
        ],
        [
         "cust_00646",
         "Why was my advance denied? I meet the criteria.",
         "Advance Approval Denials",
         "2025-07-11T23:08:23.000Z",
         null,
         null
        ],
        [
         "cust_00385",
         "Stop sending me repeated repayment notifications.",
         "Repayment Reminder Frequency",
         "2025-08-09T04:24:59.000Z",
         null,
         null
        ],
        [
         "cust_00636",
         "Requirements seem too strict for small advances.",
         "Advance Approval Denials",
         "2025-08-11T22:32:50.000Z",
         null,
         null
        ],
        [
         "cust_00636",
         "Stuck in an ID verification loop—keeps askign again.",
         "ID Verification Problems",
         "2025-08-11T22:32:50.000Z",
         null,
         null
        ],
        [
         "cust_00325",
         "Way too many repayment reminders this week.",
         "Repayment Reminder Frequency",
         "2025-07-15T21:35:47.000Z",
         null,
         null
        ],
        [
         "cust_00855",
         "Scrolling is laggy on Android 13.",
         "App Performance Issues",
         "2025-06-14T22:30:55.000Z",
         null,
         null
        ],
        [
         "cust_00280",
         "Requirements seem too strict for small advances.",
         "Advance Approval Denials",
         "2025-08-06T00:33:49.000Z",
         null,
         null
        ],
        [
         "cust_00073",
         "Performance is worse after the last update.",
         "App Performance Issues",
         "2025-06-19T17:10:08.000Z",
         null,
         null
        ],
        [
         "cust_00037",
         "Stop sending me repeated repayment notifications.",
         "Repayment Reminder Frequency",
         "2025-08-13T20:31:52.000Z",
         null,
         null
        ],
        [
         "cust_00189",
         "Why was my advance denied? I meet the criteria.",
         "Advance Approval Denials",
         "2025-08-08T17:38:59.000Z",
         null,
         null
        ],
        [
         "cust_00136",
         "Linking to Chime returns an error code 102.",
         "Chime Connection Issues",
         "2025-08-02T22:03:14.000Z",
         null,
         null
        ],
        [
         "cust_00136",
         "Chime won’t connect evne after multiple tries.",
         "Chime Connection Issues",
         "2025-08-02T22:03:14.000Z",
         null,
         null
        ],
        [
         "cust_00411",
         "Why is Chime link broken today?",
         "Chime Connection Issues",
         "2025-06-19T10:19:41.000Z",
         null,
         null
        ],
        [
         "cust_00411",
         "I’m getting multiple texts about the same payment.",
         "Repayment Reminder Frequency",
         "2025-06-19T10:19:41.000Z",
         null,
         null
        ],
        [
         "cust_00683",
         "Verification failed 3 times—what should I do?",
         "ID Verification Problems",
         "2025-06-26T02:22:52.000Z",
         null,
         null
        ],
        [
         "cust_00683",
         "The approval rules are unclear—got rejected again.",
         "Advance Approval Denials",
         "2025-06-26T02:22:52.000Z",
         null,
         null
        ],
        [
         "cust_00636",
         "Requirements seem too strict for small advances.",
         "Advance Approval Denials",
         "2025-07-12T20:51:58.000Z",
         null,
         null
        ],
        [
         "cust_00636",
         "Stuck in an ID verification loop—keeps askign again.",
         "ID Verification Problems",
         "2025-07-12T20:51:58.000Z",
         null,
         null
        ],
        [
         "cust_00136",
         "Linking to Chime returns an error code 102.",
         "Chime Connection Issues",
         "2025-06-23T16:57:23.000Z",
         null,
         null
        ],
        [
         "cust_00136",
         "Chime won’t connect evne after multiple tries.",
         "Chime Connection Issues",
         "2025-06-23T16:57:23.000Z",
         null,
         null
        ],
        [
         "cust_00205",
         "I can't link my Chime account. It fails at verification.",
         "Chime Connection Issues",
         "2025-08-16T06:40:54.000Z",
         null,
         null
        ],
        [
         "cust_00473",
         "Thanks for the quick approval yesterday.",
         "Advance Approval Denials",
         "2025-06-16T15:08:08.000Z",
         null,
         null
        ],
        [
         "cust_00535",
         "Performance is worse after the last update.",
         "App Performance Issues",
         "2025-07-28T15:15:13.000Z",
         null,
         null
        ],
        [
         "cust_00489",
         "The reminders feel spammy.",
         "Repayment Reminder Frequency",
         "2025-08-05T15:23:23.000Z",
         null,
         null
        ],
        [
         "cust_00534",
         "I can't link my Chime account. It fails at verification.",
         "Chime Connection Issues",
         "2025-07-08T00:05:37.000Z",
         null,
         null
        ],
        [
         "cust_00506",
         "Chime won’t connect even after multiple tries.",
         "Chime Connection Issues",
         "2025-07-13T12:34:01.000Z",
         null,
         null
        ],
        [
         "cust_00704",
         "Chime connection keeps timing out during link.",
         "Chime Connection Issues",
         "2025-07-02T10:53:56.000Z",
         null,
         null
        ],
        [
         "cust_00330",
         "The approval rules are unclear—got rejected again.",
         "Advance Approval Denials",
         "2025-08-19T14:42:22.000Z",
         null,
         null
        ],
        [
         "cust_00330",
         "Please clarify the approval criteria.",
         "Advance Approval Denials",
         "2025-08-19T14:42:22.000Z",
         null,
         null
        ],
        [
         "cust_00338",
         "Scrolling is laggy on Android 13.",
         "App Performance Issues",
         "2025-07-16T08:38:53.000Z",
         null,
         null
        ],
        [
         "cust_00055",
         "Chime wont’ connect even after multiple tries.",
         "Chime Connection Issues",
         "2025-07-22T21:41:57.000Z",
         null,
         null
        ],
        [
         "cust_00604",
         "The app freezes after login on Android.",
         "App Performance Issues",
         "2025-07-01T23:24:49.000Z",
         null,
         null
        ],
        [
         "cust_00072",
         "Crashes when I open the Advance screen.",
         "App Performance Issues",
         "2025-08-22T20:22:36.000Z",
         null,
         null
        ],
        [
         "cust_00071",
         "Great app, the ubdgeting tips helped me.",
         "App Performance Issues",
         "2025-08-05T08:55:14.000Z",
         null,
         null
        ],
        [
         "cust_00390",
         "Great app, the budgeting tips helped me.",
         "App Performance Issues",
         "2025-07-12T02:18:22.000Z",
         null,
         null
        ],
        [
         "cust_00399",
         "Why does the selfie step repeat?",
         "App Performance Issues",
         "2025-07-29T05:39:56.000Z",
         null,
         null
        ],
        [
         "cust_00029",
         "Performance is worse after the last updat.e",
         "App Performance Issues",
         "2025-07-22T19:18:05.000Z",
         null,
         null
        ],
        [
         "cust_00269",
         "Chime connection keeps timing out during link.",
         "Chime Connection Issues",
         "2025-06-14T08:14:43.000Z",
         null,
         null
        ],
        [
         "cust_00196",
         "Stop sending me repeated repayment notifications.",
         "Repayment Reminder Frequency",
         "2025-07-29T20:20:06.000Z",
         null,
         null
        ],
        [
         "cust_00028",
         "I’m getting multiple texts about the same payment.",
         "Repayment Reminder Frequency",
         "2025-06-16T21:24:57.000Z",
         null,
         null
        ],
        [
         "cust_00263",
         "Please clarify the approval criteria.",
         "Advance Approval Denials",
         "2025-06-25T02:31:48.000Z",
         null,
         null
        ],
        [
         "cust_00117",
         "The new UI looks clean and easy to use.",
         "App Performance Issues",
         "2025-08-06T14:49:20.000Z",
         null,
         null
        ],
        [
         "cust_00602",
         "Can't pass identity check; it keeps resetting.",
         "ID Verification Problems",
         "2025-08-06T01:38:57.000Z",
         null,
         null
        ],
        [
         "cust_00314",
         "Great app, the budgeting tips helped me.",
         "App Performance Issues",
         "2025-06-23T00:48:48.000Z",
         null,
         null
        ],
        [
         "cust_00753",
         "I can't link my Chime account. It fails at verification.",
         "Chime Connection Issues",
         "2025-07-26T12:02:07.000Z",
         null,
         null
        ],
        [
         "cust_00753",
         "Customer support was suepr helpful.",
         "Chime Connection Issues",
         "2025-07-26T12:02:07.000Z",
         null,
         null
        ],
        [
         "cust_00236",
         "Linking to Chime returns an error code 102.",
         "Chime Connection Issues",
         "2025-08-01T05:26:30.000Z",
         null,
         null
        ],
        [
         "cust_00546",
         "Chime won’t connect even after multiple tries.",
         "Chime Connection Issues",
         "2025-06-22T07:34:13.000Z",
         null,
         null
        ],
        [
         "cust_00900",
         "Verification failed 3 times—what should I do?",
         "ID Verification Problems",
         "2025-07-15T11:19:18.000Z",
         null,
         null
        ],
        [
         "cust_00575",
         "Why is Chime link broken today?",
         "Chime Connection Issues",
         "2025-07-28T13:11:08.000Z",
         null,
         null
        ],
        [
         "cust_00575",
         "The reminders feel spammy.",
         "Repayment Reminder Frequency",
         "2025-07-28T13:11:08.000Z",
         null,
         null
        ],
        [
         "cust_00614",
         "I can't link my Chime account. It fails at verification.",
         "Chime Connection Issues",
         "2025-06-29T16:25:11.000Z",
         null,
         null
        ],
        [
         "cust_00330",
         "The approval rules are unclear—got rejected again.",
         "Advance Approval Denials",
         "2025-07-16T06:37:28.000Z",
         null,
         null
        ],
        [
         "cust_00330",
         "Please clarify the approval criteria.",
         "Advance Approval Denials",
         "2025-07-16T06:37:28.000Z",
         null,
         null
        ],
        [
         "cust_00753",
         "I can't link my Chime account. It fails at verification.",
         "Chime Connection Issues",
         "2025-07-21T20:43:05.000Z",
         null,
         null
        ],
        [
         "cust_00753",
         "Customer support was suepr helpful.",
         "Chime Connection Issues",
         "2025-07-21T20:43:05.000Z",
         null,
         null
        ],
        [
         "cust_00575",
         "Why is Chime link broken today?",
         "Chime Connection Issues",
         "2025-06-29T16:29:47.000Z",
         null,
         null
        ],
        [
         "cust_00575",
         "The reminders feel spammy.",
         "Repayment Reminder Frequency",
         "2025-06-29T16:29:47.000Z",
         null,
         null
        ],
        [
         "cust_00765",
         "Linking to Chime returns an error code 102.",
         "Chime Connection Issues",
         "2025-08-12T22:46:05.000Z",
         null,
         null
        ],
        [
         "cust_00354",
         "Chime connection keeps timing out during link.",
         "Chime Connection Issues",
         "2025-07-31T12:55:40.000Z",
         null,
         null
        ],
        [
         "cust_00323",
         "Scrolling is laggy on Android 13.",
         "App Performance Issues",
         "2025-07-09T23:51:53.000Z",
         null,
         null
        ],
        [
         "cust_00272",
         "Thanks for the quick approval yesterday.",
         "Advance Approval Denials",
         "2025-08-16T13:44:03.000Z",
         null,
         null
        ],
        [
         "cust_00272",
         "I’m getting multiple texts about the same payment.",
         "Repayment Reminder Frequency",
         "2025-08-16T13:44:03.000Z",
         null,
         null
        ],
        [
         "cust_00277",
         "Can't pass identity check; it keeps resetting.",
         "ID Verification Problems",
         "2025-08-04T20:37:10.000Z",
         null,
         null
        ],
        [
         "cust_00594",
         "Requirements seem too strict for small advances.",
         "Advance Approval Denials",
         "2025-06-29T00:41:09.000Z",
         null,
         null
        ],
        [
         "cust_00686",
         "Why does the selfie step repeat?",
         "App Performance Issues",
         "2025-06-15T23:28:19.000Z",
         null,
         null
        ],
        [
         "cust_00571",
         "I keep getting denied without explanation.",
         "Advance Approval Denials",
         "2025-07-01T01:49:44.000Z",
         null,
         null
        ],
        [
         "cust_00213",
         "Stuck in an ID verification loop—keeps asking again.",
         "ID Verification Problems",
         "2025-06-26T05:24:26.000Z",
         null,
         null
        ],
        [
         "cust_00213",
         "Please clarify the approval criteria.",
         "Advance Approval Denials",
         "2025-06-26T05:24:26.000Z",
         null,
         null
        ],
        [
         "cust_00498",
         "Please reduce the reminder frequency.",
         "Repayment Reminder Frequency",
         "2025-06-15T10:22:17.000Z",
         null,
         null
        ],
        [
         "cust_00426",
         "Chime won’t connect even after multiple tries.",
         "Chime Connection Issues",
         "2025-06-26T18:11:42.000Z",
         null,
         null
        ],
        [
         "cust_00692",
         "My ID got rejected, but the image was clear.",
         "ID Verification Problems",
         "2025-06-21T18:39:23.000Z",
         null,
         null
        ],
        [
         "cust_00630",
         "Please clarify the approval criteria.",
         "Advance Approval Denials",
         "2025-08-02T19:54:52.000Z",
         null,
         null
        ],
        [
         "cust_00724",
         "Crashes when I open the Advance screen.",
         "App Performance Issues",
         "2025-08-10T15:39:49.000Z",
         null,
         null
        ],
        [
         "cust_00717",
         "Linking to Chime returns an error code 102.",
         "Chime Connection Issues",
         "2025-07-07T00:42:45.000Z",
         null,
         null
        ],
        [
         "cust_00721",
         "Linking to Chime returns an error cod e102.",
         "Chime Connection Issues",
         "2025-06-22T18:34:56.000Z",
         null,
         null
        ],
        [
         "cust_00420",
         "Crashes when I open the Advance screen.",
         "App Performance Issues",
         "2025-07-26T17:58:16.000Z",
         null,
         null
        ],
        [
         "cust_00539",
         "I keep getting denied without explanation.",
         "Advance Approval Denials",
         "2025-06-30T22:00:23.000Z",
         null,
         null
        ],
        [
         "cust_00477",
         "I keep getting denied without explanation.",
         "Advance Approval Denials",
         "2025-08-16T03:39:32.000Z",
         null,
         null
        ],
        [
         "cust_00750",
         "Please clarify the approval criteria.",
         "Advance Approval Denials",
         "2025-08-15T18:03:58.000Z",
         null,
         null
        ],
        [
         "cust_00218",
         "Chime connection keeps timing out during link.",
         "Chime Connection Issues",
         "2025-07-16T15:50:39.000Z",
         null,
         null
        ],
        [
         "cust_00668",
         "Can't pass identity check; it keeps resetting.",
         "ID Verification Problems",
         "2025-07-10T03:59:22.000Z",
         null,
         null
        ],
        [
         "cust_00442",
         "Great app, the budgeting tips helped me.",
         "App Performance Issues",
         "2025-07-15T11:49:51.000Z",
         null,
         null
        ],
        [
         "cust_00658",
         "Why does the selfie step repeat?",
         "App Performance Issues",
         "2025-06-25T20:38:09.000Z",
         null,
         null
        ],
        [
         "cust_00130",
         "I’m getting multiple texts about the same payment.",
         "Repayment Reminder Frequency",
         "2025-07-06T02:03:27.000Z",
         null,
         null
        ],
        [
         "cust_00845",
         "Stop sending me repeated repayment notifications.",
         "Repayment Reminder Frequency",
         "2025-06-25T06:06:00.000Z",
         null,
         null
        ],
        [
         "cust_00845",
         "Please clarify the approval criteria.",
         "Advance Approval Denials",
         "2025-06-25T06:06:00.000Z",
         null,
         null
        ],
        [
         "cust_00375",
         "Requirements seem too strict for small advances.",
         "Advance Approval Denials",
         "2025-07-01T01:15:15.000Z",
         null,
         null
        ],
        [
         "cust_00157",
         "Customer support was super helpful.",
         "Chime Connection Issues",
         "2025-06-21T19:44:34.000Z",
         null,
         null
        ],
        [
         "cust_00622",
         "Verification failed 3 times—what should I do?",
         "ID Verification Problems",
         "2025-07-13T12:03:47.000Z",
         null,
         null
        ],
        [
         "cust_00363",
         "The app freezes after login on Android.",
         "App Performance Issues",
         "2025-07-23T12:30:06.000Z",
         null,
         null
        ],
        [
         "cust_00272",
         "Thanks for the quick approval yesterday.",
         "Advance Approval Denials",
         "2025-06-25T04:44:56.000Z",
         null,
         null
        ],
        [
         "cust_00272",
         "I’m getting multiple texts about the same payment.",
         "Repayment Reminder Frequency",
         "2025-06-25T04:44:56.000Z",
         null,
         null
        ],
        [
         "cust_00213",
         "Stuck in an ID verification loop—keeps asking again.",
         "ID Verification Problems",
         "2025-06-19T20:19:48.000Z",
         null,
         null
        ],
        [
         "cust_00213",
         "Please clarify the approval criteria.",
         "Advance Approval Denials",
         "2025-06-19T20:19:48.000Z",
         null,
         null
        ],
        [
         "cust_00845",
         "Stop sending me repeated repayment notifications.",
         "Repayment Reminder Frequency",
         "2025-06-19T18:57:00.000Z",
         null,
         null
        ],
        [
         "cust_00845",
         "Please clarify the approval criteria.",
         "Advance Approval Denials",
         "2025-06-19T18:57:00.000Z",
         null,
         null
        ],
        [
         "cust_00556",
         "Linking to Chime returns an error code 102.",
         "Chime Connection Issues",
         "2025-08-21T14:03:33.000Z",
         null,
         null
        ],
        [
         "cust_00598",
         "The approval rules are unclear—got rejected aagin.",
         "Advance Approval Denials",
         "2025-08-05T07:53:29.000Z",
         null,
         null
        ],
        [
         "cust_00694",
         "Requirements seem too strict for samll advances.",
         "Advance Approval Denials",
         "2025-06-14T21:52:51.000Z",
         null,
         null
        ],
        [
         "cust_00286",
         "Why is Chime link broken today?",
         "Chime Connection Issues",
         "2025-07-06T02:19:09.000Z",
         null,
         null
        ],
        [
         "cust_00110",
         "Scrolling is laggy on Android 13.",
         "App Performance Issues",
         "2025-07-13T07:58:40.000Z",
         null,
         null
        ],
        [
         "cust_00110",
         "The new UI looks clean and easy to use.",
         "App Performance Issues",
         "2025-07-13T07:58:40.000Z",
         null,
         null
        ],
        [
         "cust_00454",
         "My ID got rejected, but the image was clear.",
         "ID Verification Problems",
         "2025-08-13T01:00:09.000Z",
         null,
         null
        ],
        [
         "cust_00353",
         "Requirements seem too strict for small advances.",
         "Advance Approval Denials",
         "2025-08-17T11:07:20.000Z",
         null,
         null
        ],
        [
         "cust_00046",
         "Stuck in an ID verification loop—keeps asking again.",
         "ID Verification Problems",
         "2025-06-18T22:21:12.000Z",
         null,
         null
        ],
        [
         "cust_00689",
         "Why was my advance denied? I meet the criteria.",
         "Advance Approval Denials",
         "2025-08-08T20:17:39.000Z",
         null,
         null
        ],
        [
         "cust_00304",
         "I can't link m yChime account. It fails at verification.",
         "Chime Connection Issues",
         "2025-08-03T22:28:33.000Z",
         null,
         null
        ],
        [
         "cust_00283",
         "Linking to Chime returns an error code 102.",
         "Chime Connection Issues",
         "2025-08-11T04:38:03.000Z",
         null,
         null
        ],
        [
         "cust_00706",
         "Loving the instant access to cash—thanks!",
         "App Performance Issues",
         "2025-08-08T06:19:54.000Z",
         null,
         null
        ],
        [
         "cust_00706",
         "Please reduce the reminder frequency.",
         "Repayment Reminder Frequency",
         "2025-08-08T06:19:54.000Z",
         null,
         null
        ],
        [
         "cust_00768",
         "The approval rules are unclear—got rejected again.",
         "Advance Approval Denials",
         "2025-07-24T22:18:02.000Z",
         null,
         null
        ],
        [
         "cust_00018",
         "Why was my advance denied? I meet the criteria.",
         "Advance Approval Denials",
         "2025-08-20T01:13:11.000Z",
         null,
         null
        ],
        [
         "cust_00827",
         "Way too many repayment reminders this week.",
         "Repayment Reminder Frequency",
         "2025-08-08T10:36:36.000Z",
         null,
         null
        ],
        [
         "cust_00827",
         "Chime connection keeps timing out during link.",
         "Chime Connection Issues",
         "2025-08-08T10:36:36.000Z",
         null,
         null
        ],
        [
         "cust_00012",
         "I’m getting multiple texts about the same payment.",
         "Repayment Reminder Frequency",
         "2025-07-29T10:37:07.000Z",
         null,
         null
        ],
        [
         "cust_00447",
         "Crashes when I open the Advance screen.",
         "App Performance Issues",
         "2025-07-26T22:27:09.000Z",
         null,
         null
        ],
        [
         "cust_00048",
         "Chime connection keeps timing out during link.",
         "Chime Connection Issues",
         "2025-06-23T18:10:55.000Z",
         null,
         null
        ],
        [
         "cust_00649",
         "Chime won’t connect even after multiple tries.",
         "Chime Connection Issues",
         "2025-08-12T01:25:08.000Z",
         null,
         null
        ],
        [
         "cust_00468",
         "Crashes when I open the Advance screen.",
         "App Performance Issues",
         "2025-07-13T01:03:47.000Z",
         null,
         null
        ],
        [
         "cust_00662",
         "Can't pass identity check; it keeps resetting.",
         "ID Verification Problems",
         "2025-07-25T02:59:35.000Z",
         null,
         null
        ],
        [
         "cust_00389",
         "Linking to Chime returns an error code 102.",
         "Chime Connection Issues",
         "2025-07-07T16:13:34.000Z",
         null,
         null
        ],
        [
         "cust_00679",
         "Please clarify the approval criteria.",
         "Advance Approval Denials",
         "2025-08-04T20:34:53.000Z",
         null,
         null
        ],
        [
         "cust_00603",
         "Can't pass identity check; it keeps resetting.",
         "ID Verification Problems",
         "2025-06-25T17:56:36.000Z",
         null,
         null
        ],
        [
         "cust_00857",
         "I can't link my Chime account. It fails at verification.",
         "Chime Connection Issues",
         "2025-07-15T07:02:49.000Z",
         null,
         null
        ],
        [
         "cust_00433",
         "My ID got rejected, but the image was clear.",
         "ID Verification Problems",
         "2025-07-08T03:23:40.000Z",
         null,
         null
        ],
        [
         "cust_00105",
         "I can't link my Chime account. It fails at verification.",
         "Chime Connection Issues",
         "2025-07-22T12:15:18.000Z",
         null,
         null
        ],
        [
         "cust_00364",
         "Why was my advance denied? I meet the criteria.",
         "Advance Approval Denials",
         "2025-07-10T23:42:31.000Z",
         null,
         null
        ],
        [
         "cust_00839",
         "I’m getting multiple texts about the same payment.",
         "Repayment Reminder Frequency",
         "2025-08-03T01:04:24.000Z",
         null,
         null
        ],
        [
         "cust_00110",
         "Scrolling is laggy on Android 13.",
         "App Performance Issues",
         "2025-06-24T01:21:26.000Z",
         null,
         null
        ],
        [
         "cust_00110",
         "The new UI looks clean and easy to use.",
         "App Performance Issues",
         "2025-06-24T01:21:26.000Z",
         null,
         null
        ],
        [
         "cust_00706",
         "Loving the instant access to cash—thanks!",
         "App Performance Issues",
         "2025-08-06T14:13:06.000Z",
         null,
         null
        ],
        [
         "cust_00706",
         "Please reduce the reminder frequency.",
         "Repayment Reminder Frequency",
         "2025-08-06T14:13:06.000Z",
         null,
         null
        ],
        [
         "cust_00827",
         "Way too many repayment reminders this week.",
         "Repayment Reminder Frequency",
         "2025-07-26T13:01:38.000Z",
         null,
         null
        ],
        [
         "cust_00827",
         "Chime connection keeps timing out during link.",
         "Chime Connection Issues",
         "2025-07-26T13:01:38.000Z",
         null,
         null
        ],
        [
         "cust_00678",
         "I keep getting denied without explanation.",
         "Advance Approval Denials",
         "2025-08-07T22:42:06.000Z",
         null,
         null
        ],
        [
         "cust_00003",
         "Chime won’t connect eve nafter multiple tries.",
         "Chime Connection Issues",
         "2025-07-24T06:52:09.000Z",
         null,
         null
        ],
        [
         "cust_00792",
         "I’ mgetting multiple texts about the same payment.",
         "Repayment Reminder Frequency",
         "2025-08-09T01:18:40.000Z",
         null,
         null
        ],
        [
         "cust_00228",
         "Please clarify the approval criteria.",
         "Advance Approval Denials",
         "2025-08-21T02:04:47.000Z",
         null,
         null
        ],
        [
         "cust_00264",
         "I can't link my Chime account. It fails at verification.",
         "Chime Connection Issues",
         "2025-08-04T12:57:32.000Z",
         null,
         null
        ],
        [
         "cust_00761",
         "Stop sending me repeated repayment notifications.",
         "Repayment Reminder Frequency",
         "2025-07-21T17:35:37.000Z",
         null,
         null
        ],
        [
         "cust_00770",
         "Requirements seem too strict for small advances.",
         "Advance Approval Denials",
         "2025-07-27T07:02:14.000Z",
         null,
         null
        ],
        [
         "cust_00225",
         "Loving the instant access to cash—thanks!",
         "App Performance Issues",
         "2025-06-14T12:54:13.000Z",
         null,
         null
        ],
        [
         "cust_00409",
         "Can't pass identity check; it keeps resetting.",
         "ID Verification Problems",
         "2025-08-05T08:38:03.000Z",
         null,
         null
        ],
        [
         "cust_00127",
         "Thanks for the quick approval yesterday.",
         "Advance Approval Denials",
         "2025-08-07T02:36:57.000Z",
         null,
         null
        ],
        [
         "cust_00143",
         "Crashes when I open the Advance screen.",
         "App Performance Issues",
         "2025-08-15T01:57:20.000Z",
         null,
         null
        ],
        [
         "cust_00788",
         "Can't pass identity check; it keeps resetting.",
         "ID Verification Problems",
         "2025-08-19T01:09:30.000Z",
         null,
         null
        ],
        [
         "cust_00371",
         "Can't pass identity check; it keeps resetting.",
         "ID Verification Problems",
         "2025-06-25T00:48:19.000Z",
         null,
         null
        ],
        [
         "cust_00371",
         "Why does the selfie step repeat?",
         "App Performance Issues",
         "2025-06-25T00:48:19.000Z",
         null,
         null
        ],
        [
         "cust_00026",
         "Way too many repayment reminders this week.",
         "Repayment Reminder Frequency",
         "2025-06-29T18:38:23.000Z",
         null,
         null
        ],
        [
         "cust_00720",
         "Why was my advance denied? I meet the criteria.",
         "Advance Approval Denials",
         "2025-07-25T07:28:44.000Z",
         null,
         null
        ],
        [
         "cust_00247",
         "I keep getting deined without explanation.",
         "Advance Approval Denials",
         "2025-07-07T10:23:01.000Z",
         null,
         null
        ],
        [
         "cust_00219",
         "App is slow on my Android phone.",
         "App Performance Issues",
         "2025-08-16T13:33:28.000Z",
         null,
         null
        ],
        [
         "cust_00638",
         "Chimew on’t connect even after multiple tries.",
         "Chime Connection Issues",
         "2025-07-23T06:06:34.000Z",
         null,
         null
        ],
        [
         "cust_00849",
         "The reminders feel spammy.",
         "Repayment Reminder Frequency",
         "2025-07-31T14:14:09.000Z",
         null,
         null
        ],
        [
         "cust_00460",
         "Can't pass identity check; it keeps resetting.",
         "ID Verification Problems",
         "2025-08-07T11:46:44.000Z",
         null,
         null
        ],
        [
         "cust_00579",
         "App is slow on my Android phone.",
         "App Performance Issues",
         "2025-06-17T20:35:17.000Z",
         null,
         null
        ],
        [
         "cust_00499",
         "Loving the instant access to cash—thanks!",
         "App Performance Issues",
         "2025-07-28T04:13:46.000Z",
         null,
         null
        ],
        [
         "cust_00437",
         "I’m getting multiple texts about the same payment.",
         "Repayment Reminder Frequency",
         "2025-06-17T00:34:10.000Z",
         null,
         null
        ],
        [
         "cust_00574",
         "Linking to Chime returns an error code 102.",
         "Chime Connection Issues",
         "2025-08-19T05:18:50.000Z",
         null,
         null
        ],
        [
         "cust_00178",
         "Performance is worse after the last update.",
         "App Performance Issues",
         "2025-08-13T17:32:20.000Z",
         null,
         null
        ],
        [
         "cust_00824",
         "Please reduce the reminder frequency.",
         "Repayment Reminder Frequency",
         "2025-08-18T15:55:54.000Z",
         null,
         null
        ],
        [
         "cust_00821",
         "Thanks for teh quick approval yesterday.",
         "Advance Approval Denials",
         "2025-07-08T04:39:26.000Z",
         null,
         null
        ],
        [
         "cust_00705",
         "Stuck in an ID verifiaction loop—keeps asking again.",
         "ID Verification Problems",
         "2025-07-21T06:43:04.000Z",
         null,
         null
        ],
        [
         "cust_00388",
         "I can't link my Chime account. It fails at verification.",
         "Chime Connection Issues",
         "2025-07-09T16:21:41.000Z",
         null,
         null
        ],
        [
         "cust_00312",
         "My ID got rejected, but the image was clear.",
         "ID Verification Problems",
         "2025-08-16T00:49:15.000Z",
         null,
         null
        ],
        [
         "cust_00310",
         "Requirements seem too strict for small advances.",
         "Advance Approval Denials",
         "2025-07-05T11:48:22.000Z",
         null,
         null
        ],
        [
         "cust_00680",
         "Great app, the budgeting tips helped me.",
         "App Performance Issues",
         "2025-08-16T11:51:30.000Z",
         null,
         null
        ],
        [
         "cust_00371",
         "Can't pass identity check; it keeps resetting.",
         "ID Verification Problems",
         "2025-06-21T15:36:03.000Z",
         null,
         null
        ],
        [
         "cust_00371",
         "Why does the selfie step repeat?",
         "App Performance Issues",
         "2025-06-21T15:36:03.000Z",
         null,
         null
        ]
       ],
       "datasetInfos": [],
       "dbfsResultPath": null,
       "isJsonSchema": true,
       "metadata": {},
       "overflow": false,
       "plotOptions": {
        "customPlotOptions": {},
        "displayType": "table",
        "pivotAggregation": null,
        "pivotColumns": null,
        "xColumns": null,
        "yColumns": null
       },
       "removedWidgets": [],
       "schema": [
        {
         "metadata": "{}",
         "name": "customer_id",
         "type": "\"string\""
        },
        {
         "metadata": "{}",
         "name": "message",
         "type": "\"string\""
        },
        {
         "metadata": "{}",
         "name": "theme",
         "type": "\"string\""
        },
        {
         "metadata": "{}",
         "name": "created_at",
         "type": "\"timestamp\""
        },
        {
         "metadata": "{}",
         "name": "total_spend",
         "type": "\"double\""
        },
        {
         "metadata": "{}",
         "name": "subscription_tier",
         "type": "\"string\""
        }
       ],
       "type": "table"
      }
     },
     "output_type": "display_data"
    }
   ],
   "source": [
    "# Display the final DataFrame\n",
    "display(final_df)"
   ]
  },
  {
   "cell_type": "markdown",
   "metadata": {
    "application/vnd.databricks.v1+cell": {
     "cellMetadata": {},
     "inputWidgets": {},
     "nuid": "c0c5d0f1-8956-491b-89f8-e61f04e3376a",
     "showTitle": false,
     "tableResultSettingsMap": {},
     "title": ""
    }
   },
   "source": [
    "#Joined View"
   ]
  },
  {
   "cell_type": "code",
   "execution_count": 0,
   "metadata": {
    "application/vnd.databricks.v1+cell": {
     "cellMetadata": {
      "byteLimit": 2048000,
      "rowLimit": 10000
     },
     "inputWidgets": {},
     "nuid": "b6ea77ee-090e-4b38-900e-60711677d714",
     "showTitle": false,
     "tableResultSettingsMap": {},
     "title": ""
    }
   },
   "outputs": [
    {
     "output_type": "display_data",
     "data": {
      "text/html": [
       "<style scoped>\n",
       "  .table-result-container {\n",
       "    max-height: 300px;\n",
       "    overflow: auto;\n",
       "  }\n",
       "  table, th, td {\n",
       "    border: 1px solid black;\n",
       "    border-collapse: collapse;\n",
       "  }\n",
       "  th, td {\n",
       "    padding: 5px;\n",
       "  }\n",
       "  th {\n",
       "    text-align: left;\n",
       "  }\n",
       "</style><div class='table-result-container'><table class='table-result'><thead style='background-color: white'><tr><th>theme</th><th>customer_count</th><th>avg_total_spend</th><th>sample_message</th></tr></thead><tbody><tr><td>Chime Connection Issues</td><td>83</td><td>61.06421052631579</td><td>Chime connection keeps timing out during link.</td></tr><tr><td>App Performance Issues</td><td>79</td><td>30.61263157894736</td><td>The new UI looks clean and easy to use.</td></tr><tr><td>ID Verification Problems</td><td>44</td><td>38.06625</td><td>Stuck in an ID verification loop—keeps askign again.</td></tr><tr><td>Repayment Reminder Frequency</td><td>47</td><td>40.498333333333335</td><td>Way too many repayment reminders this week.</td></tr><tr><td>Advance Approval Denials</td><td>61</td><td>31.414285714285718</td><td>The approval rules are unclear—got rejected again.</td></tr></tbody></table></div>"
      ]
     },
     "metadata": {
      "application/vnd.databricks.v1+output": {
       "addedWidgets": {},
       "aggData": [],
       "aggError": "",
       "aggOverflow": false,
       "aggSchema": [],
       "aggSeriesLimitReached": false,
       "aggType": "",
       "arguments": {},
       "columnCustomDisplayInfos": {},
       "data": [
        [
         "Chime Connection Issues",
         83,
         61.06421052631579,
         "Chime connection keeps timing out during link."
        ],
        [
         "App Performance Issues",
         79,
         30.61263157894736,
         "The new UI looks clean and easy to use."
        ],
        [
         "ID Verification Problems",
         44,
         38.06625,
         "Stuck in an ID verification loop—keeps askign again."
        ],
        [
         "Repayment Reminder Frequency",
         47,
         40.498333333333335,
         "Way too many repayment reminders this week."
        ],
        [
         "Advance Approval Denials",
         61,
         31.414285714285718,
         "The approval rules are unclear—got rejected again."
        ]
       ],
       "datasetInfos": [],
       "dbfsResultPath": null,
       "isJsonSchema": true,
       "metadata": {},
       "overflow": false,
       "plotOptions": {
        "customPlotOptions": {},
        "displayType": "table",
        "pivotAggregation": null,
        "pivotColumns": null,
        "xColumns": null,
        "yColumns": null
       },
       "removedWidgets": [],
       "schema": [
        {
         "metadata": "{}",
         "name": "theme",
         "type": "\"string\""
        },
        {
         "metadata": "{}",
         "name": "customer_count",
         "type": "\"long\""
        },
        {
         "metadata": "{}",
         "name": "avg_total_spend",
         "type": "\"double\""
        },
        {
         "metadata": "{}",
         "name": "sample_message",
         "type": "\"string\""
        }
       ],
       "type": "table"
      }
     },
     "output_type": "display_data"
    }
   ],
   "source": [
    "from pyspark.sql import functions as F\n",
    "from pyspark.sql import Window\n",
    "\n",
    "#Count number of messages per theme\n",
    "theme_counts = final_df.groupBy(\"theme\").agg(\n",
    "    F.count(\"*\").alias(\"customer_count\"),\n",
    "    F.avg(\"total_spend\").alias(\"avg_total_spend\")\n",
    ")\n",
    "\n",
    "#retrieve a sample message per theme\n",
    "window = Window.partitionBy(\"theme\").orderBy(F.rand())  # random sample\n",
    "sample_messages = result_df.withColumn(\"rn\", F.row_number().over(window)) \\\n",
    "                           .filter(F.col(\"rn\") == 1) \\\n",
    "                           .select(\"theme\", F.col(\"message\").alias(\"sample_message\"))\n",
    "\n",
    "#Join counts and sample messages\n",
    "joined_view = theme_counts.join(sample_messages, on=\"theme\", how=\"left\")\n",
    "\n",
    "#Show the joined view\n",
    "display(joined_view)"
   ]
  },
  {
   "cell_type": "markdown",
   "metadata": {
    "application/vnd.databricks.v1+cell": {
     "cellMetadata": {},
     "inputWidgets": {},
     "nuid": "ad2453cb-10dc-4ea0-8f9a-d8f6dd1c38bc",
     "showTitle": false,
     "tableResultSettingsMap": {},
     "title": ""
    }
   },
   "source": [
    "#Theme vs Customer Spend Chart"
   ]
  },
  {
   "cell_type": "code",
   "execution_count": 0,
   "metadata": {
    "application/vnd.databricks.v1+cell": {
     "cellMetadata": {
      "byteLimit": 2048000,
      "rowLimit": 10000
     },
     "inputWidgets": {},
     "nuid": "d8f554a3-8456-46cc-a500-32fb819df595",
     "showTitle": false,
     "tableResultSettingsMap": {},
     "title": ""
    }
   },
   "outputs": [
    {
     "output_type": "display_data",
     "data": {
      "image/png": "[encoded data removed]",
      "text/plain": [
       "<Figure size 1200x600 with 1 Axes>"
      ]
     },
     "metadata": {},
     "output_type": "display_data"
    }
   ],
   "source": [
    "import pandas as pd\n",
    "import seaborn as sns\n",
    "import matplotlib.pyplot as plt\n",
    "\n",
    "#Convert Spark DataFrame to Pandas for plotting\n",
    "pdf = final_df.toPandas()\n",
    "\n",
    "#Count number of messages per theme × subscription tier\n",
    "theme_tier_counts = pdf.groupby(['theme', 'subscription_tier']).size().reset_index(name='count')\n",
    "\n",
    "plt.figure(figsize=(12,6))\n",
    "sns.barplot(\n",
    "    x='theme', \n",
    "    y='count', \n",
    "    hue='subscription_tier', \n",
    "    data=theme_tier_counts, \n",
    ")\n",
    "plt.title('Number of Issues by Theme and Subscription Tier')\n",
    "plt.xlabel('Theme')\n",
    "plt.ylabel('Number of Messages')\n",
    "plt.xticks(rotation=45, ha='right')\n",
    "plt.ylim(0, 18)\n",
    "plt.legend(title='Subscription Tier')\n",
    "plt.tight_layout()\n",
    "plt.show()\n"
   ]
  }
 ],
 "metadata": {
  "application/vnd.databricks.v1+notebook": {
   "computePreferences": null,
   "dashboards": [],
   "environmentMetadata": {
    "base_environment": "",
    "environment_version": "3"
   },
   "inputWidgetPreferences": null,
   "language": "python",
   "notebookMetadata": {
    "mostRecentlyExecutedCommandWithImplicitDF": {
     "commandId": 4772473934124185,
     "dataframes": [
      "_sqldf"
     ]
    },
    "pythonIndentUnit": 4
   },
   "notebookName": "Data Processing and Classification",
   "widgets": {}
  },
  "language_info": {
   "name": "python"
  }
 },
 "nbformat": 4,
 "nbformat_minor": 0
}
